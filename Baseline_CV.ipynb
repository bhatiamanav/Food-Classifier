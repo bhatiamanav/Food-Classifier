{
  "nbformat": 4,
  "nbformat_minor": 0,
  "metadata": {
    "accelerator": "GPU",
    "colab": {
      "name": "Baseline_CV.ipynb",
      "provenance": [],
      "collapsed_sections": []
    },
    "kernelspec": {
      "display_name": "Python 3",
      "language": "python",
      "name": "python3"
    },
    "language_info": {
      "codemirror_mode": {
        "name": "ipython",
        "version": 3
      },
      "file_extension": ".py",
      "mimetype": "text/x-python",
      "name": "python",
      "nbconvert_exporter": "python",
      "pygments_lexer": "ipython3",
      "version": "3.6.9"
    }
  },
  "cells": [
    {
      "cell_type": "markdown",
      "metadata": {
        "id": "OAqF8DSw_5TL"
      },
      "source": [
        "# Getting Started Code for [Chunin Exams Food Track- CV'2021](https://www.aicrowd.com/challenges/chunin-exams-food-track-cv-2021) on AIcrowd\n",
        "#### Author : Pulkit Gera"
      ]
    },
    {
      "cell_type": "markdown",
      "metadata": {
        "id": "0H3J2MVK_5TW"
      },
      "source": [
        "## Download Necessary Packages 📚"
      ]
    },
    {
      "cell_type": "markdown",
      "metadata": {
        "id": "D5L6NxEe_5TZ"
      },
      "source": [
        "## Download Data\n",
        "The first step is to download out train test data. We will be training a model on the train data and make predictions on test data. We submit our predictions.\n"
      ]
    },
    {
      "cell_type": "code",
      "metadata": {
        "id": "8NwyXyca_5Ta",
        "colab": {
          "base_uri": "https://localhost:8080/"
        },
        "outputId": "0389d70b-3976-4f0e-854e-8889513b8263"
      },
      "source": [
        "from google.colab import drive\n",
        "\n",
        "drive.mount('/content/drive')"
      ],
      "execution_count": 1,
      "outputs": [
        {
          "output_type": "stream",
          "text": [
            "Mounted at /content/drive\n"
          ],
          "name": "stdout"
        }
      ]
    },
    {
      "cell_type": "code",
      "metadata": {
        "id": "INpUYafZptmi"
      },
      "source": [
        "import glob\n",
        "import matplotlib.pyplot as plt\n",
        "import numpy as np\n",
        "import cv2\n",
        "import torch\n",
        "from tqdm import tqdm\n",
        "import torch.optim as optim\n",
        "from torch.utils.data import TensorDataset, DataLoader, Dataset\n",
        "import torchvision.transforms as transforms\n",
        "from sklearn import preprocessing\n",
        "import pandas as pd\n",
        "import os\n",
        "from torch.utils.data.sampler import SubsetRandomSampler\n",
        "from torch.utils.data import Dataset, TensorDataset, DataLoader\n",
        "\n",
        "class FoodData(Dataset):\n",
        "    def __init__(self,data_list,data_dir = './',transform=None,train=True):\n",
        "        super().__init__()\n",
        "        self.data_list = data_list\n",
        "        self.data_dir = data_dir\n",
        "        self.transform = transform\n",
        "        self.train = train\n",
        "    \n",
        "    def __len__(self):\n",
        "        return self.data_list.shape[0]\n",
        "    \n",
        "    def dispImg(self, item):\n",
        "        if self.train:\n",
        "            img_name,label = self.data_list.iloc[item]\n",
        "        else:\n",
        "            img_name = self.data_list.iloc[item]['ImageId']\n",
        "        img_path = os.path.join(self.data_dir,img_name)\n",
        "        img = cv2.imread(img_path,1)\n",
        "        plt.imshow(img)\n",
        "    \n",
        "    def __getitem__(self,item):\n",
        "        if self.train:\n",
        "            img_name,label = self.data_list.iloc[item]\n",
        "        else:\n",
        "            img_name = self.data_list.iloc[item]['ImageId']\n",
        "        img_path = os.path.join(self.data_dir,img_name)\n",
        "        img = cv2.imread(img_path,1)\n",
        "        img = cv2.resize(img,(256,256))\n",
        "        if self.transform is not None:\n",
        "            img = self.transform(img)\n",
        "        if self.train:\n",
        "            return {\n",
        "              'gt' : img,\n",
        "              'label' : torch.tensor(label)\n",
        "\n",
        "          }\n",
        "        else:\n",
        "            return {\n",
        "              'gt':img\n",
        "          }"
      ],
      "execution_count": 2,
      "outputs": []
    },
    {
      "cell_type": "code",
      "metadata": {
        "id": "wyptJEUyqEmX"
      },
      "source": [
        "batch = 128\n",
        "train_file = pd.read_csv('/content/drive/My Drive/train.csv')\n",
        "test_file = pd.read_csv('/content/drive/My Drive/test.csv')\n",
        "enc = preprocessing.LabelEncoder()\n",
        "targets = enc.fit_transform(train_file['ClassName'])\n",
        "train_path = \"/content/drive/My Drive/train_images/train_images\"\n",
        "test_path = \"/content/drive/My Drive/test_images/test_images\"\n",
        "train_images = []\n",
        "test_images = []"
      ],
      "execution_count": 3,
      "outputs": []
    },
    {
      "cell_type": "code",
      "metadata": {
        "id": "iG3sQergtyUS"
      },
      "source": [
        "def aug_transforms(option,test_file,test_path,trainFlag):\n",
        "    if (option==1):\n",
        "        transforms_test = transforms.Compose([\n",
        "            transforms.ToPILImage(),\n",
        "            transforms.ToTensor(),\n",
        "            transforms.Normalize((0.5,0.5,0.5) , (0.5,0.5,0.5))\n",
        "        ])\n",
        "    if (option==2):\n",
        "        transforms_test = transforms.Compose([\n",
        "            transforms.ToPILImage(),\n",
        "            transforms.ToTensor(),\n",
        "            transforms.Normalize((0.5,0.5,0.5) , (0.5,0.5,0.5)),\n",
        "            transforms.ColorJitter(),\n",
        "            transforms.RandomRotation(10,fill=(0,)),\n",
        "            transforms.RandomHorizontalFlip(p=0.5),\n",
        "            transforms.RandomVerticalFlip(p=0.5),\n",
        "            transforms.RandomAffine(10,translate=(0.2,0.4))\n",
        "        ])\n",
        "    test_data = FoodData(data_list= test_file,data_dir = test_path,transform = transforms_test,train=trainFlag)\n",
        "    \n",
        "    return test_data\n",
        "test_data = aug_transforms(1,test_file,test_path,False)\n",
        "test_loader = DataLoader(test_data, batch_size=batch, shuffle=False)"
      ],
      "execution_count": 4,
      "outputs": []
    },
    {
      "cell_type": "code",
      "metadata": {
        "id": "EVTotgl4tyUT"
      },
      "source": [
        "ntrain = train_file\n",
        "ntrain['ClassName'] = targets\n",
        "\n",
        "train_data = aug_transforms(1,ntrain,train_path,True)"
      ],
      "execution_count": 5,
      "outputs": []
    },
    {
      "cell_type": "code",
      "metadata": {
        "colab": {
          "base_uri": "https://localhost:8080/",
          "height": 796
        },
        "id": "gcUHszDnx6Hm",
        "outputId": "6228e852-55d7-49e0-e4c4-87c809c44f90"
      },
      "source": [
        "num = train_file['ClassName'].value_counts()\n",
        "classes = train_file['ClassName'].unique()\n",
        "print(\"Percentage of each class\")\n",
        "print (str(len(classes))+\" classes from a total of \"+str(train_file.shape[0])+ \" images\")\n",
        "# print (num.index)\n",
        "num.sort_values()\n",
        "new_num = num[:10][::-1]\n",
        "plt.figure(figsize=(10,10))\n",
        "plt.barh(enc.inverse_transform(new_num.index),new_num.values)\n",
        "plt.show()\n",
        "\n",
        "for cl in classes[:10]:\n",
        "    perc = num[cl]/ntrain.shape[0]*100\n",
        "    print(cl,'\\t',float(round(perc,2)),\"%\")"
      ],
      "execution_count": 6,
      "outputs": [
        {
          "output_type": "stream",
          "text": [
            "Percentage of each class\n",
            "61 classes from a total of 9323 images\n"
          ],
          "name": "stdout"
        },
        {
          "output_type": "display_data",
          "data": {
            "image/png": "[encoded data removed]",
            "text/plain": [
              "<Figure size 720x720 with 1 Axes>"
            ]
          },
          "metadata": {
            "tags": [],
            "needs_background": "light"
          }
        },
        {
          "output_type": "stream",
          "text": [
            "55 \t 9.26 %\n",
            "41 \t 1.18 %\n",
            "12 \t 0.9 %\n",
            "44 \t 5.74 %\n",
            "23 \t 2.24 %\n",
            "13 \t 3.71 %\n",
            "9 \t 6.38 %\n",
            "1 \t 2.05 %\n",
            "22 \t 0.94 %\n",
            "57 \t 1.31 %\n"
          ],
          "name": "stdout"
        }
      ]
    },
    {
      "cell_type": "code",
      "metadata": {
        "colab": {
          "base_uri": "https://localhost:8080/",
          "height": 269
        },
        "id": "-G96OHFFtyUU",
        "outputId": "5a9ff21b-ff5d-426b-bfd2-9659bd39684d"
      },
      "source": [
        "train_data.dispImg(0)"
      ],
      "execution_count": 7,
      "outputs": [
        {
          "output_type": "display_data",
          "data": {
            "image/png": "[encoded data removed]",
            "text/plain": [
              "<Figure size 432x288 with 1 Axes>"
            ]
          },
          "metadata": {
            "tags": [],
            "needs_background": "light"
          }
        }
      ]
    },
    {
      "cell_type": "code",
      "metadata": {
        "id": "x-laC88gVZYw"
      },
      "source": [
        "valid_size = 0.2\n",
        "indices = list(range(len(train_data)))\n",
        "np.random.shuffle(indices)\n",
        "split = int(valid_size*len(train_data))\n",
        "train_idx= indices[split:]\n",
        "valid_idx = indices[:split]\n",
        "\n",
        "train_sampler = SubsetRandomSampler(train_idx)\n",
        "valid_sampler = SubsetRandomSampler(valid_idx)\n",
        "\n",
        "train_loader = DataLoader(train_data, batch_size = batch, sampler = train_sampler)\n",
        "valid_loader = DataLoader(train_data, batch_size = batch, sampler = valid_sampler)"
      ],
      "execution_count": 8,
      "outputs": []
    },
    {
      "cell_type": "code",
      "metadata": {
        "colab": {
          "base_uri": "https://localhost:8080/"
        },
        "id": "DpZF0Y3tVZtk",
        "outputId": "d3536546-9fab-425b-b1d4-d61a758c551d"
      },
      "source": [
        "device = torch.device(\"cuda:0\" if torch.cuda.is_available() else \"cpu\")\n",
        "print(device)"
      ],
      "execution_count": 9,
      "outputs": [
        {
          "output_type": "stream",
          "text": [
            "cuda:0\n"
          ],
          "name": "stdout"
        }
      ]
    },
    {
      "cell_type": "code",
      "metadata": {
        "id": "DRiYDgtNVZzT",
        "colab": {
          "base_uri": "https://localhost:8080/"
        },
        "outputId": "d7a3f269-4cc2-43e9-d82a-2a9e25fca267"
      },
      "source": [
        "### Basic model\n",
        "\n",
        "import torch.nn as nn\n",
        "import torch.nn.functional as F\n",
        "\n",
        "class Net(nn.Module):\n",
        "  # Define layers here\n",
        "    def __init__(self):\n",
        "        super(Net, self).__init__()\n",
        "        self.conv1 = nn.Conv2d(3, 6, 5)\n",
        "        self.pool1 = nn.MaxPool2d(2, 2)\n",
        "        self.conv2 = nn.Conv2d(6, 16, 5)\n",
        "        self.pool2 = nn.MaxPool2d(2, 2)\n",
        "        self.conv3 = nn.Conv2d(16*61*61,120,1)\n",
        "        self.fc1 = nn.Linear(16 * 61 * 61, 120)\n",
        "        self.fc2 = nn.Linear(120, 84)\n",
        "        self.fc3 = nn.Linear(84, 61)\n",
        "    \n",
        "    def forward(self, x):\n",
        "      # Forward pass\n",
        "        x = F.relu(self.conv1(x))\n",
        "        x = self.pool1(x)\n",
        "        x = F.relu(self.conv2(x))\n",
        "        x = self.pool2(x)\n",
        "#         x = F.relu(self.conv3(x))\n",
        "        x = x.view(-1, 16*61*61)\n",
        "        x = F.relu(self.fc1(x))\n",
        "        x = F.relu(self.fc2(x))\n",
        "        x = self.fc3(x)\n",
        "        return x\n",
        "\n",
        "model = Net().to(device)\n",
        "error = nn.CrossEntropyLoss().to(device)\n",
        "optimizer = optim.Adam(model.parameters())\n",
        "print (model)"
      ],
      "execution_count": 10,
      "outputs": [
        {
          "output_type": "stream",
          "text": [
            "Net(\n",
            "  (conv1): Conv2d(3, 6, kernel_size=(5, 5), stride=(1, 1))\n",
            "  (pool1): MaxPool2d(kernel_size=2, stride=2, padding=0, dilation=1, ceil_mode=False)\n",
            "  (conv2): Conv2d(6, 16, kernel_size=(5, 5), stride=(1, 1))\n",
            "  (pool2): MaxPool2d(kernel_size=2, stride=2, padding=0, dilation=1, ceil_mode=False)\n",
            "  (conv3): Conv2d(59536, 120, kernel_size=(1, 1), stride=(1, 1))\n",
            "  (fc1): Linear(in_features=59536, out_features=120, bias=True)\n",
            "  (fc2): Linear(in_features=120, out_features=84, bias=True)\n",
            "  (fc3): Linear(in_features=84, out_features=61, bias=True)\n",
            ")\n"
          ],
          "name": "stdout"
        }
      ]
    },
    {
      "cell_type": "code",
      "metadata": {
        "id": "84OLE1DMtyUW"
      },
      "source": [
        "def process_img_target(images,device):\n",
        "    data = images['gt'].squeeze(0).to(device)\n",
        "    target = images['label'].to(device)\n",
        "    return data,target"
      ],
      "execution_count": 11,
      "outputs": []
    },
    {
      "cell_type": "code",
      "metadata": {
        "colab": {
          "base_uri": "https://localhost:8080/"
        },
        "id": "rQbNVkk5VZ2B",
        "outputId": "5b294ac8-f323-4f81-c56c-acad5776ebfd"
      },
      "source": [
        "n_epochs = 3\n",
        "train_losses = []\n",
        "valid_losses = []\n",
        "\n",
        "def train(model,optimizer,device,valid_loss_min,train_losses,valid_losses):\n",
        "    for epoch in range(n_epochs):\n",
        "        train_loss = 0.0\n",
        "        valid_loss = 0.0\n",
        "\n",
        "        train_size = len(train_loader.sampler)\n",
        "        valid_size = len(valid_loader.sampler)\n",
        "\n",
        "        model.train()\n",
        "        print (\"Training here...\\n\")\n",
        "        for images in tqdm(train_loader):\n",
        "            data,target = process_img_target(images,device)\n",
        "            optimizer.zero_grad()\n",
        "            output = model(data)\n",
        "            loss = error(output,target)\n",
        "            loss.backward()\n",
        "            optimizer.step()\n",
        "            loss_shape = data.size(0)\n",
        "            train_loss += loss.item()*loss_shape \n",
        "        model.eval()\n",
        "        print (\"Validation here...\\n\")\n",
        "        for images in tqdm(valid_loader):\n",
        "            data,target = process_img_target(images,device)\n",
        "            output = model(data)\n",
        "            loss = error(output, target)\n",
        "            loss_shape = data.size(0)\n",
        "            valid_loss += loss.item()*loss_shape\n",
        "\n",
        "        train_loss = train_loss/train_size\n",
        "        valid_loss = valid_loss/valid_size\n",
        "\n",
        "        train_losses.append(train_loss)\n",
        "        valid_losses.append(valid_loss)\n",
        "\n",
        "        print('Epoch: ',epoch,'\\tTraining Loss: {:.6f} \\tValidation Loss: {:.6f}'.format(train_loss, valid_loss))\n",
        "\n",
        "        if valid_loss <= valid_loss_min:\n",
        "            valid_loss_min = valid_loss\n",
        "            torch.save(model.state_dict(), 'best_model_so_far.pth')\n",
        "\n",
        "train(model,optimizer,device,np.Inf,[],[])"
      ],
      "execution_count": 12,
      "outputs": [
        {
          "output_type": "stream",
          "text": [
            "\r  0%|          | 0/59 [00:00<?, ?it/s]"
          ],
          "name": "stderr"
        },
        {
          "output_type": "stream",
          "text": [
            "Training here...\n",
            "\n"
          ],
          "name": "stdout"
        },
        {
          "output_type": "stream",
          "text": [
            "100%|██████████| 59/59 [29:33<00:00, 30.06s/it]\n",
            "  0%|          | 0/15 [00:00<?, ?it/s]"
          ],
          "name": "stderr"
        },
        {
          "output_type": "stream",
          "text": [
            "Validation here...\n",
            "\n"
          ],
          "name": "stdout"
        },
        {
          "output_type": "stream",
          "text": [
            "100%|██████████| 15/15 [07:32<00:00, 30.19s/it]\n",
            "  0%|          | 0/59 [00:00<?, ?it/s]"
          ],
          "name": "stderr"
        },
        {
          "output_type": "stream",
          "text": [
            "Epoch:  0 \tTraining Loss: 3.777477 \tValidation Loss: 3.528793\n",
            "Training here...\n",
            "\n"
          ],
          "name": "stdout"
        },
        {
          "output_type": "stream",
          "text": [
            "100%|██████████| 59/59 [01:16<00:00,  1.30s/it]\n",
            "  0%|          | 0/15 [00:00<?, ?it/s]"
          ],
          "name": "stderr"
        },
        {
          "output_type": "stream",
          "text": [
            "Validation here...\n",
            "\n"
          ],
          "name": "stdout"
        },
        {
          "output_type": "stream",
          "text": [
            "100%|██████████| 15/15 [00:18<00:00,  1.21s/it]\n",
            "  0%|          | 0/59 [00:00<?, ?it/s]"
          ],
          "name": "stderr"
        },
        {
          "output_type": "stream",
          "text": [
            "Epoch:  1 \tTraining Loss: 3.383483 \tValidation Loss: 3.288016\n",
            "Training here...\n",
            "\n"
          ],
          "name": "stdout"
        },
        {
          "output_type": "stream",
          "text": [
            "100%|██████████| 59/59 [01:15<00:00,  1.27s/it]\n",
            "  0%|          | 0/15 [00:00<?, ?it/s]"
          ],
          "name": "stderr"
        },
        {
          "output_type": "stream",
          "text": [
            "Validation here...\n",
            "\n"
          ],
          "name": "stdout"
        },
        {
          "output_type": "stream",
          "text": [
            "100%|██████████| 15/15 [00:18<00:00,  1.21s/it]"
          ],
          "name": "stderr"
        },
        {
          "output_type": "stream",
          "text": [
            "Epoch:  2 \tTraining Loss: 3.118461 \tValidation Loss: 3.148541\n"
          ],
          "name": "stdout"
        },
        {
          "output_type": "stream",
          "text": [
            "\n"
          ],
          "name": "stderr"
        }
      ]
    },
    {
      "cell_type": "code",
      "metadata": {
        "id": "Wl_SgB5au5Rq"
      },
      "source": [
        "def test(model):\n",
        "    model.load_state_dict(torch.load('best_model_so_far.pth'))\n",
        "    model.eval()\n",
        "    pred_list = []\n",
        "    correct_list = []\n",
        "    with torch.no_grad():\n",
        "        for images in valid_loader:\n",
        "            data,target = process_img_target(images,device)\n",
        "            outputs = model(data)\n",
        "            _, predicted = torch.max(outputs.data, 1)\n",
        "            pr = predicted.detach().cpu().numpy()\n",
        "            for i in pr:\n",
        "                pred_list.append(i)\n",
        "            tg = target.detach().cpu().numpy()\n",
        "            for i in tg:\n",
        "                correct_list.append(i)\n",
        "    return correct_list,pred_list\n",
        "correct_list, pred_list = test(model)"
      ],
      "execution_count": 13,
      "outputs": []
    },
    {
      "cell_type": "code",
      "metadata": {
        "colab": {
          "base_uri": "https://localhost:8080/"
        },
        "id": "jGvMxqDjvOGU",
        "outputId": "d62211c4-751f-42e4-8397-d293fa52f402"
      },
      "source": [
        "from sklearn.metrics import f1_score \n",
        "print(\"F1 score :\",f1_score(correct_list,pred_list,average='micro'))"
      ],
      "execution_count": 14,
      "outputs": [
        {
          "output_type": "stream",
          "text": [
            "F1 score : 0.22103004291845493\n"
          ],
          "name": "stdout"
        }
      ]
    },
    {
      "cell_type": "markdown",
      "metadata": {
        "id": "yhHvWvbNvWCu"
      },
      "source": [
        "## With different optimizer"
      ]
    },
    {
      "cell_type": "markdown",
      "metadata": {
        "id": "xMuTaDBktyUY"
      },
      "source": [
        "### SGD"
      ]
    },
    {
      "cell_type": "code",
      "metadata": {
        "colab": {
          "base_uri": "https://localhost:8080/"
        },
        "id": "hp77VT8atyUY",
        "outputId": "6bb1e7df-2ba3-4636-d923-ac1c7cea1f15"
      },
      "source": [
        "optimizer2 = optim.SGD(model.parameters(),lr=0.01, momentum=0.9)\n",
        "train(model,optimizer2,device,np.Inf,[],[])\n",
        "correct_list1, pred_list1 = test(model)\n",
        "print(\"F1 score :\",f1_score(correct_list1,pred_list1,average='micro'))"
      ],
      "execution_count": 15,
      "outputs": [
        {
          "output_type": "stream",
          "text": [
            "\r  0%|          | 0/59 [00:00<?, ?it/s]"
          ],
          "name": "stderr"
        },
        {
          "output_type": "stream",
          "text": [
            "Training here...\n",
            "\n"
          ],
          "name": "stdout"
        },
        {
          "output_type": "stream",
          "text": [
            "100%|██████████| 59/59 [01:15<00:00,  1.28s/it]\n",
            "  0%|          | 0/15 [00:00<?, ?it/s]"
          ],
          "name": "stderr"
        },
        {
          "output_type": "stream",
          "text": [
            "Validation here...\n",
            "\n"
          ],
          "name": "stdout"
        },
        {
          "output_type": "stream",
          "text": [
            "100%|██████████| 15/15 [00:18<00:00,  1.23s/it]\n",
            "  0%|          | 0/59 [00:00<?, ?it/s]"
          ],
          "name": "stderr"
        },
        {
          "output_type": "stream",
          "text": [
            "Epoch:  0 \tTraining Loss: 3.522755 \tValidation Loss: 3.379089\n",
            "Training here...\n",
            "\n"
          ],
          "name": "stdout"
        },
        {
          "output_type": "stream",
          "text": [
            "100%|██████████| 59/59 [01:16<00:00,  1.31s/it]\n",
            "  0%|          | 0/15 [00:00<?, ?it/s]"
          ],
          "name": "stderr"
        },
        {
          "output_type": "stream",
          "text": [
            "Validation here...\n",
            "\n"
          ],
          "name": "stdout"
        },
        {
          "output_type": "stream",
          "text": [
            "100%|██████████| 15/15 [00:18<00:00,  1.23s/it]\n",
            "  0%|          | 0/59 [00:00<?, ?it/s]"
          ],
          "name": "stderr"
        },
        {
          "output_type": "stream",
          "text": [
            "Epoch:  1 \tTraining Loss: 3.048353 \tValidation Loss: 3.421443\n",
            "Training here...\n",
            "\n"
          ],
          "name": "stdout"
        },
        {
          "output_type": "stream",
          "text": [
            "100%|██████████| 59/59 [01:16<00:00,  1.30s/it]\n",
            "  0%|          | 0/15 [00:00<?, ?it/s]"
          ],
          "name": "stderr"
        },
        {
          "output_type": "stream",
          "text": [
            "Validation here...\n",
            "\n"
          ],
          "name": "stdout"
        },
        {
          "output_type": "stream",
          "text": [
            "100%|██████████| 15/15 [00:18<00:00,  1.24s/it]\n"
          ],
          "name": "stderr"
        },
        {
          "output_type": "stream",
          "text": [
            "Epoch:  2 \tTraining Loss: 2.766572 \tValidation Loss: 3.267820\n",
            "F1 score : 0.20332618025751073\n"
          ],
          "name": "stdout"
        }
      ]
    },
    {
      "cell_type": "markdown",
      "metadata": {
        "id": "oncS5ncityUZ"
      },
      "source": [
        "### AdaGrad"
      ]
    },
    {
      "cell_type": "code",
      "metadata": {
        "colab": {
          "base_uri": "https://localhost:8080/"
        },
        "id": "MFcjBNMatyUZ",
        "outputId": "3d3cf2d1-4d64-467f-aa1b-a761fbc07554"
      },
      "source": [
        "optimizer3 = optim.Adagrad(model.parameters(),lr=0.01,lr_decay=0)\n",
        "train(model,optimizer3,device,np.Inf,[],[])\n",
        "correct_list2, pred_list2 = test(model)\n",
        "print(\"F1 score :\",f1_score(correct_list2,pred_list2,average='micro'))"
      ],
      "execution_count": 16,
      "outputs": [
        {
          "output_type": "stream",
          "text": [
            "\r  0%|          | 0/59 [00:00<?, ?it/s]"
          ],
          "name": "stderr"
        },
        {
          "output_type": "stream",
          "text": [
            "Training here...\n",
            "\n"
          ],
          "name": "stdout"
        },
        {
          "output_type": "stream",
          "text": [
            "100%|██████████| 59/59 [01:17<00:00,  1.31s/it]\n",
            "  0%|          | 0/15 [00:00<?, ?it/s]"
          ],
          "name": "stderr"
        },
        {
          "output_type": "stream",
          "text": [
            "Validation here...\n",
            "\n"
          ],
          "name": "stdout"
        },
        {
          "output_type": "stream",
          "text": [
            "100%|██████████| 15/15 [00:18<00:00,  1.23s/it]\n",
            "  0%|          | 0/59 [00:00<?, ?it/s]"
          ],
          "name": "stderr"
        },
        {
          "output_type": "stream",
          "text": [
            "Epoch:  0 \tTraining Loss: 3.496264 \tValidation Loss: 3.416125\n",
            "Training here...\n",
            "\n"
          ],
          "name": "stdout"
        },
        {
          "output_type": "stream",
          "text": [
            "100%|██████████| 59/59 [01:16<00:00,  1.30s/it]\n",
            "  0%|          | 0/15 [00:00<?, ?it/s]"
          ],
          "name": "stderr"
        },
        {
          "output_type": "stream",
          "text": [
            "Validation here...\n",
            "\n"
          ],
          "name": "stdout"
        },
        {
          "output_type": "stream",
          "text": [
            "100%|██████████| 15/15 [00:18<00:00,  1.23s/it]\n",
            "  0%|          | 0/59 [00:00<?, ?it/s]"
          ],
          "name": "stderr"
        },
        {
          "output_type": "stream",
          "text": [
            "Epoch:  1 \tTraining Loss: 2.213142 \tValidation Loss: 3.467013\n",
            "Training here...\n",
            "\n"
          ],
          "name": "stdout"
        },
        {
          "output_type": "stream",
          "text": [
            "100%|██████████| 59/59 [01:16<00:00,  1.29s/it]\n",
            "  0%|          | 0/15 [00:00<?, ?it/s]"
          ],
          "name": "stderr"
        },
        {
          "output_type": "stream",
          "text": [
            "Validation here...\n",
            "\n"
          ],
          "name": "stdout"
        },
        {
          "output_type": "stream",
          "text": [
            "100%|██████████| 15/15 [00:18<00:00,  1.23s/it]\n"
          ],
          "name": "stderr"
        },
        {
          "output_type": "stream",
          "text": [
            "Epoch:  2 \tTraining Loss: 1.547179 \tValidation Loss: 3.883711\n",
            "F1 score : 0.20600858369098712\n"
          ],
          "name": "stdout"
        }
      ]
    },
    {
      "cell_type": "markdown",
      "metadata": {
        "id": "ZpEx2-bstyUZ"
      },
      "source": [
        "### RMSprop"
      ]
    },
    {
      "cell_type": "code",
      "metadata": {
        "colab": {
          "base_uri": "https://localhost:8080/"
        },
        "id": "SwAlbPUGtyUZ",
        "outputId": "c6b6c7d5-b985-4337-d91f-0dbdd5d2b1a0"
      },
      "source": [
        "optimizer4 = optim.Adagrad(model.parameters())\n",
        "train(model,optimizer4,device,np.Inf,[],[])\n",
        "correct_list3, pred_list3 = test(model)\n",
        "print(\"F1 score :\",f1_score(correct_list3,pred_list3,average='micro'))"
      ],
      "execution_count": 17,
      "outputs": [
        {
          "output_type": "stream",
          "text": [
            "\r  0%|          | 0/59 [00:00<?, ?it/s]"
          ],
          "name": "stderr"
        },
        {
          "output_type": "stream",
          "text": [
            "Training here...\n",
            "\n"
          ],
          "name": "stdout"
        },
        {
          "output_type": "stream",
          "text": [
            "100%|██████████| 59/59 [01:16<00:00,  1.29s/it]\n",
            "  0%|          | 0/15 [00:00<?, ?it/s]"
          ],
          "name": "stderr"
        },
        {
          "output_type": "stream",
          "text": [
            "Validation here...\n",
            "\n"
          ],
          "name": "stdout"
        },
        {
          "output_type": "stream",
          "text": [
            "100%|██████████| 15/15 [00:18<00:00,  1.23s/it]\n",
            "  0%|          | 0/59 [00:00<?, ?it/s]"
          ],
          "name": "stderr"
        },
        {
          "output_type": "stream",
          "text": [
            "Epoch:  0 \tTraining Loss: 2.861911 \tValidation Loss: 3.459856\n",
            "Training here...\n",
            "\n"
          ],
          "name": "stdout"
        },
        {
          "output_type": "stream",
          "text": [
            "100%|██████████| 59/59 [01:16<00:00,  1.30s/it]\n",
            "  0%|          | 0/15 [00:00<?, ?it/s]"
          ],
          "name": "stderr"
        },
        {
          "output_type": "stream",
          "text": [
            "Validation here...\n",
            "\n"
          ],
          "name": "stdout"
        },
        {
          "output_type": "stream",
          "text": [
            "100%|██████████| 15/15 [00:18<00:00,  1.22s/it]\n",
            "  0%|          | 0/59 [00:00<?, ?it/s]"
          ],
          "name": "stderr"
        },
        {
          "output_type": "stream",
          "text": [
            "Epoch:  1 \tTraining Loss: 1.603665 \tValidation Loss: 3.992379\n",
            "Training here...\n",
            "\n"
          ],
          "name": "stdout"
        },
        {
          "output_type": "stream",
          "text": [
            "100%|██████████| 59/59 [01:16<00:00,  1.29s/it]\n",
            "  0%|          | 0/15 [00:00<?, ?it/s]"
          ],
          "name": "stderr"
        },
        {
          "output_type": "stream",
          "text": [
            "Validation here...\n",
            "\n"
          ],
          "name": "stdout"
        },
        {
          "output_type": "stream",
          "text": [
            "100%|██████████| 15/15 [00:18<00:00,  1.22s/it]\n"
          ],
          "name": "stderr"
        },
        {
          "output_type": "stream",
          "text": [
            "Epoch:  2 \tTraining Loss: 0.849542 \tValidation Loss: 4.480363\n",
            "F1 score : 0.21244635193133046\n"
          ],
          "name": "stdout"
        }
      ]
    },
    {
      "cell_type": "markdown",
      "metadata": {
        "id": "gYXBrl9TtyUa"
      },
      "source": [
        "## With different pooling strategies"
      ]
    },
    {
      "cell_type": "markdown",
      "metadata": {
        "id": "tTTZEGOLtyUa"
      },
      "source": [
        "### Average Pooling instead of Max Pooling"
      ]
    },
    {
      "cell_type": "code",
      "metadata": {
        "colab": {
          "base_uri": "https://localhost:8080/"
        },
        "id": "lsWtzTvgtyUa",
        "outputId": "0844e37e-094d-40b7-fa9d-439e9220130b"
      },
      "source": [
        "class Net1(nn.Module):\n",
        "  # Define layers here\n",
        "    def __init__(self):\n",
        "        super(Net1, self).__init__()\n",
        "        self.conv1 = nn.Conv2d(3, 6, 5)\n",
        "        self.pool1 = nn.AvgPool2d(2, 2)\n",
        "        self.conv2 = nn.Conv2d(6, 16, 5)\n",
        "        self.pool2 = nn.AvgPool2d(2, 2)\n",
        "        self.conv3 = nn.Conv2d(16*61*61,120,1)\n",
        "        self.fc1 = nn.Linear(16 * 61 * 61, 120)\n",
        "        self.fc2 = nn.Linear(120, 84)\n",
        "        self.fc3 = nn.Linear(84, 61)\n",
        "    \n",
        "    def forward(self, x):\n",
        "      # Forward pass\n",
        "        x = F.relu(self.conv1(x))\n",
        "        x = self.pool1(x)\n",
        "        x = F.relu(self.conv2(x))\n",
        "        x = self.pool2(x)\n",
        "#         x = F.relu(self.conv3(x))\n",
        "        x = x.view(-1, 16*61*61)\n",
        "        x = F.relu(self.fc1(x))\n",
        "        x = F.relu(self.fc2(x))\n",
        "        x = self.fc3(x)\n",
        "        return x\n",
        "\n",
        "model1 = Net1().to(device)\n",
        "error = nn.CrossEntropyLoss().to(device)\n",
        "optimizer = optim.Adam(model1.parameters())\n",
        "print (model1)"
      ],
      "execution_count": 18,
      "outputs": [
        {
          "output_type": "stream",
          "text": [
            "Net1(\n",
            "  (conv1): Conv2d(3, 6, kernel_size=(5, 5), stride=(1, 1))\n",
            "  (pool1): AvgPool2d(kernel_size=2, stride=2, padding=0)\n",
            "  (conv2): Conv2d(6, 16, kernel_size=(5, 5), stride=(1, 1))\n",
            "  (pool2): AvgPool2d(kernel_size=2, stride=2, padding=0)\n",
            "  (conv3): Conv2d(59536, 120, kernel_size=(1, 1), stride=(1, 1))\n",
            "  (fc1): Linear(in_features=59536, out_features=120, bias=True)\n",
            "  (fc2): Linear(in_features=120, out_features=84, bias=True)\n",
            "  (fc3): Linear(in_features=84, out_features=61, bias=True)\n",
            ")\n"
          ],
          "name": "stdout"
        }
      ]
    },
    {
      "cell_type": "code",
      "metadata": {
        "colab": {
          "base_uri": "https://localhost:8080/"
        },
        "id": "_lUeAnHWtyUa",
        "outputId": "5be96856-3bdf-4b74-c2ef-25d545f17c07"
      },
      "source": [
        "train(model1,optimizer,device,np.Inf,[],[])\n",
        "correct_list4, pred_list4 = test(model1)\n",
        "print(\"F1 score :\",f1_score(correct_list4,pred_list4,average='micro'))"
      ],
      "execution_count": 19,
      "outputs": [
        {
          "output_type": "stream",
          "text": [
            "\r  0%|          | 0/59 [00:00<?, ?it/s]"
          ],
          "name": "stderr"
        },
        {
          "output_type": "stream",
          "text": [
            "Training here...\n",
            "\n"
          ],
          "name": "stdout"
        },
        {
          "output_type": "stream",
          "text": [
            "100%|██████████| 59/59 [01:15<00:00,  1.29s/it]\n",
            "  0%|          | 0/15 [00:00<?, ?it/s]"
          ],
          "name": "stderr"
        },
        {
          "output_type": "stream",
          "text": [
            "Validation here...\n",
            "\n"
          ],
          "name": "stdout"
        },
        {
          "output_type": "stream",
          "text": [
            "100%|██████████| 15/15 [00:18<00:00,  1.22s/it]\n",
            "  0%|          | 0/59 [00:00<?, ?it/s]"
          ],
          "name": "stderr"
        },
        {
          "output_type": "stream",
          "text": [
            "Epoch:  0 \tTraining Loss: 3.672322 \tValidation Loss: 3.410857\n",
            "Training here...\n",
            "\n"
          ],
          "name": "stdout"
        },
        {
          "output_type": "stream",
          "text": [
            "100%|██████████| 59/59 [01:16<00:00,  1.29s/it]\n",
            "  0%|          | 0/15 [00:00<?, ?it/s]"
          ],
          "name": "stderr"
        },
        {
          "output_type": "stream",
          "text": [
            "Validation here...\n",
            "\n"
          ],
          "name": "stdout"
        },
        {
          "output_type": "stream",
          "text": [
            "100%|██████████| 15/15 [00:18<00:00,  1.21s/it]\n",
            "  0%|          | 0/59 [00:00<?, ?it/s]"
          ],
          "name": "stderr"
        },
        {
          "output_type": "stream",
          "text": [
            "Epoch:  1 \tTraining Loss: 3.275338 \tValidation Loss: 3.224737\n",
            "Training here...\n",
            "\n"
          ],
          "name": "stdout"
        },
        {
          "output_type": "stream",
          "text": [
            "100%|██████████| 59/59 [01:16<00:00,  1.29s/it]\n",
            "  0%|          | 0/15 [00:00<?, ?it/s]"
          ],
          "name": "stderr"
        },
        {
          "output_type": "stream",
          "text": [
            "Validation here...\n",
            "\n"
          ],
          "name": "stdout"
        },
        {
          "output_type": "stream",
          "text": [
            "100%|██████████| 15/15 [00:18<00:00,  1.22s/it]\n"
          ],
          "name": "stderr"
        },
        {
          "output_type": "stream",
          "text": [
            "Epoch:  2 \tTraining Loss: 3.016325 \tValidation Loss: 3.121915\n",
            "F1 score : 0.22424892703862662\n"
          ],
          "name": "stdout"
        }
      ]
    },
    {
      "cell_type": "markdown",
      "metadata": {
        "id": "wFnMnZH8tyUb"
      },
      "source": [
        "## With BatchNorm"
      ]
    },
    {
      "cell_type": "code",
      "metadata": {
        "colab": {
          "base_uri": "https://localhost:8080/"
        },
        "id": "MJm34QUytyUb",
        "outputId": "88322c38-3575-4ea8-e1aa-c568b633cc4c"
      },
      "source": [
        "class Net2(nn.Module):\n",
        "  # Define layers here\n",
        "    def __init__(self):\n",
        "        super(Net2, self).__init__()\n",
        "        self.conv1 = nn.Conv2d(3, 6, 5)\n",
        "        self.pool1 = nn.MaxPool2d(2, 2)\n",
        "        self.conv2 = nn.Conv2d(6, 16, 5)\n",
        "        self.batch= nn.BatchNorm2d(16)\n",
        "        self.pool2 = nn.MaxPool2d(2, 2)\n",
        "        self.fc1 = nn.Linear(16 * 61 * 61, 120)\n",
        "        self.fc2 = nn.Linear(120, 84)\n",
        "        self.fc3 = nn.Linear(84, 61)\n",
        "    \n",
        "    def forward(self, x):\n",
        "      # Forward pass\n",
        "        x = F.relu(self.conv1(x))\n",
        "        x = self.pool1(x)\n",
        "        x = self.conv2(x)\n",
        "        x = F.relu(self.batch(x))\n",
        "        x = self.pool2(x)\n",
        "        x = x.view(-1, 16*61*61)\n",
        "        x = F.relu(self.fc1(x))\n",
        "        x = F.relu(self.fc2(x))\n",
        "        x = self.fc3(x)\n",
        "        return x\n",
        "\n",
        "model2 = Net2().to(device)\n",
        "error = nn.CrossEntropyLoss().to(device)\n",
        "optimizer = optim.Adam(model2.parameters())\n",
        "print (model2)"
      ],
      "execution_count": 20,
      "outputs": [
        {
          "output_type": "stream",
          "text": [
            "Net2(\n",
            "  (conv1): Conv2d(3, 6, kernel_size=(5, 5), stride=(1, 1))\n",
            "  (pool1): MaxPool2d(kernel_size=2, stride=2, padding=0, dilation=1, ceil_mode=False)\n",
            "  (conv2): Conv2d(6, 16, kernel_size=(5, 5), stride=(1, 1))\n",
            "  (batch): BatchNorm2d(16, eps=1e-05, momentum=0.1, affine=True, track_running_stats=True)\n",
            "  (pool2): MaxPool2d(kernel_size=2, stride=2, padding=0, dilation=1, ceil_mode=False)\n",
            "  (fc1): Linear(in_features=59536, out_features=120, bias=True)\n",
            "  (fc2): Linear(in_features=120, out_features=84, bias=True)\n",
            "  (fc3): Linear(in_features=84, out_features=61, bias=True)\n",
            ")\n"
          ],
          "name": "stdout"
        }
      ]
    },
    {
      "cell_type": "code",
      "metadata": {
        "colab": {
          "base_uri": "https://localhost:8080/"
        },
        "id": "hBJsB8yUtyUb",
        "outputId": "17d6a277-4e56-45c2-b348-b0566b0555bb"
      },
      "source": [
        "train(model2,optimizer,device,np.Inf,[],[])\n",
        "correct_list5, pred_list5 = test(model2)\n",
        "print(\"F1 score :\",f1_score(correct_list5,pred_list5,average='micro'))"
      ],
      "execution_count": 21,
      "outputs": [
        {
          "output_type": "stream",
          "text": [
            "\r  0%|          | 0/59 [00:00<?, ?it/s]"
          ],
          "name": "stderr"
        },
        {
          "output_type": "stream",
          "text": [
            "Training here...\n",
            "\n"
          ],
          "name": "stdout"
        },
        {
          "output_type": "stream",
          "text": [
            "100%|██████████| 59/59 [01:15<00:00,  1.28s/it]\n",
            "  0%|          | 0/15 [00:00<?, ?it/s]"
          ],
          "name": "stderr"
        },
        {
          "output_type": "stream",
          "text": [
            "Validation here...\n",
            "\n"
          ],
          "name": "stdout"
        },
        {
          "output_type": "stream",
          "text": [
            "100%|██████████| 15/15 [00:18<00:00,  1.22s/it]\n",
            "  0%|          | 0/59 [00:00<?, ?it/s]"
          ],
          "name": "stderr"
        },
        {
          "output_type": "stream",
          "text": [
            "Epoch:  0 \tTraining Loss: 4.276991 \tValidation Loss: 3.662476\n",
            "Training here...\n",
            "\n"
          ],
          "name": "stdout"
        },
        {
          "output_type": "stream",
          "text": [
            "100%|██████████| 59/59 [01:15<00:00,  1.28s/it]\n",
            "  0%|          | 0/15 [00:00<?, ?it/s]"
          ],
          "name": "stderr"
        },
        {
          "output_type": "stream",
          "text": [
            "Validation here...\n",
            "\n"
          ],
          "name": "stdout"
        },
        {
          "output_type": "stream",
          "text": [
            "100%|██████████| 15/15 [00:18<00:00,  1.21s/it]\n",
            "  0%|          | 0/59 [00:00<?, ?it/s]"
          ],
          "name": "stderr"
        },
        {
          "output_type": "stream",
          "text": [
            "Epoch:  1 \tTraining Loss: 3.445422 \tValidation Loss: 3.361998\n",
            "Training here...\n",
            "\n"
          ],
          "name": "stdout"
        },
        {
          "output_type": "stream",
          "text": [
            "100%|██████████| 59/59 [01:15<00:00,  1.28s/it]\n",
            "  0%|          | 0/15 [00:00<?, ?it/s]"
          ],
          "name": "stderr"
        },
        {
          "output_type": "stream",
          "text": [
            "Validation here...\n",
            "\n"
          ],
          "name": "stdout"
        },
        {
          "output_type": "stream",
          "text": [
            "100%|██████████| 15/15 [00:18<00:00,  1.21s/it]\n"
          ],
          "name": "stderr"
        },
        {
          "output_type": "stream",
          "text": [
            "Epoch:  2 \tTraining Loss: 3.198108 \tValidation Loss: 3.227511\n",
            "F1 score : 0.21512875536480686\n"
          ],
          "name": "stdout"
        }
      ]
    },
    {
      "cell_type": "markdown",
      "metadata": {
        "id": "q6fxZ70dtyUc"
      },
      "source": [
        "## With DropOut"
      ]
    },
    {
      "cell_type": "code",
      "metadata": {
        "colab": {
          "base_uri": "https://localhost:8080/"
        },
        "id": "uJc0oH_ItyUc",
        "outputId": "8242b7ba-fbff-4c03-8146-63d3f127fc0d"
      },
      "source": [
        "class Net3(nn.Module):\n",
        "  # Define layers here\n",
        "    def __init__(self):\n",
        "        super(Net3, self).__init__()\n",
        "        self.conv1 = nn.Conv2d(3, 6, 5)\n",
        "        self.pool1 = nn.MaxPool2d(2, 2)\n",
        "        self.conv2 = nn.Conv2d(6, 16, 5)\n",
        "        self.pool2 = nn.MaxPool2d(2, 2)\n",
        "        self.fc1 = nn.Linear(16 * 61 * 61, 120)\n",
        "        self.dropout = nn.Dropout(0.25)\n",
        "        self.fc2 = nn.Linear(120, 84)\n",
        "        self.fc3 = nn.Linear(84, 61)\n",
        "    \n",
        "    def forward(self, x):\n",
        "      # Forward pass\n",
        "        x = F.relu(self.conv1(x))\n",
        "        x = self.pool1(x)\n",
        "        x = self.conv2(x)\n",
        "        x = F.relu(x)\n",
        "        x = self.pool2(x)\n",
        "        x = x.view(-1, 16*61*61)\n",
        "        x = F.relu(self.fc1(x))\n",
        "        x = self.dropout(x)\n",
        "        x = F.relu(self.fc2(x))\n",
        "        x = self.fc3(x)\n",
        "        return x\n",
        "\n",
        "model3 = Net3().to(device)\n",
        "error = nn.CrossEntropyLoss().to(device)\n",
        "optimizer = optim.Adam(model3.parameters())\n",
        "print (model3)"
      ],
      "execution_count": 22,
      "outputs": [
        {
          "output_type": "stream",
          "text": [
            "Net3(\n",
            "  (conv1): Conv2d(3, 6, kernel_size=(5, 5), stride=(1, 1))\n",
            "  (pool1): MaxPool2d(kernel_size=2, stride=2, padding=0, dilation=1, ceil_mode=False)\n",
            "  (conv2): Conv2d(6, 16, kernel_size=(5, 5), stride=(1, 1))\n",
            "  (pool2): MaxPool2d(kernel_size=2, stride=2, padding=0, dilation=1, ceil_mode=False)\n",
            "  (fc1): Linear(in_features=59536, out_features=120, bias=True)\n",
            "  (dropout): Dropout(p=0.25, inplace=False)\n",
            "  (fc2): Linear(in_features=120, out_features=84, bias=True)\n",
            "  (fc3): Linear(in_features=84, out_features=61, bias=True)\n",
            ")\n"
          ],
          "name": "stdout"
        }
      ]
    },
    {
      "cell_type": "code",
      "metadata": {
        "colab": {
          "base_uri": "https://localhost:8080/"
        },
        "id": "-LiqIMqetyUc",
        "outputId": "83060903-91b4-4cc6-8eaf-61ae772cae6e"
      },
      "source": [
        "train(model3,optimizer,device,np.Inf,[],[])\n",
        "correct_list6, pred_list6 = test(model3)\n",
        "print(\"F1 score :\",f1_score(correct_list6,pred_list6,average='micro'))"
      ],
      "execution_count": 23,
      "outputs": [
        {
          "output_type": "stream",
          "text": [
            "\r  0%|          | 0/59 [00:00<?, ?it/s]"
          ],
          "name": "stderr"
        },
        {
          "output_type": "stream",
          "text": [
            "Training here...\n",
            "\n"
          ],
          "name": "stdout"
        },
        {
          "output_type": "stream",
          "text": [
            "100%|██████████| 59/59 [01:15<00:00,  1.28s/it]\n",
            "  0%|          | 0/15 [00:00<?, ?it/s]"
          ],
          "name": "stderr"
        },
        {
          "output_type": "stream",
          "text": [
            "Validation here...\n",
            "\n"
          ],
          "name": "stdout"
        },
        {
          "output_type": "stream",
          "text": [
            "100%|██████████| 15/15 [00:18<00:00,  1.21s/it]\n",
            "  0%|          | 0/59 [00:00<?, ?it/s]"
          ],
          "name": "stderr"
        },
        {
          "output_type": "stream",
          "text": [
            "Epoch:  0 \tTraining Loss: 3.736603 \tValidation Loss: 3.495693\n",
            "Training here...\n",
            "\n"
          ],
          "name": "stdout"
        },
        {
          "output_type": "stream",
          "text": [
            "100%|██████████| 59/59 [01:15<00:00,  1.27s/it]\n",
            "  0%|          | 0/15 [00:00<?, ?it/s]"
          ],
          "name": "stderr"
        },
        {
          "output_type": "stream",
          "text": [
            "Validation here...\n",
            "\n"
          ],
          "name": "stdout"
        },
        {
          "output_type": "stream",
          "text": [
            "100%|██████████| 15/15 [00:18<00:00,  1.24s/it]\n",
            "  0%|          | 0/59 [00:00<?, ?it/s]"
          ],
          "name": "stderr"
        },
        {
          "output_type": "stream",
          "text": [
            "Epoch:  1 \tTraining Loss: 3.354335 \tValidation Loss: 3.279802\n",
            "Training here...\n",
            "\n"
          ],
          "name": "stdout"
        },
        {
          "output_type": "stream",
          "text": [
            "100%|██████████| 59/59 [01:15<00:00,  1.28s/it]\n",
            "  0%|          | 0/15 [00:00<?, ?it/s]"
          ],
          "name": "stderr"
        },
        {
          "output_type": "stream",
          "text": [
            "Validation here...\n",
            "\n"
          ],
          "name": "stdout"
        },
        {
          "output_type": "stream",
          "text": [
            "100%|██████████| 15/15 [00:18<00:00,  1.21s/it]\n"
          ],
          "name": "stderr"
        },
        {
          "output_type": "stream",
          "text": [
            "Epoch:  2 \tTraining Loss: 3.130481 \tValidation Loss: 3.085606\n",
            "F1 score : 0.23068669527896996\n"
          ],
          "name": "stdout"
        }
      ]
    },
    {
      "cell_type": "markdown",
      "metadata": {
        "id": "zWqLVUbqtyUd"
      },
      "source": [
        "## With different activation functions"
      ]
    },
    {
      "cell_type": "markdown",
      "metadata": {
        "id": "Pa7VGv7vtyUd"
      },
      "source": [
        "### Only Sigmoid"
      ]
    },
    {
      "cell_type": "code",
      "metadata": {
        "colab": {
          "base_uri": "https://localhost:8080/"
        },
        "id": "U1JerrijtyUd",
        "outputId": "6f4b9f48-9b82-45a6-c493-dcc412c6be43"
      },
      "source": [
        "class Net4(nn.Module):\n",
        "  # Define layers here\n",
        "    def __init__(self):\n",
        "        super(Net4, self).__init__()\n",
        "        self.conv1 = nn.Conv2d(3, 6, 5)\n",
        "        self.pool1 = nn.MaxPool2d(2, 2)\n",
        "        self.conv2 = nn.Conv2d(6, 16, 5)\n",
        "        self.pool2 = nn.MaxPool2d(2, 2)\n",
        "        self.fc1 = nn.Linear(16 * 61 * 61, 120)\n",
        "        self.fc2 = nn.Linear(120, 84)\n",
        "        self.fc3 = nn.Linear(84, 61)\n",
        "    \n",
        "    def forward(self, x):\n",
        "      # Forward pass\n",
        "        x = torch.sigmoid(self.conv1(x))\n",
        "        x = self.pool1(x)\n",
        "        x = self.conv2(x)\n",
        "        x = torch.sigmoid(x)\n",
        "        x = self.pool2(x)\n",
        "        x = x.view(-1, 16*61*61)\n",
        "        x = torch.sigmoid(self.fc1(x))\n",
        "        x = torch.sigmoid(self.fc2(x))\n",
        "        x = self.fc3(x)\n",
        "        return x\n",
        "\n",
        "model4 = Net4().to(device)\n",
        "error = nn.CrossEntropyLoss().to(device)\n",
        "optimizer = optim.Adam(model4.parameters())\n",
        "print (model4)"
      ],
      "execution_count": 24,
      "outputs": [
        {
          "output_type": "stream",
          "text": [
            "Net4(\n",
            "  (conv1): Conv2d(3, 6, kernel_size=(5, 5), stride=(1, 1))\n",
            "  (pool1): MaxPool2d(kernel_size=2, stride=2, padding=0, dilation=1, ceil_mode=False)\n",
            "  (conv2): Conv2d(6, 16, kernel_size=(5, 5), stride=(1, 1))\n",
            "  (pool2): MaxPool2d(kernel_size=2, stride=2, padding=0, dilation=1, ceil_mode=False)\n",
            "  (fc1): Linear(in_features=59536, out_features=120, bias=True)\n",
            "  (fc2): Linear(in_features=120, out_features=84, bias=True)\n",
            "  (fc3): Linear(in_features=84, out_features=61, bias=True)\n",
            ")\n"
          ],
          "name": "stdout"
        }
      ]
    },
    {
      "cell_type": "code",
      "metadata": {
        "colab": {
          "base_uri": "https://localhost:8080/"
        },
        "id": "9dxAml1jtyUd",
        "outputId": "6fa7ac29-88a6-4492-af0e-10b910a57158"
      },
      "source": [
        "train(model4,optimizer,device,np.Inf,[],[])\n",
        "correct_list7, pred_list7 = test(model4)\n",
        "print(\"F1 score :\",f1_score(correct_list7,pred_list7,average='micro'))"
      ],
      "execution_count": 25,
      "outputs": [
        {
          "output_type": "stream",
          "text": [
            "\r  0%|          | 0/59 [00:00<?, ?it/s]"
          ],
          "name": "stderr"
        },
        {
          "output_type": "stream",
          "text": [
            "Training here...\n",
            "\n"
          ],
          "name": "stdout"
        },
        {
          "output_type": "stream",
          "text": [
            "100%|██████████| 59/59 [01:14<00:00,  1.27s/it]\n",
            "  0%|          | 0/15 [00:00<?, ?it/s]"
          ],
          "name": "stderr"
        },
        {
          "output_type": "stream",
          "text": [
            "Validation here...\n",
            "\n"
          ],
          "name": "stdout"
        },
        {
          "output_type": "stream",
          "text": [
            "100%|██████████| 15/15 [00:18<00:00,  1.21s/it]\n",
            "  0%|          | 0/59 [00:00<?, ?it/s]"
          ],
          "name": "stderr"
        },
        {
          "output_type": "stream",
          "text": [
            "Epoch:  0 \tTraining Loss: 3.848559 \tValidation Loss: 3.782647\n",
            "Training here...\n",
            "\n"
          ],
          "name": "stdout"
        },
        {
          "output_type": "stream",
          "text": [
            "100%|██████████| 59/59 [01:15<00:00,  1.28s/it]\n",
            "  0%|          | 0/15 [00:00<?, ?it/s]"
          ],
          "name": "stderr"
        },
        {
          "output_type": "stream",
          "text": [
            "Validation here...\n",
            "\n"
          ],
          "name": "stdout"
        },
        {
          "output_type": "stream",
          "text": [
            "100%|██████████| 15/15 [00:18<00:00,  1.21s/it]\n",
            "  0%|          | 0/59 [00:00<?, ?it/s]"
          ],
          "name": "stderr"
        },
        {
          "output_type": "stream",
          "text": [
            "Epoch:  1 \tTraining Loss: 3.791898 \tValidation Loss: 3.780285\n",
            "Training here...\n",
            "\n"
          ],
          "name": "stdout"
        },
        {
          "output_type": "stream",
          "text": [
            "100%|██████████| 59/59 [01:15<00:00,  1.27s/it]\n",
            "  0%|          | 0/15 [00:00<?, ?it/s]"
          ],
          "name": "stderr"
        },
        {
          "output_type": "stream",
          "text": [
            "Validation here...\n",
            "\n"
          ],
          "name": "stdout"
        },
        {
          "output_type": "stream",
          "text": [
            "100%|██████████| 15/15 [00:18<00:00,  1.21s/it]\n"
          ],
          "name": "stderr"
        },
        {
          "output_type": "stream",
          "text": [
            "Epoch:  2 \tTraining Loss: 3.789432 \tValidation Loss: 3.779187\n",
            "F1 score : 0.09227467811158799\n"
          ],
          "name": "stdout"
        }
      ]
    },
    {
      "cell_type": "markdown",
      "metadata": {
        "id": "Ef5cYhcytyUe"
      },
      "source": [
        "### Only tanh"
      ]
    },
    {
      "cell_type": "code",
      "metadata": {
        "colab": {
          "base_uri": "https://localhost:8080/"
        },
        "id": "OWolBcNityUe",
        "outputId": "a032d237-78f0-464e-9ed4-e44d762ebd76"
      },
      "source": [
        "class Net5(nn.Module):\n",
        "  # Define layers here\n",
        "    def __init__(self):\n",
        "        super(Net5, self).__init__()\n",
        "        self.conv1 = nn.Conv2d(3, 6, 5)\n",
        "        self.pool1 = nn.MaxPool2d(2, 2)\n",
        "        self.conv2 = nn.Conv2d(6, 16, 5)\n",
        "        self.pool2 = nn.MaxPool2d(2, 2)\n",
        "        self.fc1 = nn.Linear(16 * 61 * 61, 120)\n",
        "        self.fc2 = nn.Linear(120, 84)\n",
        "        self.fc3 = nn.Linear(84, 61)\n",
        "    \n",
        "    def forward(self, x):\n",
        "      # Forward pass\n",
        "        x = torch.tanh(self.conv1(x))\n",
        "        x = self.pool1(x)\n",
        "        x = self.conv2(x)\n",
        "        x = torch.tanh(x)\n",
        "        x = self.pool2(x)\n",
        "        x = x.view(-1, 16*61*61)\n",
        "        x = torch.tanh(self.fc1(x))\n",
        "        x = torch.tanh(self.fc2(x))\n",
        "        x = self.fc3(x)\n",
        "        return x\n",
        "\n",
        "model5 = Net5().to(device)\n",
        "error = nn.CrossEntropyLoss().to(device)\n",
        "optimizer = optim.Adam(model5.parameters())\n",
        "print (model5)"
      ],
      "execution_count": 26,
      "outputs": [
        {
          "output_type": "stream",
          "text": [
            "Net5(\n",
            "  (conv1): Conv2d(3, 6, kernel_size=(5, 5), stride=(1, 1))\n",
            "  (pool1): MaxPool2d(kernel_size=2, stride=2, padding=0, dilation=1, ceil_mode=False)\n",
            "  (conv2): Conv2d(6, 16, kernel_size=(5, 5), stride=(1, 1))\n",
            "  (pool2): MaxPool2d(kernel_size=2, stride=2, padding=0, dilation=1, ceil_mode=False)\n",
            "  (fc1): Linear(in_features=59536, out_features=120, bias=True)\n",
            "  (fc2): Linear(in_features=120, out_features=84, bias=True)\n",
            "  (fc3): Linear(in_features=84, out_features=61, bias=True)\n",
            ")\n"
          ],
          "name": "stdout"
        }
      ]
    },
    {
      "cell_type": "code",
      "metadata": {
        "colab": {
          "base_uri": "https://localhost:8080/"
        },
        "id": "bs7pTbg_tyUe",
        "outputId": "75c186a4-affc-42ed-c0ed-6fda49158eaa"
      },
      "source": [
        "train(model5,optimizer,device,np.Inf,[],[])\n",
        "correct_list8, pred_list8 = test(model5)\n",
        "print(\"F1 score :\",f1_score(correct_list8,pred_list8,average='micro'))"
      ],
      "execution_count": 27,
      "outputs": [
        {
          "output_type": "stream",
          "text": [
            "\r  0%|          | 0/59 [00:00<?, ?it/s]"
          ],
          "name": "stderr"
        },
        {
          "output_type": "stream",
          "text": [
            "Training here...\n",
            "\n"
          ],
          "name": "stdout"
        },
        {
          "output_type": "stream",
          "text": [
            "100%|██████████| 59/59 [01:15<00:00,  1.28s/it]\n",
            "  0%|          | 0/15 [00:00<?, ?it/s]"
          ],
          "name": "stderr"
        },
        {
          "output_type": "stream",
          "text": [
            "Validation here...\n",
            "\n"
          ],
          "name": "stdout"
        },
        {
          "output_type": "stream",
          "text": [
            "100%|██████████| 15/15 [00:18<00:00,  1.21s/it]\n",
            "  0%|          | 0/59 [00:00<?, ?it/s]"
          ],
          "name": "stderr"
        },
        {
          "output_type": "stream",
          "text": [
            "Epoch:  0 \tTraining Loss: 3.731442 \tValidation Loss: 3.555855\n",
            "Training here...\n",
            "\n"
          ],
          "name": "stdout"
        },
        {
          "output_type": "stream",
          "text": [
            "100%|██████████| 59/59 [01:15<00:00,  1.28s/it]\n",
            "  0%|          | 0/15 [00:00<?, ?it/s]"
          ],
          "name": "stderr"
        },
        {
          "output_type": "stream",
          "text": [
            "Validation here...\n",
            "\n"
          ],
          "name": "stdout"
        },
        {
          "output_type": "stream",
          "text": [
            "100%|██████████| 15/15 [00:18<00:00,  1.20s/it]\n",
            "  0%|          | 0/59 [00:00<?, ?it/s]"
          ],
          "name": "stderr"
        },
        {
          "output_type": "stream",
          "text": [
            "Epoch:  1 \tTraining Loss: 3.412106 \tValidation Loss: 3.280978\n",
            "Training here...\n",
            "\n"
          ],
          "name": "stdout"
        },
        {
          "output_type": "stream",
          "text": [
            "100%|██████████| 59/59 [01:15<00:00,  1.29s/it]\n",
            "  0%|          | 0/15 [00:00<?, ?it/s]"
          ],
          "name": "stderr"
        },
        {
          "output_type": "stream",
          "text": [
            "Validation here...\n",
            "\n"
          ],
          "name": "stdout"
        },
        {
          "output_type": "stream",
          "text": [
            "100%|██████████| 15/15 [00:18<00:00,  1.21s/it]\n"
          ],
          "name": "stderr"
        },
        {
          "output_type": "stream",
          "text": [
            "Epoch:  2 \tTraining Loss: 3.203773 \tValidation Loss: 3.192385\n",
            "F1 score : 0.22210300429184548\n"
          ],
          "name": "stdout"
        }
      ]
    },
    {
      "cell_type": "markdown",
      "metadata": {
        "id": "agHsBkcItyUf"
      },
      "source": [
        "### Only LeakyReLU"
      ]
    },
    {
      "cell_type": "code",
      "metadata": {
        "colab": {
          "base_uri": "https://localhost:8080/"
        },
        "id": "lgKz1GYLtyUf",
        "outputId": "1761208a-3cc8-44bd-b37b-09364f6cc762"
      },
      "source": [
        "class Net6(nn.Module):\n",
        "  # Define layers here\n",
        "    def __init__(self):\n",
        "        super(Net6, self).__init__()\n",
        "        self.conv1 = nn.Conv2d(3, 6, 5)\n",
        "        self.pool1 = nn.MaxPool2d(2, 2)\n",
        "        self.conv2 = nn.Conv2d(6, 16, 5)\n",
        "        self.pool2 = nn.MaxPool2d(2, 2)\n",
        "        self.fc1 = nn.Linear(16 * 61 * 61, 120)\n",
        "        self.fc2 = nn.Linear(120, 84)\n",
        "        self.fc3 = nn.Linear(84, 61)\n",
        "    \n",
        "    def lrelu(self,x):\n",
        "        outx = torch.max(0.2 * x, x)\n",
        "        return outx\n",
        "    \n",
        "    def forward(self, x):\n",
        "      # Forward pass\n",
        "        x = self.lrelu(self.conv1(x))\n",
        "        x = self.pool1(x)\n",
        "        x = self.conv2(x)\n",
        "        x = self.lrelu(x)\n",
        "        x = self.pool2(x)\n",
        "        x = x.view(-1, 16*61*61)\n",
        "        x = self.lrelu(self.fc1(x))\n",
        "        x = self.lrelu(self.fc2(x))\n",
        "        x = self.fc3(x)\n",
        "        return x\n",
        "\n",
        "model6 = Net6().to(device)\n",
        "error = nn.CrossEntropyLoss().to(device)\n",
        "optimizer = optim.Adam(model6.parameters())\n",
        "print (model6)"
      ],
      "execution_count": 28,
      "outputs": [
        {
          "output_type": "stream",
          "text": [
            "Net6(\n",
            "  (conv1): Conv2d(3, 6, kernel_size=(5, 5), stride=(1, 1))\n",
            "  (pool1): MaxPool2d(kernel_size=2, stride=2, padding=0, dilation=1, ceil_mode=False)\n",
            "  (conv2): Conv2d(6, 16, kernel_size=(5, 5), stride=(1, 1))\n",
            "  (pool2): MaxPool2d(kernel_size=2, stride=2, padding=0, dilation=1, ceil_mode=False)\n",
            "  (fc1): Linear(in_features=59536, out_features=120, bias=True)\n",
            "  (fc2): Linear(in_features=120, out_features=84, bias=True)\n",
            "  (fc3): Linear(in_features=84, out_features=61, bias=True)\n",
            ")\n"
          ],
          "name": "stdout"
        }
      ]
    },
    {
      "cell_type": "code",
      "metadata": {
        "colab": {
          "base_uri": "https://localhost:8080/"
        },
        "id": "4qpKZPLEtyUf",
        "outputId": "bbe1a04a-e614-4b90-bece-a74eda220a55"
      },
      "source": [
        "train(model6,optimizer,device,np.Inf,[],[])\n",
        "correct_list9, pred_list9 = test(model6)\n",
        "print(\"F1 score :\",f1_score(correct_list9,pred_list9,average='micro'))"
      ],
      "execution_count": 29,
      "outputs": [
        {
          "output_type": "stream",
          "text": [
            "\r  0%|          | 0/59 [00:00<?, ?it/s]"
          ],
          "name": "stderr"
        },
        {
          "output_type": "stream",
          "text": [
            "Training here...\n",
            "\n"
          ],
          "name": "stdout"
        },
        {
          "output_type": "stream",
          "text": [
            "100%|██████████| 59/59 [01:16<00:00,  1.29s/it]\n",
            "  0%|          | 0/15 [00:00<?, ?it/s]"
          ],
          "name": "stderr"
        },
        {
          "output_type": "stream",
          "text": [
            "Validation here...\n",
            "\n"
          ],
          "name": "stdout"
        },
        {
          "output_type": "stream",
          "text": [
            "100%|██████████| 15/15 [00:18<00:00,  1.22s/it]\n",
            "  0%|          | 0/59 [00:00<?, ?it/s]"
          ],
          "name": "stderr"
        },
        {
          "output_type": "stream",
          "text": [
            "Epoch:  0 \tTraining Loss: 3.602436 \tValidation Loss: 3.267361\n",
            "Training here...\n",
            "\n"
          ],
          "name": "stdout"
        },
        {
          "output_type": "stream",
          "text": [
            "100%|██████████| 59/59 [01:15<00:00,  1.28s/it]\n",
            "  0%|          | 0/15 [00:00<?, ?it/s]"
          ],
          "name": "stderr"
        },
        {
          "output_type": "stream",
          "text": [
            "Validation here...\n",
            "\n"
          ],
          "name": "stdout"
        },
        {
          "output_type": "stream",
          "text": [
            "100%|██████████| 15/15 [00:18<00:00,  1.21s/it]\n",
            "  0%|          | 0/59 [00:00<?, ?it/s]"
          ],
          "name": "stderr"
        },
        {
          "output_type": "stream",
          "text": [
            "Epoch:  1 \tTraining Loss: 3.056517 \tValidation Loss: 3.173267\n",
            "Training here...\n",
            "\n"
          ],
          "name": "stdout"
        },
        {
          "output_type": "stream",
          "text": [
            "100%|██████████| 59/59 [01:15<00:00,  1.29s/it]\n",
            "  0%|          | 0/15 [00:00<?, ?it/s]"
          ],
          "name": "stderr"
        },
        {
          "output_type": "stream",
          "text": [
            "Validation here...\n",
            "\n"
          ],
          "name": "stdout"
        },
        {
          "output_type": "stream",
          "text": [
            "100%|██████████| 15/15 [00:18<00:00,  1.21s/it]\n"
          ],
          "name": "stderr"
        },
        {
          "output_type": "stream",
          "text": [
            "Epoch:  2 \tTraining Loss: 2.568003 \tValidation Loss: 3.117205\n",
            "F1 score : 0.23015021459227467\n"
          ],
          "name": "stdout"
        }
      ]
    },
    {
      "cell_type": "markdown",
      "metadata": {
        "id": "VCgAJV7jtyUg"
      },
      "source": [
        "## Adding new layers"
      ]
    },
    {
      "cell_type": "code",
      "metadata": {
        "colab": {
          "base_uri": "https://localhost:8080/"
        },
        "id": "74rMCLvDtyUg",
        "outputId": "0803be46-b9b6-405a-d58d-2df0cb95785d"
      },
      "source": [
        "class Net7(nn.Module):\n",
        "  # Define layers here\n",
        "    def __init__(self):\n",
        "        super(Net7, self).__init__()\n",
        "        self.conv1 = nn.Conv2d(3, 6, 5)\n",
        "        self.pool1 = nn.MaxPool2d(2, 2)\n",
        "        self.conv2 = nn.Conv2d(6, 16, 5)\n",
        "        self.pool2 = nn.MaxPool2d(2, 2)\n",
        "        self.conv3 = nn.Conv2d(16, 8, 5)\n",
        "        self.pool3 = nn.MaxPool2d(2, 2)\n",
        "        self.fc1 = nn.Linear(8 * 28 * 28, 120)\n",
        "        self.fc2 = nn.Linear(120, 100)\n",
        "        self.fc3 = nn.Linear(100, 84)\n",
        "        self.fc4 = nn.Linear(84, 61)\n",
        "    \n",
        "    def forward(self, x):\n",
        "      # Forward pass\n",
        "        x = F.relu(self.conv1(x))\n",
        "        x = self.pool1(x)\n",
        "        x = F.relu(self.conv2(x))\n",
        "        x = self.pool2(x)\n",
        "#         print (x.shape)\n",
        "        x = F.relu(self.conv3(x))\n",
        "        x = self.pool3(x)\n",
        "#         print (x.shape)\n",
        "        x = x.view(-1, 8* 28 * 28)\n",
        "        x = F.relu(self.fc1(x))\n",
        "        x = F.relu(self.fc2(x))\n",
        "        x = F.relu(self.fc3(x))\n",
        "        x = self.fc4(x)\n",
        "        return x\n",
        "\n",
        "model7 = Net7().to(device)\n",
        "error = nn.CrossEntropyLoss().to(device)\n",
        "optimizer = optim.Adam(model7.parameters())\n",
        "print (model7)"
      ],
      "execution_count": 30,
      "outputs": [
        {
          "output_type": "stream",
          "text": [
            "Net7(\n",
            "  (conv1): Conv2d(3, 6, kernel_size=(5, 5), stride=(1, 1))\n",
            "  (pool1): MaxPool2d(kernel_size=2, stride=2, padding=0, dilation=1, ceil_mode=False)\n",
            "  (conv2): Conv2d(6, 16, kernel_size=(5, 5), stride=(1, 1))\n",
            "  (pool2): MaxPool2d(kernel_size=2, stride=2, padding=0, dilation=1, ceil_mode=False)\n",
            "  (conv3): Conv2d(16, 8, kernel_size=(5, 5), stride=(1, 1))\n",
            "  (pool3): MaxPool2d(kernel_size=2, stride=2, padding=0, dilation=1, ceil_mode=False)\n",
            "  (fc1): Linear(in_features=6272, out_features=120, bias=True)\n",
            "  (fc2): Linear(in_features=120, out_features=100, bias=True)\n",
            "  (fc3): Linear(in_features=100, out_features=84, bias=True)\n",
            "  (fc4): Linear(in_features=84, out_features=61, bias=True)\n",
            ")\n"
          ],
          "name": "stdout"
        }
      ]
    },
    {
      "cell_type": "code",
      "metadata": {
        "colab": {
          "base_uri": "https://localhost:8080/"
        },
        "id": "h4EX6JdXtyUg",
        "outputId": "de3d6947-5c5f-4747-b17e-2d6087aaf14b"
      },
      "source": [
        "train(model7,optimizer,device,np.Inf,[],[])\n",
        "correct_list10, pred_list10 = test(model7)\n",
        "print(\"F1 score :\",f1_score(correct_list10,pred_list10,average='micro'))"
      ],
      "execution_count": 31,
      "outputs": [
        {
          "output_type": "stream",
          "text": [
            "\r  0%|          | 0/59 [00:00<?, ?it/s]"
          ],
          "name": "stderr"
        },
        {
          "output_type": "stream",
          "text": [
            "Training here...\n",
            "\n"
          ],
          "name": "stdout"
        },
        {
          "output_type": "stream",
          "text": [
            "100%|██████████| 59/59 [01:14<00:00,  1.26s/it]\n",
            "  0%|          | 0/15 [00:00<?, ?it/s]"
          ],
          "name": "stderr"
        },
        {
          "output_type": "stream",
          "text": [
            "Validation here...\n",
            "\n"
          ],
          "name": "stdout"
        },
        {
          "output_type": "stream",
          "text": [
            "100%|██████████| 15/15 [00:18<00:00,  1.20s/it]\n",
            "  0%|          | 0/59 [00:00<?, ?it/s]"
          ],
          "name": "stderr"
        },
        {
          "output_type": "stream",
          "text": [
            "Epoch:  0 \tTraining Loss: 3.852198 \tValidation Loss: 3.765646\n",
            "Training here...\n",
            "\n"
          ],
          "name": "stdout"
        },
        {
          "output_type": "stream",
          "text": [
            "100%|██████████| 59/59 [01:14<00:00,  1.26s/it]\n",
            "  0%|          | 0/15 [00:00<?, ?it/s]"
          ],
          "name": "stderr"
        },
        {
          "output_type": "stream",
          "text": [
            "Validation here...\n",
            "\n"
          ],
          "name": "stdout"
        },
        {
          "output_type": "stream",
          "text": [
            "100%|██████████| 15/15 [00:18<00:00,  1.20s/it]\n",
            "  0%|          | 0/59 [00:00<?, ?it/s]"
          ],
          "name": "stderr"
        },
        {
          "output_type": "stream",
          "text": [
            "Epoch:  1 \tTraining Loss: 3.724556 \tValidation Loss: 3.611447\n",
            "Training here...\n",
            "\n"
          ],
          "name": "stdout"
        },
        {
          "output_type": "stream",
          "text": [
            "100%|██████████| 59/59 [01:14<00:00,  1.27s/it]\n",
            "  0%|          | 0/15 [00:00<?, ?it/s]"
          ],
          "name": "stderr"
        },
        {
          "output_type": "stream",
          "text": [
            "Validation here...\n",
            "\n"
          ],
          "name": "stdout"
        },
        {
          "output_type": "stream",
          "text": [
            "100%|██████████| 15/15 [00:17<00:00,  1.20s/it]\n"
          ],
          "name": "stderr"
        },
        {
          "output_type": "stream",
          "text": [
            "Epoch:  2 \tTraining Loss: 3.577979 \tValidation Loss: 3.507795\n",
            "F1 score : 0.15236051502145923\n"
          ],
          "name": "stdout"
        }
      ]
    },
    {
      "cell_type": "markdown",
      "metadata": {
        "id": "4xqv4d3CtyUh"
      },
      "source": [
        "## Basic Augmentation like Rotation, Translation, Color Change"
      ]
    },
    {
      "cell_type": "code",
      "metadata": {
        "colab": {
          "base_uri": "https://localhost:8080/"
        },
        "id": "_iWcrLawtyUh",
        "outputId": "1654c1c3-6b97-4d7b-dd92-ca359d719007"
      },
      "source": [
        "test_data1 = aug_transforms(2,test_file,test_path,False)\n",
        "test_loader1 = DataLoader(test_data1, batch_size=batch, shuffle=False)\n",
        "\n",
        "n_epochs = 3\n",
        "\n",
        "train_data1 = aug_transforms(2,ntrain,train_path,True)\n",
        "indices1 = list(range(len(train_data1)))\n",
        "np.random.shuffle(indices1)\n",
        "split1 = int(valid_size*len(train_data1))\n",
        "train_idx1= indices1[split1:]\n",
        "valid_idx1 = indices1[:split1]\n",
        "\n",
        "train_sampler1 = SubsetRandomSampler(train_idx1)\n",
        "valid_sampler1 = SubsetRandomSampler(valid_idx1)\n",
        "\n",
        "train_loader1 = DataLoader(train_data1, batch_size = batch, sampler = train_sampler1)\n",
        "valid_loader1 = DataLoader(train_data1, batch_size = batch, sampler = valid_sampler1)\n",
        "\n",
        "\n",
        "def train1(model,optimizer,device,valid_loss_min,train_losses,valid_losses):\n",
        "    for epoch in range(n_epochs):\n",
        "        train_loss = 0.0\n",
        "        valid_loss = 0.0\n",
        "\n",
        "        train_size = len(train_loader1.sampler)\n",
        "        valid_size = len(valid_loader1.sampler)\n",
        "\n",
        "        model.train()\n",
        "        print (\"Training here...\\n\")\n",
        "        for images in tqdm(train_loader1):\n",
        "            data,target = process_img_target(images,device)\n",
        "            optimizer.zero_grad()\n",
        "            output = model(data)\n",
        "            loss = error(output,target)\n",
        "            loss.backward()\n",
        "            optimizer.step()\n",
        "            loss_shape = data.size(0)\n",
        "            train_loss += loss.item()*loss_shape \n",
        "        model.eval()\n",
        "        print (\"Validation here...\\n\")\n",
        "        for images in tqdm(valid_loader1):\n",
        "            data,target = process_img_target(images,device)\n",
        "            output = model(data)\n",
        "            loss = error(output, target)\n",
        "            loss_shape = data.size(0)\n",
        "            valid_loss += loss.item()*loss_shape\n",
        "\n",
        "        train_loss = train_loss/train_size\n",
        "        valid_loss = valid_loss/valid_size\n",
        "\n",
        "        train_losses.append(train_loss)\n",
        "        valid_losses.append(valid_loss)\n",
        "\n",
        "        print('Epoch: ',epoch,'\\tTraining Loss: {:.6f} \\tValidation Loss: {:.6f}'.format(train_loss, valid_loss))\n",
        "\n",
        "        if valid_loss <= valid_loss_min:\n",
        "            valid_loss_min = valid_loss\n",
        "            torch.save(model.state_dict(), 'best_model_so_far.pth')\n",
        "\n",
        "train1(model,optimizer,device,np.Inf,[],[])"
      ],
      "execution_count": 32,
      "outputs": [
        {
          "output_type": "stream",
          "text": [
            "\r  0%|          | 0/59 [00:00<?, ?it/s]"
          ],
          "name": "stderr"
        },
        {
          "output_type": "stream",
          "text": [
            "Training here...\n",
            "\n"
          ],
          "name": "stdout"
        },
        {
          "output_type": "stream",
          "text": [
            "100%|██████████| 59/59 [03:03<00:00,  3.11s/it]\n",
            "  0%|          | 0/15 [00:00<?, ?it/s]"
          ],
          "name": "stderr"
        },
        {
          "output_type": "stream",
          "text": [
            "Validation here...\n",
            "\n"
          ],
          "name": "stdout"
        },
        {
          "output_type": "stream",
          "text": [
            "100%|██████████| 15/15 [00:44<00:00,  2.97s/it]\n",
            "  0%|          | 0/59 [00:00<?, ?it/s]"
          ],
          "name": "stderr"
        },
        {
          "output_type": "stream",
          "text": [
            "Epoch:  0 \tTraining Loss: 3.833256 \tValidation Loss: 3.811476\n",
            "Training here...\n",
            "\n"
          ],
          "name": "stdout"
        },
        {
          "output_type": "stream",
          "text": [
            "100%|██████████| 59/59 [03:07<00:00,  3.18s/it]\n",
            "  0%|          | 0/15 [00:00<?, ?it/s]"
          ],
          "name": "stderr"
        },
        {
          "output_type": "stream",
          "text": [
            "Validation here...\n",
            "\n"
          ],
          "name": "stdout"
        },
        {
          "output_type": "stream",
          "text": [
            "100%|██████████| 15/15 [00:46<00:00,  3.10s/it]\n",
            "  0%|          | 0/59 [00:00<?, ?it/s]"
          ],
          "name": "stderr"
        },
        {
          "output_type": "stream",
          "text": [
            "Epoch:  1 \tTraining Loss: 3.858082 \tValidation Loss: 3.810259\n",
            "Training here...\n",
            "\n"
          ],
          "name": "stdout"
        },
        {
          "output_type": "stream",
          "text": [
            "100%|██████████| 59/59 [03:07<00:00,  3.18s/it]\n",
            "  0%|          | 0/15 [00:00<?, ?it/s]"
          ],
          "name": "stderr"
        },
        {
          "output_type": "stream",
          "text": [
            "Validation here...\n",
            "\n"
          ],
          "name": "stdout"
        },
        {
          "output_type": "stream",
          "text": [
            "100%|██████████| 15/15 [00:44<00:00,  2.95s/it]"
          ],
          "name": "stderr"
        },
        {
          "output_type": "stream",
          "text": [
            "Epoch:  2 \tTraining Loss: 3.839104 \tValidation Loss: 3.828555\n"
          ],
          "name": "stdout"
        },
        {
          "output_type": "stream",
          "text": [
            "\n"
          ],
          "name": "stderr"
        }
      ]
    },
    {
      "cell_type": "code",
      "metadata": {
        "colab": {
          "base_uri": "https://localhost:8080/"
        },
        "id": "SF3qhE0ttyUh",
        "outputId": "b766957d-22b6-4eb6-9b91-525143e1cbc7"
      },
      "source": [
        "def test1(model):\n",
        "    model.load_state_dict(torch.load('best_model_so_far.pth'))\n",
        "    model.eval()\n",
        "    pred_list = []\n",
        "    correct_list = []\n",
        "    with torch.no_grad():\n",
        "        for images in valid_loader1:\n",
        "            data,target = process_img_target(images,device)\n",
        "            outputs = model(data)\n",
        "            _, predicted = torch.max(outputs.data, 1)\n",
        "            pr = predicted.detach().cpu().numpy()\n",
        "            for i in pr:\n",
        "                pred_list.append(i)\n",
        "            tg = target.detach().cpu().numpy()\n",
        "            for i in tg:\n",
        "                correct_list.append(i)\n",
        "    return correct_list,pred_list\n",
        "correct_list11, pred_list11 = test1(model)\n",
        "print(\"F1 score :\",f1_score(correct_list11,pred_list11,average='micro'))"
      ],
      "execution_count": 33,
      "outputs": [
        {
          "output_type": "stream",
          "text": [
            "F1 score : 0.14699570815450644\n"
          ],
          "name": "stdout"
        }
      ]
    },
    {
      "cell_type": "code",
      "metadata": {
        "id": "qiJl9e4qtyUi"
      },
      "source": [
        ""
      ],
      "execution_count": 33,
      "outputs": []
    }
  ]
}