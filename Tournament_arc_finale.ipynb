{
 "cells": [
  {
   "cell_type": "code",
   "execution_count": 25,
   "metadata": {
    "colab": {
     "base_uri": "https://localhost:8080/"
    },
    "id": "ryzeC6pylqPn",
    "outputId": "77699ef1-fe65-4604-e3b8-5448ad0e2f0f"
   },
   "outputs": [
    {
     "name": "stdout",
     "output_type": "stream",
     "text": [
      "Requirement already satisfied: fastai in /usr/local/lib/python3.7/dist-packages (1.0.61)\n",
      "Requirement already satisfied: packaging in /usr/local/lib/python3.7/dist-packages (from fastai) (20.9)\n",
      "Requirement already satisfied: numpy>=1.15 in /usr/local/lib/python3.7/dist-packages (from fastai) (1.19.5)\n",
      "Requirement already satisfied: nvidia-ml-py3 in /usr/local/lib/python3.7/dist-packages (from fastai) (7.352.0)\n",
      "Requirement already satisfied: matplotlib in /usr/local/lib/python3.7/dist-packages (from fastai) (3.2.2)\n",
      "Requirement already satisfied: scipy in /usr/local/lib/python3.7/dist-packages (from fastai) (1.4.1)\n",
      "Requirement already satisfied: pyyaml in /usr/local/lib/python3.7/dist-packages (from fastai) (3.13)\n",
      "Requirement already satisfied: pandas in /usr/local/lib/python3.7/dist-packages (from fastai) (1.1.5)\n",
      "Requirement already satisfied: numexpr in /usr/local/lib/python3.7/dist-packages (from fastai) (2.7.3)\n",
      "Requirement already satisfied: spacy>=2.0.18; python_version < \"3.8\" in /usr/local/lib/python3.7/dist-packages (from fastai) (2.2.4)\n",
      "Requirement already satisfied: requests in /usr/local/lib/python3.7/dist-packages (from fastai) (2.25.1)\n",
      "Requirement already satisfied: Pillow in /usr/local/lib/python3.7/dist-packages (from fastai) (7.1.2)\n",
      "Requirement already satisfied: bottleneck in /usr/local/lib/python3.7/dist-packages (from fastai) (1.3.2)\n",
      "Requirement already satisfied: torch>=1.0.0 in /usr/local/lib/python3.7/dist-packages (from fastai) (1.8.1+cu101)\n",
      "Requirement already satisfied: beautifulsoup4 in /usr/local/lib/python3.7/dist-packages (from fastai) (4.6.3)\n",
      "Requirement already satisfied: fastprogress>=0.2.1 in /usr/local/lib/python3.7/dist-packages (from fastai) (1.0.0)\n",
      "Requirement already satisfied: torchvision in /usr/local/lib/python3.7/dist-packages (from fastai) (0.9.1+cu101)\n",
      "Requirement already satisfied: pyparsing>=2.0.2 in /usr/local/lib/python3.7/dist-packages (from packaging->fastai) (2.4.7)\n",
      "Requirement already satisfied: cycler>=0.10 in /usr/local/lib/python3.7/dist-packages (from matplotlib->fastai) (0.10.0)\n",
      "Requirement already satisfied: python-dateutil>=2.1 in /usr/local/lib/python3.7/dist-packages (from matplotlib->fastai) (2.8.1)\n",
      "Requirement already satisfied: kiwisolver>=1.0.1 in /usr/local/lib/python3.7/dist-packages (from matplotlib->fastai) (1.3.1)\n",
      "Requirement already satisfied: pytz>=2017.2 in /usr/local/lib/python3.7/dist-packages (from pandas->fastai) (2018.9)\n",
      "Requirement already satisfied: preshed<3.1.0,>=3.0.2 in /usr/local/lib/python3.7/dist-packages (from spacy>=2.0.18; python_version < \"3.8\"->fastai) (3.0.5)\n",
      "Requirement already satisfied: plac<1.2.0,>=0.9.6 in /usr/local/lib/python3.7/dist-packages (from spacy>=2.0.18; python_version < \"3.8\"->fastai) (1.1.3)\n",
      "Requirement already satisfied: wasabi<1.1.0,>=0.4.0 in /usr/local/lib/python3.7/dist-packages (from spacy>=2.0.18; python_version < \"3.8\"->fastai) (0.8.2)\n",
      "Requirement already satisfied: thinc==7.4.0 in /usr/local/lib/python3.7/dist-packages (from spacy>=2.0.18; python_version < \"3.8\"->fastai) (7.4.0)\n",
      "Requirement already satisfied: srsly<1.1.0,>=1.0.2 in /usr/local/lib/python3.7/dist-packages (from spacy>=2.0.18; python_version < \"3.8\"->fastai) (1.0.5)\n",
      "Requirement already satisfied: catalogue<1.1.0,>=0.0.7 in /usr/local/lib/python3.7/dist-packages (from spacy>=2.0.18; python_version < \"3.8\"->fastai) (1.0.0)\n",
      "Requirement already satisfied: tqdm<5.0.0,>=4.38.0 in /usr/local/lib/python3.7/dist-packages (from spacy>=2.0.18; python_version < \"3.8\"->fastai) (4.60.0)\n",
      "Requirement already satisfied: blis<0.5.0,>=0.4.0 in /usr/local/lib/python3.7/dist-packages (from spacy>=2.0.18; python_version < \"3.8\"->fastai) (0.4.1)\n",
      "Requirement already satisfied: murmurhash<1.1.0,>=0.28.0 in /usr/local/lib/python3.7/dist-packages (from spacy>=2.0.18; python_version < \"3.8\"->fastai) (1.0.5)\n",
      "Requirement already satisfied: cymem<2.1.0,>=2.0.2 in /usr/local/lib/python3.7/dist-packages (from spacy>=2.0.18; python_version < \"3.8\"->fastai) (2.0.5)\n",
      "Requirement already satisfied: setuptools in /usr/local/lib/python3.7/dist-packages (from spacy>=2.0.18; python_version < \"3.8\"->fastai) (54.2.0)\n",
      "Requirement already satisfied: certifi>=2017.4.17 in /usr/local/lib/python3.7/dist-packages (from requests->fastai) (2020.12.5)\n",
      "Requirement already satisfied: idna<3,>=2.5 in /usr/local/lib/python3.7/dist-packages (from requests->fastai) (2.10)\n",
      "Requirement already satisfied: urllib3<1.27,>=1.21.1 in /usr/local/lib/python3.7/dist-packages (from requests->fastai) (1.24.3)\n",
      "Requirement already satisfied: chardet<5,>=3.0.2 in /usr/local/lib/python3.7/dist-packages (from requests->fastai) (3.0.4)\n",
      "Requirement already satisfied: typing-extensions in /usr/local/lib/python3.7/dist-packages (from torch>=1.0.0->fastai) (3.7.4.3)\n",
      "Requirement already satisfied: six in /usr/local/lib/python3.7/dist-packages (from cycler>=0.10->matplotlib->fastai) (1.15.0)\n",
      "Requirement already satisfied: importlib-metadata>=0.20; python_version < \"3.8\" in /usr/local/lib/python3.7/dist-packages (from catalogue<1.1.0,>=0.0.7->spacy>=2.0.18; python_version < \"3.8\"->fastai) (3.10.1)\n",
      "Requirement already satisfied: zipp>=0.5 in /usr/local/lib/python3.7/dist-packages (from importlib-metadata>=0.20; python_version < \"3.8\"->catalogue<1.1.0,>=0.0.7->spacy>=2.0.18; python_version < \"3.8\"->fastai) (3.4.1)\n",
      "Requirement already satisfied: aicrowd-cli in /usr/local/lib/python3.7/dist-packages (0.1.2)\n",
      "Requirement already satisfied: tqdm<5,>=4.56.0 in /usr/local/lib/python3.7/dist-packages (from aicrowd-cli) (4.60.0)\n",
      "Requirement already satisfied: requests<3,>=2.25.1 in /usr/local/lib/python3.7/dist-packages (from aicrowd-cli) (2.25.1)\n",
      "Requirement already satisfied: rich<11,>=10.0.0 in /usr/local/lib/python3.7/dist-packages (from aicrowd-cli) (10.1.0)\n",
      "Requirement already satisfied: toml<1,>=0.10.2 in /usr/local/lib/python3.7/dist-packages (from aicrowd-cli) (0.10.2)\n",
      "Requirement already satisfied: requests-toolbelt<1,>=0.9.1 in /usr/local/lib/python3.7/dist-packages (from aicrowd-cli) (0.9.1)\n",
      "Requirement already satisfied: gitpython<4,>=3.1.12 in /usr/local/lib/python3.7/dist-packages (from aicrowd-cli) (3.1.14)\n",
      "Requirement already satisfied: click<8,>=7.1.2 in /usr/local/lib/python3.7/dist-packages (from aicrowd-cli) (7.1.2)\n",
      "Requirement already satisfied: idna<3,>=2.5 in /usr/local/lib/python3.7/dist-packages (from requests<3,>=2.25.1->aicrowd-cli) (2.10)\n",
      "Requirement already satisfied: urllib3<1.27,>=1.21.1 in /usr/local/lib/python3.7/dist-packages (from requests<3,>=2.25.1->aicrowd-cli) (1.24.3)\n",
      "Requirement already satisfied: certifi>=2017.4.17 in /usr/local/lib/python3.7/dist-packages (from requests<3,>=2.25.1->aicrowd-cli) (2020.12.5)\n",
      "Requirement already satisfied: chardet<5,>=3.0.2 in /usr/local/lib/python3.7/dist-packages (from requests<3,>=2.25.1->aicrowd-cli) (3.0.4)\n",
      "Requirement already satisfied: colorama<0.5.0,>=0.4.0 in /usr/local/lib/python3.7/dist-packages (from rich<11,>=10.0.0->aicrowd-cli) (0.4.4)\n",
      "Requirement already satisfied: typing-extensions<4.0.0,>=3.7.4 in /usr/local/lib/python3.7/dist-packages (from rich<11,>=10.0.0->aicrowd-cli) (3.7.4.3)\n",
      "Requirement already satisfied: pygments<3.0.0,>=2.6.0 in /usr/local/lib/python3.7/dist-packages (from rich<11,>=10.0.0->aicrowd-cli) (2.6.1)\n",
      "Requirement already satisfied: commonmark<0.10.0,>=0.9.0 in /usr/local/lib/python3.7/dist-packages (from rich<11,>=10.0.0->aicrowd-cli) (0.9.1)\n",
      "Requirement already satisfied: gitdb<5,>=4.0.1 in /usr/local/lib/python3.7/dist-packages (from gitpython<4,>=3.1.12->aicrowd-cli) (4.0.7)\n",
      "Requirement already satisfied: smmap<5,>=3.0.1 in /usr/local/lib/python3.7/dist-packages (from gitdb<5,>=4.0.1->gitpython<4,>=3.1.12->aicrowd-cli) (4.0.0)\n"
     ]
    }
   ],
   "source": [
    "!pip install fastai\n",
    "!pip install aicrowd-cli"
   ]
  },
  {
   "cell_type": "code",
   "execution_count": 26,
   "metadata": {
    "id": "c_ipWTENmDEj"
   },
   "outputs": [],
   "source": [
    "from fastai import *\n",
    "from fastai.vision import *\n",
    "from fastai.metrics import error_rate, accuracy\n",
    "import numpy as np\n",
    "import cv2\n",
    "import pandas as pd\n",
    "from PIL import Image\n",
    "from sklearn.preprocessing import LabelEncoder\n",
    "import warnings\n",
    "\n",
    "warnings.filterwarnings('ignore')"
   ]
  },
  {
   "cell_type": "code",
   "execution_count": 27,
   "metadata": {
    "colab": {
     "base_uri": "https://localhost:8080/"
    },
    "id": "Yk6Ttv5ZmNxi",
    "outputId": "5fff5f7a-8861-4ab5-fa99-84416092b4b6"
   },
   "outputs": [
    {
     "name": "stdout",
     "output_type": "stream",
     "text": [
      "Drive already mounted at /content/drive; to attempt to forcibly remount, call drive.mount(\"/content/drive\", force_remount=True).\n"
     ]
    }
   ],
   "source": [
    "from google.colab import drive\n",
    "drive.mount('/content/drive')"
   ]
  },
  {
   "cell_type": "code",
   "execution_count": 28,
   "metadata": {
    "colab": {
     "base_uri": "https://localhost:8080/"
    },
    "id": "iUwu5K6_mSax",
    "outputId": "8e1a9170-485e-4fa8-b637-4ed6d73969c5"
   },
   "outputs": [
    {
     "data": {
      "text/plain": [
       "ImageList (484 items)\n",
       "Image (3, 464, 464),Image (3, 1080, 1081),Image (3, 890, 891),Image (3, 233, 232),Image (3, 358, 327)\n",
       "Path: /content/drive/My Drive/test_images/test_images"
      ]
     },
     "execution_count": 28,
     "metadata": {
      "tags": []
     },
     "output_type": "execute_result"
    }
   ],
   "source": [
    "data_dir = Path(\"/content/drive/My Drive\")\n",
    "train_labels = pd.read_csv('/content/drive/My Drive/train.csv')\n",
    "test_ids = pd.read_csv('/content/drive/My Drive/test.csv')\n",
    "\n",
    "transforms = get_transforms(do_flip = True, flip_vert = True, max_zoom = 1.1, p_affine = 0.75, p_lighting = 0.75, max_warp = 0.2, max_rotate=10.0, max_lighting = 0.1)\n",
    "\n",
    "test_img = ImageList.from_df(test_ids, path = data_dir/'test_images/test_images', folder = './')\n",
    "\n",
    "test_img"
   ]
  },
  {
   "cell_type": "code",
   "execution_count": 29,
   "metadata": {
    "colab": {
     "base_uri": "https://localhost:8080/"
    },
    "id": "I31nR-1Kmemj",
    "outputId": "912e8811-800d-4b9c-ed2c-85dadd37d844"
   },
   "outputs": [
    {
     "data": {
      "text/plain": [
       "ImageDataBunch;\n",
       "\n",
       "Train: LabelList (9230 items)\n",
       "x: ImageList\n",
       "Image (3, 216, 216),Image (3, 216, 216),Image (3, 216, 216),Image (3, 216, 216),Image (3, 216, 216)\n",
       "y: CategoryList\n",
       "water,pizza-margherita-baked,broccoli,salad-leaf-salad-green,egg\n",
       "Path: /content/drive/My Drive/train_images/train_images;\n",
       "\n",
       "Valid: LabelList (93 items)\n",
       "x: ImageList\n",
       "Image (3, 216, 216),Image (3, 216, 216),Image (3, 216, 216),Image (3, 216, 216),Image (3, 216, 216)\n",
       "y: CategoryList\n",
       "apple,ham-raw,pizza-margherita-baked,banana,bread-wholemeal\n",
       "Path: /content/drive/My Drive/train_images/train_images;\n",
       "\n",
       "Test: LabelList (484 items)\n",
       "x: ImageList\n",
       "Image (3, 216, 216),Image (3, 216, 216),Image (3, 216, 216),Image (3, 216, 216),Image (3, 216, 216)\n",
       "y: EmptyLabelList\n",
       ",,,,\n",
       "Path: /content/drive/My Drive/train_images/train_images"
      ]
     },
     "execution_count": 29,
     "metadata": {
      "tags": []
     },
     "output_type": "execute_result"
    }
   ],
   "source": [
    "train_images = (ImageList.from_df(train_labels, path = data_dir/'train_images/train_images', folder='./')\n",
    "          .split_by_rand_pct(0.01)\n",
    "          .label_from_df()\n",
    "          .add_test(test_img)\n",
    "          .transform(transforms, size = 216)\n",
    "          .databunch(path='.', bs = 64, device = torch.device('cuda:0')).\n",
    "          normalize(imagenet_stats)\n",
    "          )\n",
    "\n",
    "train_images"
   ]
  },
  {
   "cell_type": "code",
   "execution_count": 30,
   "metadata": {
    "colab": {
     "base_uri": "https://localhost:8080/",
     "height": 669
    },
    "id": "jDa4ziRUml3C",
    "outputId": "735c15a1-97e5-44f2-f7e8-67a7256d8527"
   },
   "outputs": [
    {
     "data": {
      "text/html": [
       "<table border=\"1\" class=\"dataframe\">\n",
       "  <thead>\n",
       "    <tr style=\"text-align: left;\">\n",
       "      <th>epoch</th>\n",
       "      <th>train_loss</th>\n",
       "      <th>valid_loss</th>\n",
       "      <th>accuracy</th>\n",
       "      <th>time</th>\n",
       "    </tr>\n",
       "  </thead>\n",
       "  <tbody>\n",
       "    <tr>\n",
       "      <td>0</td>\n",
       "      <td>5.352680</td>\n",
       "      <td>3.904350</td>\n",
       "      <td>0.118280</td>\n",
       "      <td>02:57</td>\n",
       "    </tr>\n",
       "    <tr>\n",
       "      <td>1</td>\n",
       "      <td>4.033708</td>\n",
       "      <td>2.713486</td>\n",
       "      <td>0.365591</td>\n",
       "      <td>02:58</td>\n",
       "    </tr>\n",
       "    <tr>\n",
       "      <td>2</td>\n",
       "      <td>3.137547</td>\n",
       "      <td>2.231072</td>\n",
       "      <td>0.473118</td>\n",
       "      <td>02:58</td>\n",
       "    </tr>\n",
       "    <tr>\n",
       "      <td>3</td>\n",
       "      <td>2.660340</td>\n",
       "      <td>1.904882</td>\n",
       "      <td>0.548387</td>\n",
       "      <td>02:58</td>\n",
       "    </tr>\n",
       "    <tr>\n",
       "      <td>4</td>\n",
       "      <td>2.339656</td>\n",
       "      <td>1.776029</td>\n",
       "      <td>0.580645</td>\n",
       "      <td>02:58</td>\n",
       "    </tr>\n",
       "    <tr>\n",
       "      <td>5</td>\n",
       "      <td>2.178888</td>\n",
       "      <td>1.768454</td>\n",
       "      <td>0.591398</td>\n",
       "      <td>02:57</td>\n",
       "    </tr>\n",
       "    <tr>\n",
       "      <td>6</td>\n",
       "      <td>1.999826</td>\n",
       "      <td>1.623868</td>\n",
       "      <td>0.623656</td>\n",
       "      <td>02:58</td>\n",
       "    </tr>\n",
       "    <tr>\n",
       "      <td>7</td>\n",
       "      <td>1.878880</td>\n",
       "      <td>1.661293</td>\n",
       "      <td>0.591398</td>\n",
       "      <td>02:58</td>\n",
       "    </tr>\n",
       "    <tr>\n",
       "      <td>8</td>\n",
       "      <td>1.782585</td>\n",
       "      <td>1.599423</td>\n",
       "      <td>0.634409</td>\n",
       "      <td>02:58</td>\n",
       "    </tr>\n",
       "    <tr>\n",
       "      <td>9</td>\n",
       "      <td>1.657831</td>\n",
       "      <td>1.582957</td>\n",
       "      <td>0.591398</td>\n",
       "      <td>02:59</td>\n",
       "    </tr>\n",
       "    <tr>\n",
       "      <td>10</td>\n",
       "      <td>1.645530</td>\n",
       "      <td>1.516113</td>\n",
       "      <td>0.645161</td>\n",
       "      <td>02:57</td>\n",
       "    </tr>\n",
       "    <tr>\n",
       "      <td>11</td>\n",
       "      <td>1.563297</td>\n",
       "      <td>1.577285</td>\n",
       "      <td>0.634409</td>\n",
       "      <td>02:58</td>\n",
       "    </tr>\n",
       "    <tr>\n",
       "      <td>12</td>\n",
       "      <td>1.504745</td>\n",
       "      <td>1.574336</td>\n",
       "      <td>0.634409</td>\n",
       "      <td>02:59</td>\n",
       "    </tr>\n",
       "    <tr>\n",
       "      <td>13</td>\n",
       "      <td>1.493194</td>\n",
       "      <td>1.581870</td>\n",
       "      <td>0.634409</td>\n",
       "      <td>02:58</td>\n",
       "    </tr>\n",
       "    <tr>\n",
       "      <td>14</td>\n",
       "      <td>1.444449</td>\n",
       "      <td>1.578129</td>\n",
       "      <td>0.645161</td>\n",
       "      <td>02:59</td>\n",
       "    </tr>\n",
       "    <tr>\n",
       "      <td>15</td>\n",
       "      <td>1.382967</td>\n",
       "      <td>1.572029</td>\n",
       "      <td>0.612903</td>\n",
       "      <td>02:59</td>\n",
       "    </tr>\n",
       "    <tr>\n",
       "      <td>16</td>\n",
       "      <td>1.395382</td>\n",
       "      <td>1.580993</td>\n",
       "      <td>0.634409</td>\n",
       "      <td>03:00</td>\n",
       "    </tr>\n",
       "    <tr>\n",
       "      <td>17</td>\n",
       "      <td>1.406509</td>\n",
       "      <td>1.588616</td>\n",
       "      <td>0.623656</td>\n",
       "      <td>03:00</td>\n",
       "    </tr>\n",
       "    <tr>\n",
       "      <td>18</td>\n",
       "      <td>1.372480</td>\n",
       "      <td>1.572190</td>\n",
       "      <td>0.623656</td>\n",
       "      <td>03:00</td>\n",
       "    </tr>\n",
       "    <tr>\n",
       "      <td>19</td>\n",
       "      <td>1.357957</td>\n",
       "      <td>1.564851</td>\n",
       "      <td>0.634409</td>\n",
       "      <td>03:00</td>\n",
       "    </tr>\n",
       "  </tbody>\n",
       "</table>"
      ],
      "text/plain": [
       "<IPython.core.display.HTML object>"
      ]
     },
     "metadata": {
      "tags": []
     },
     "output_type": "display_data"
    }
   ],
   "source": [
    "lr = 0.0002\n",
    "learn = cnn_learner(train_images, models.resnet50, metrics = [accuracy])\n",
    "\n",
    "learn.fit_one_cycle(20, slice(lr))"
   ]
  },
  {
   "cell_type": "code",
   "execution_count": 31,
   "metadata": {
    "colab": {
     "base_uri": "https://localhost:8080/"
    },
    "id": "tWTSxf9ym2Oq",
    "outputId": "30078844-b7b8-4c0d-c2bc-10ffeccb8451"
   },
   "outputs": [
    {
     "name": "stdout",
     "output_type": "stream",
     "text": [
      "['almonds', 'apple', 'avocado', 'banana', 'beer', 'biscuits', 'boisson-au-glucose-50g', 'bread-french-white-flour', 'bread-sourdough', 'bread-white', 'bread-whole-wheat', 'bread-wholemeal', 'broccoli', 'butter', 'carrot', 'cheese', 'chicken', 'chips-french-fries', 'coffee-with-caffeine', 'corn', 'croissant', 'cucumber', 'dark-chocolate', 'egg', 'espresso-with-caffeine', 'french-beans', 'gruyere', 'ham-raw', 'hard-cheese', 'honey', 'jam', 'leaf-spinach', 'mandarine', 'mayonnaise', 'mixed-nuts', 'mixed-salad-chopped-without-sauce', 'mixed-vegetables', 'onion', 'parmesan', 'pasta-spaghetti', 'pickle', 'pizza-margherita-baked', 'potatoes-steamed', 'rice', 'salad-leaf-salad-green', 'salami', 'salmon', 'sauce-savoury', 'soft-cheese', 'strawberries', 'sweet-pepper', 'tea', 'tea-green', 'tomato', 'tomato-sauce', 'water', 'water-mineral', 'white-coffee-with-caffeine', 'wine-red', 'wine-white', 'zucchini']\n"
     ]
    }
   ],
   "source": [
    "labels_list = learn.data.classes\n",
    "\n",
    "print(labels_list)"
   ]
  },
  {
   "cell_type": "code",
   "execution_count": 32,
   "metadata": {
    "colab": {
     "base_uri": "https://localhost:8080/",
     "height": 17
    },
    "id": "aoOMKodHxiJr",
    "outputId": "464342fa-1a52-4b4d-c919-8026ab480eda"
   },
   "outputs": [
    {
     "data": {
      "text/html": [],
      "text/plain": [
       "<IPython.core.display.HTML object>"
      ]
     },
     "metadata": {
      "tags": []
     },
     "output_type": "display_data"
    }
   ],
   "source": [
    "preds, wts = learn.get_preds(ds_type=DatasetType.Test)"
   ]
  },
  {
   "cell_type": "code",
   "execution_count": 33,
   "metadata": {
    "colab": {
     "base_uri": "https://localhost:8080/"
    },
    "id": "73_j1Y0kyWQZ",
    "outputId": "03aab2ca-b0ae-40d5-8d1a-b088166d0ce2"
   },
   "outputs": [
    {
     "name": "stdout",
     "output_type": "stream",
     "text": [
      "tensor([[1.0329e-06, 1.0029e-07, 2.4721e-08,  ..., 3.6794e-04, 1.6240e-03,\n",
      "         1.4518e-07],\n",
      "        [8.4785e-08, 5.6268e-10, 6.9177e-10,  ..., 5.3304e-06, 8.0520e-06,\n",
      "         3.8287e-08],\n",
      "        [2.8803e-03, 2.8594e-04, 2.3433e-03,  ..., 3.0397e-05, 2.9857e-03,\n",
      "         8.8923e-03],\n",
      "        ...,\n",
      "        [2.6168e-04, 8.2651e-06, 1.8814e-05,  ..., 1.3028e-04, 5.1850e-04,\n",
      "         2.7846e-04],\n",
      "        [1.6100e-02, 1.6616e-03, 4.3526e-03,  ..., 2.8988e-04, 3.4546e-03,\n",
      "         2.0646e-02],\n",
      "        [1.5667e-03, 1.1450e-03, 6.3076e-03,  ..., 1.0373e-03, 1.7785e-03,\n",
      "         1.9099e-04]])\n"
     ]
    }
   ],
   "source": [
    "print(preds)"
   ]
  },
  {
   "cell_type": "code",
   "execution_count": 34,
   "metadata": {
    "colab": {
     "base_uri": "https://localhost:8080/"
    },
    "id": "0soGHbv6ysqT",
    "outputId": "11e20b2b-68ac-4f87-d233-1f376efbb624"
   },
   "outputs": [
    {
     "name": "stdout",
     "output_type": "stream",
     "text": [
      "484\n"
     ]
    }
   ],
   "source": [
    "pred_list = []\n",
    "preds_max = torch.argmax(preds, axis = 1)\n",
    "print(len(preds_max))"
   ]
  },
  {
   "cell_type": "code",
   "execution_count": 35,
   "metadata": {
    "colab": {
     "base_uri": "https://localhost:8080/"
    },
    "id": "PYOaD2CYy_wl",
    "outputId": "a880652e-fbf1-4e4c-c5df-945bae4203d5"
   },
   "outputs": [
    {
     "name": "stdout",
     "output_type": "stream",
     "text": [
      "['water', 'water', 'coffee-with-caffeine', 'hard-cheese', 'bread-wholemeal', 'espresso-with-caffeine', 'almonds', 'bread-wholemeal', 'water', 'espresso-with-caffeine', 'coffee-with-caffeine', 'water', 'banana', 'bread-white', 'coffee-with-caffeine', 'salami', 'banana', 'pasta-spaghetti', 'pasta-spaghetti', 'avocado', 'bread-white', 'chicken', 'carrot', 'bread-wholemeal', 'water', 'water', 'wine-red', 'mandarine', 'pickle', 'water', 'broccoli', 'potatoes-steamed', 'rice', 'water', 'hard-cheese', 'bread-white', 'coffee-with-caffeine', 'water', 'mixed-vegetables', 'pizza-margherita-baked', 'pizza-margherita-baked', 'tea', 'coffee-with-caffeine', 'pizza-margherita-baked', 'espresso-with-caffeine', 'bread-white', 'bread-white', 'pickle', 'salad-leaf-salad-green', 'salmon', 'butter', 'carrot', 'tea', 'wine-white', 'mixed-vegetables', 'tomato', 'rice', 'coffee-with-caffeine', 'salad-leaf-salad-green', 'espresso-with-caffeine', 'salad-leaf-salad-green', 'rice', 'bread-white', 'water', 'salad-leaf-salad-green', 'espresso-with-caffeine', 'tomato', 'mixed-vegetables', 'rice', 'water', 'tomato-sauce', 'water-mineral', 'salad-leaf-salad-green', 'carrot', 'carrot', 'egg', 'carrot', 'coffee-with-caffeine', 'rice', 'mandarine', 'mixed-salad-chopped-without-sauce', 'carrot', 'bread-wholemeal', 'mayonnaise', 'leaf-spinach', 'tomato', 'mayonnaise', 'salad-leaf-salad-green', 'salad-leaf-salad-green', 'wine-white', 'apple', 'coffee-with-caffeine', 'mixed-vegetables', 'rice', 'strawberries', 'rice', 'water', 'wine-red', 'chips-french-fries', 'water', 'wine-red', 'egg', 'coffee-with-caffeine', 'bread-wholemeal', 'bread-wholemeal', 'water', 'bread-white', 'salad-leaf-salad-green', 'salad-leaf-salad-green', 'bread-white', 'butter', 'white-coffee-with-caffeine', 'pizza-margherita-baked', 'avocado', 'tea', 'pizza-margherita-baked', 'onion', 'tomato', 'bread-wholemeal', 'mixed-vegetables', 'tomato', 'mixed-nuts', 'avocado', 'mixed-salad-chopped-without-sauce', 'coffee-with-caffeine', 'hard-cheese', 'bread-white', 'potatoes-steamed', 'potatoes-steamed', 'salami', 'water', 'bread-wholemeal', 'rice', 'french-beans', 'butter', 'croissant', 'salad-leaf-salad-green', 'carrot', 'salad-leaf-salad-green', 'banana', 'tomato', 'tomato', 'tomato-sauce', 'pasta-spaghetti', 'espresso-with-caffeine', 'coffee-with-caffeine', 'wine-red', 'bread-wholemeal', 'almonds', 'banana', 'salad-leaf-salad-green', 'salad-leaf-salad-green', 'salad-leaf-salad-green', 'pasta-spaghetti', 'sweet-pepper', 'bread-wholemeal', 'egg', 'wine-red', 'mixed-salad-chopped-without-sauce', 'boisson-au-glucose-50g', 'salad-leaf-salad-green', 'wine-white', 'beer', 'rice', 'boisson-au-glucose-50g', 'mixed-nuts', 'chicken', 'mixed-vegetables', 'bread-white', 'bread-white', 'bread-white', 'chips-french-fries', 'beer', 'water', 'bread-wholemeal', 'rice', 'bread-wholemeal', 'chips-french-fries', 'carrot', 'carrot', 'rice', 'broccoli', 'bread-white', 'salad-leaf-salad-green', 'rice', 'bread-white', 'tomato-sauce', 'bread-white', 'wine-white', 'tomato', 'coffee-with-caffeine', 'salad-leaf-salad-green', 'salad-leaf-salad-green', 'coffee-with-caffeine', 'espresso-with-caffeine', 'biscuits', 'pasta-spaghetti', 'pasta-spaghetti', 'mixed-vegetables', 'wine-red', 'bread-white', 'espresso-with-caffeine', 'water', 'bread-white', 'mixed-vegetables', 'water', 'strawberries', 'butter', 'jam', 'jam', 'water', 'water', 'broccoli', 'bread-white', 'banana', 'water', 'tomato', 'butter', 'butter', 'pasta-spaghetti', 'bread-sourdough', 'tomato', 'salad-leaf-salad-green', 'carrot', 'potatoes-steamed', 'cucumber', 'butter', 'butter', 'tea', 'water', 'bread-white', 'salad-leaf-salad-green', 'rice', 'coffee-with-caffeine', 'egg', 'coffee-with-caffeine', 'bread-white', 'beer', 'mixed-vegetables', 'mixed-vegetables', 'carrot', 'mandarine', 'hard-cheese', 'potatoes-steamed', 'apple', 'water', 'coffee-with-caffeine', 'banana', 'water', 'espresso-with-caffeine', 'coffee-with-caffeine', 'coffee-with-caffeine', 'gruyere', 'avocado', 'mixed-vegetables', 'avocado', 'wine-red', 'chips-french-fries', 'carrot', 'tomato-sauce', 'pasta-spaghetti', 'espresso-with-caffeine', 'mixed-nuts', 'banana', 'egg', 'potatoes-steamed', 'potatoes-steamed', 'french-beans', 'egg', 'french-beans', 'bread-whole-wheat', 'bread-wholemeal', 'gruyere', 'wine-red', 'coffee-with-caffeine', 'mixed-vegetables', 'mixed-salad-chopped-without-sauce', 'banana', 'carrot', 'carrot', 'rice', 'dark-chocolate', 'tea-green', 'water', 'carrot', 'carrot', 'espresso-with-caffeine', 'coffee-with-caffeine', 'tea', 'tomato', 'dark-chocolate', 'bread-white', 'white-coffee-with-caffeine', 'bread-white', 'wine-red', 'water', 'water', 'bread-wholemeal', 'apple', 'mixed-nuts', 'apple', 'salad-leaf-salad-green', 'chips-french-fries', 'salad-leaf-salad-green', 'salad-leaf-salad-green', 'tomato', 'tea-green', 'pickle', 'tea', 'butter', 'potatoes-steamed', 'salad-leaf-salad-green', 'coffee-with-caffeine', 'croissant', 'salad-leaf-salad-green', 'salad-leaf-salad-green', 'coffee-with-caffeine', 'ham-raw', 'hard-cheese', 'salad-leaf-salad-green', 'salad-leaf-salad-green', 'salad-leaf-salad-green', 'bread-wholemeal', 'butter', 'bread-wholemeal', 'white-coffee-with-caffeine', 'jam', 'jam', 'bread-wholemeal', 'bread-wholemeal', 'bread-wholemeal', 'hard-cheese', 'chips-french-fries', 'apple', 'rice', 'coffee-with-caffeine', 'salad-leaf-salad-green', 'salad-leaf-salad-green', 'jam', 'mixed-vegetables', 'water', 'parmesan', 'potatoes-steamed', 'water', 'bread-white', 'tomato-sauce', 'coffee-with-caffeine', 'chips-french-fries', 'apple', 'coffee-with-caffeine', 'salad-leaf-salad-green', 'banana', 'bread-wholemeal', 'bread-white', 'bread-white', 'banana', 'white-coffee-with-caffeine', 'mixed-vegetables', 'bread-wholemeal', 'carrot', 'tomato', 'bread-wholemeal', 'salad-leaf-salad-green', 'water', 'rice', 'hard-cheese', 'tomato', 'bread-white', 'bread-white', 'jam', 'salad-leaf-salad-green', 'salad-leaf-salad-green', 'coffee-with-caffeine', 'egg', 'butter', 'wine-red', 'bread-wholemeal', 'espresso-with-caffeine', 'water', 'bread-wholemeal', 'wine-red', 'espresso-with-caffeine', 'butter', 'butter', 'butter', 'chips-french-fries', 'water', 'bread-white', 'bread-white', 'bread-white', 'bread-white', 'tomato', 'pizza-margherita-baked', 'coffee-with-caffeine', 'water', 'bread-white', 'strawberries', 'mixed-vegetables', 'cucumber', 'sauce-savoury', 'salad-leaf-salad-green', 'salad-leaf-salad-green', 'carrot', 'jam', 'espresso-with-caffeine', 'bread-wholemeal', 'bread-white', 'coffee-with-caffeine', 'coffee-with-caffeine', 'biscuits', 'white-coffee-with-caffeine', 'water', 'bread-white', 'butter', 'bread-white', 'water', 'salad-leaf-salad-green', 'rice', 'water', 'tomato', 'tomato-sauce', 'rice', 'rice', 'french-beans', 'mixed-vegetables', 'french-beans', 'tomato-sauce', 'strawberries', 'coffee-with-caffeine', 'wine-white', 'pickle', 'almonds', 'bread-white', 'banana', 'tea', 'salad-leaf-salad-green', 'bread-white', 'bread-white', 'pizza-margherita-baked', 'tomato-sauce', 'water', 'french-beans', 'water', 'water', 'water', 'rice', 'rice', 'potatoes-steamed', 'water', 'butter', 'espresso-with-caffeine', 'mixed-vegetables', 'ham-raw', 'mixed-salad-chopped-without-sauce', 'mixed-nuts', 'mixed-salad-chopped-without-sauce', 'bread-white', 'white-coffee-with-caffeine', 'mixed-vegetables', 'broccoli', 'water', 'carrot', 'mixed-salad-chopped-without-sauce', 'broccoli', 'espresso-with-caffeine', 'mixed-vegetables', 'apple', 'bread-white', 'butter', 'bread-white', 'coffee-with-caffeine', 'water', 'mixed-vegetables', 'bread-wholemeal', 'tomato', 'salad-leaf-salad-green', 'coffee-with-caffeine', 'water', 'potatoes-steamed', 'broccoli', 'pasta-spaghetti', 'water', 'bread-wholemeal', 'mixed-vegetables']\n"
     ]
    }
   ],
   "source": [
    "for i in range(len(preds_max)):\n",
    "  pred_list.append(labels_list[preds_max[i]])\n",
    "\n",
    "print(pred_list)"
   ]
  },
  {
   "cell_type": "code",
   "execution_count": 36,
   "metadata": {
    "id": "adzBZbQVzQEr"
   },
   "outputs": [],
   "source": [
    "def copy_csv(filename):\n",
    "    df = pd.read_csv(filename)\n",
    "    df.to_csv('submission.csv')\n",
    "\n",
    "copy_csv('/content/drive/My Drive/test.csv')"
   ]
  },
  {
   "cell_type": "code",
   "execution_count": 37,
   "metadata": {
    "id": "barxc1TYzp0g"
   },
   "outputs": [],
   "source": [
    "df = pd.read_csv('submission.csv')\n",
    "\n",
    "df[\"ClassName\"] = pred_list\n",
    "\n",
    "df.to_csv(\"/content/drive/My Drive/submission3.csv\", index = False)"
   ]
  },
  {
   "cell_type": "code",
   "execution_count": 38,
   "metadata": {
    "colab": {
     "base_uri": "https://localhost:8080/"
    },
    "id": "mYOxKZUM0ZZs",
    "outputId": "5467e8c0-9745-433a-ceb8-9e32550a90f7"
   },
   "outputs": [
    {
     "name": "stdout",
     "output_type": "stream",
     "text": [
      "   Unnamed: 0         ImageId             ClassName\n",
      "0           0  90e63a2fde.jpg                 water\n",
      "1           1  a554d1ca8d.jpg                 water\n",
      "2           2  48317e8ee8.jpg  coffee-with-caffeine\n",
      "3           3  79528df667.jpg           hard-cheese\n",
      "4           4  6d2f2f63f5.jpg       bread-wholemeal\n"
     ]
    }
   ],
   "source": [
    "submission = pd.read_csv('/content/drive/My Drive/submission3.csv')\n",
    "\n",
    "print(submission.head())"
   ]
  },
  {
   "cell_type": "code",
   "execution_count": 39,
   "metadata": {
    "colab": {
     "base_uri": "https://localhost:8080/"
    },
    "id": "HyEVA1AZ0gDY",
    "outputId": "223b5525-50c0-44fa-834f-912e294f3df9"
   },
   "outputs": [
    {
     "name": "stdout",
     "output_type": "stream",
     "text": [
      "\u001b[32mAPI Key valid\u001b[0m\n",
      "\u001b[32mSaved API Key successfully!\u001b[0m\n"
     ]
    }
   ],
   "source": [
    "API_KEY = \"c3a15f9920d6600174c1d22216f4079f\" #Please enter your API Key from [https://www.aicrowd.com/participants/me]\n",
    "!aicrowd login --api-key $API_KEY"
   ]
  },
  {
   "cell_type": "code",
   "execution_count": 40,
   "metadata": {
    "colab": {
     "base_uri": "https://localhost:8080/"
    },
    "id": "JwXg3Gm40k70",
    "outputId": "32497b00-eb27-42b0-9ea0-5c0e209bf33c"
   },
   "outputs": [
    {
     "name": "stdout",
     "output_type": "stream",
     "text": [
      "\u001b[2K\u001b[1;34msubmission3.csv\u001b[0m \u001b[90m━━━━━━━━━━━━━━━━━━━━━\u001b[0m \u001b[35m100.0%\u001b[0m • \u001b[32m17.1/15.4 KB\u001b[0m • \u001b[31m1.7 MB/s\u001b[0m • \u001b[36m0:00:00\u001b[0m\n",
      "\u001b[?25h                                               ╭─────────────────────────╮                                               \n",
      "                                               │ \u001b[1mSuccessfully submitted!\u001b[0m │                                               \n",
      "                                               ╰─────────────────────────╯                                               \n",
      "\u001b[3m                                                     Important links                                                     \u001b[0m\n",
      "┌──────────────────┬────────────────────────────────────────────────────────────────────────────────────────────────────┐\n",
      "│  This submission │ https://www.aicrowd.com/challenges/chunin-exams-food-track-cv-2021/submissions/131189              │\n",
      "│                  │                                                                                                    │\n",
      "│  All submissions │ https://www.aicrowd.com/challenges/chunin-exams-food-track-cv-2021/submissions?my_submissions=true │\n",
      "│                  │                                                                                                    │\n",
      "│      Leaderboard │ https://www.aicrowd.com/challenges/chunin-exams-food-track-cv-2021/leaderboards                    │\n",
      "│                  │                                                                                                    │\n",
      "│ Discussion forum │ https://discourse.aicrowd.com/c/chunin-exams-food-track-cv-2021                                    │\n",
      "│                  │                                                                                                    │\n",
      "│   Challenge page │ https://www.aicrowd.com/challenges/chunin-exams-food-track-cv-2021                                 │\n",
      "└──────────────────┴────────────────────────────────────────────────────────────────────────────────────────────────────┘\n",
      "{'submission_id': 131189, 'created_at': '2021-04-18T12:58:53.352Z'}\n"
     ]
    }
   ],
   "source": [
    "!aicrowd submission create -c chunin-exams-food-track-cv-2021 -f '/content/drive/My Drive/submission3.csv'"
   ]
  },
  {
   "cell_type": "code",
   "execution_count": 40,
   "metadata": {
    "id": "cF7KhJwO0qEM"
   },
   "outputs": [],
   "source": []
  }
 ],
 "metadata": {
  "accelerator": "GPU",
  "colab": {
   "name": "Tournament_arc_finale.ipynb",
   "provenance": []
  },
  "kernelspec": {
   "display_name": "Python 3",
   "language": "python",
   "name": "python3"
  },
  "language_info": {
   "codemirror_mode": {
    "name": "ipython",
    "version": 3
   },
   "file_extension": ".py",
   "mimetype": "text/x-python",
   "name": "python",
   "nbconvert_exporter": "python",
   "pygments_lexer": "ipython3",
   "version": "3.6.9"
  }
 },
 "nbformat": 4,
 "nbformat_minor": 1
}
