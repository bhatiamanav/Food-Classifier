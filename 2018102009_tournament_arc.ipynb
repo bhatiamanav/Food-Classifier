{
  "nbformat": 4,
  "nbformat_minor": 0,
  "metadata": {
    "colab": {
      "name": "Assignment-5.ipynb",
      "provenance": [],
      "collapsed_sections": []
    },
    "kernelspec": {
      "name": "python3",
      "display_name": "Python 3"
    },
    "language_info": {
      "name": "python"
    },
    "accelerator": "GPU",
    "widgets": {
      "application/vnd.jupyter.widget-state+json": {
        "e81ef3759ef34d44be763a72ed1110b0": {
          "model_module": "@jupyter-widgets/controls",
          "model_name": "HBoxModel",
          "state": {
            "_view_name": "HBoxView",
            "_dom_classes": [],
            "_model_name": "HBoxModel",
            "_view_module": "@jupyter-widgets/controls",
            "_model_module_version": "1.5.0",
            "_view_count": null,
            "_view_module_version": "1.5.0",
            "box_style": "",
            "layout": "IPY_MODEL_6301d38e01c24a8494d0d53a73c0992b",
            "_model_module": "@jupyter-widgets/controls",
            "children": [
              "IPY_MODEL_659230c01b5f418b9dfd8dff697e11a4",
              "IPY_MODEL_4ab592f3ff6b4274a5ccd513676b8be5"
            ]
          }
        },
        "6301d38e01c24a8494d0d53a73c0992b": {
          "model_module": "@jupyter-widgets/base",
          "model_name": "LayoutModel",
          "state": {
            "_view_name": "LayoutView",
            "grid_template_rows": null,
            "right": null,
            "justify_content": null,
            "_view_module": "@jupyter-widgets/base",
            "overflow": null,
            "_model_module_version": "1.2.0",
            "_view_count": null,
            "flex_flow": null,
            "width": null,
            "min_width": null,
            "border": null,
            "align_items": null,
            "bottom": null,
            "_model_module": "@jupyter-widgets/base",
            "top": null,
            "grid_column": null,
            "overflow_y": null,
            "overflow_x": null,
            "grid_auto_flow": null,
            "grid_area": null,
            "grid_template_columns": null,
            "flex": null,
            "_model_name": "LayoutModel",
            "justify_items": null,
            "grid_row": null,
            "max_height": null,
            "align_content": null,
            "visibility": null,
            "align_self": null,
            "height": null,
            "min_height": null,
            "padding": null,
            "grid_auto_rows": null,
            "grid_gap": null,
            "max_width": null,
            "order": null,
            "_view_module_version": "1.2.0",
            "grid_template_areas": null,
            "object_position": null,
            "object_fit": null,
            "grid_auto_columns": null,
            "margin": null,
            "display": null,
            "left": null
          }
        },
        "659230c01b5f418b9dfd8dff697e11a4": {
          "model_module": "@jupyter-widgets/controls",
          "model_name": "FloatProgressModel",
          "state": {
            "_view_name": "ProgressView",
            "style": "IPY_MODEL_c521fa0d35804f05959bbe4124a7198a",
            "_dom_classes": [],
            "description": "100%",
            "_model_name": "FloatProgressModel",
            "bar_style": "success",
            "max": 178728960,
            "_view_module": "@jupyter-widgets/controls",
            "_model_module_version": "1.5.0",
            "value": 178728960,
            "_view_count": null,
            "_view_module_version": "1.5.0",
            "orientation": "horizontal",
            "min": 0,
            "description_tooltip": null,
            "_model_module": "@jupyter-widgets/controls",
            "layout": "IPY_MODEL_b1499231d63949a1a8f5df3d6ea71a1b"
          }
        },
        "4ab592f3ff6b4274a5ccd513676b8be5": {
          "model_module": "@jupyter-widgets/controls",
          "model_name": "HTMLModel",
          "state": {
            "_view_name": "HTMLView",
            "style": "IPY_MODEL_7ba7c62b96b74371b3b3dba5becd0e66",
            "_dom_classes": [],
            "description": "",
            "_model_name": "HTMLModel",
            "placeholder": "​",
            "_view_module": "@jupyter-widgets/controls",
            "_model_module_version": "1.5.0",
            "value": " 170M/170M [00:20&lt;00:00, 8.61MB/s]",
            "_view_count": null,
            "_view_module_version": "1.5.0",
            "description_tooltip": null,
            "_model_module": "@jupyter-widgets/controls",
            "layout": "IPY_MODEL_3675b18b213c4cca909a3ccde473d9c0"
          }
        },
        "c521fa0d35804f05959bbe4124a7198a": {
          "model_module": "@jupyter-widgets/controls",
          "model_name": "ProgressStyleModel",
          "state": {
            "_view_name": "StyleView",
            "_model_name": "ProgressStyleModel",
            "description_width": "initial",
            "_view_module": "@jupyter-widgets/base",
            "_model_module_version": "1.5.0",
            "_view_count": null,
            "_view_module_version": "1.2.0",
            "bar_color": null,
            "_model_module": "@jupyter-widgets/controls"
          }
        },
        "b1499231d63949a1a8f5df3d6ea71a1b": {
          "model_module": "@jupyter-widgets/base",
          "model_name": "LayoutModel",
          "state": {
            "_view_name": "LayoutView",
            "grid_template_rows": null,
            "right": null,
            "justify_content": null,
            "_view_module": "@jupyter-widgets/base",
            "overflow": null,
            "_model_module_version": "1.2.0",
            "_view_count": null,
            "flex_flow": null,
            "width": null,
            "min_width": null,
            "border": null,
            "align_items": null,
            "bottom": null,
            "_model_module": "@jupyter-widgets/base",
            "top": null,
            "grid_column": null,
            "overflow_y": null,
            "overflow_x": null,
            "grid_auto_flow": null,
            "grid_area": null,
            "grid_template_columns": null,
            "flex": null,
            "_model_name": "LayoutModel",
            "justify_items": null,
            "grid_row": null,
            "max_height": null,
            "align_content": null,
            "visibility": null,
            "align_self": null,
            "height": null,
            "min_height": null,
            "padding": null,
            "grid_auto_rows": null,
            "grid_gap": null,
            "max_width": null,
            "order": null,
            "_view_module_version": "1.2.0",
            "grid_template_areas": null,
            "object_position": null,
            "object_fit": null,
            "grid_auto_columns": null,
            "margin": null,
            "display": null,
            "left": null
          }
        },
        "7ba7c62b96b74371b3b3dba5becd0e66": {
          "model_module": "@jupyter-widgets/controls",
          "model_name": "DescriptionStyleModel",
          "state": {
            "_view_name": "StyleView",
            "_model_name": "DescriptionStyleModel",
            "description_width": "",
            "_view_module": "@jupyter-widgets/base",
            "_model_module_version": "1.5.0",
            "_view_count": null,
            "_view_module_version": "1.2.0",
            "_model_module": "@jupyter-widgets/controls"
          }
        },
        "3675b18b213c4cca909a3ccde473d9c0": {
          "model_module": "@jupyter-widgets/base",
          "model_name": "LayoutModel",
          "state": {
            "_view_name": "LayoutView",
            "grid_template_rows": null,
            "right": null,
            "justify_content": null,
            "_view_module": "@jupyter-widgets/base",
            "overflow": null,
            "_model_module_version": "1.2.0",
            "_view_count": null,
            "flex_flow": null,
            "width": null,
            "min_width": null,
            "border": null,
            "align_items": null,
            "bottom": null,
            "_model_module": "@jupyter-widgets/base",
            "top": null,
            "grid_column": null,
            "overflow_y": null,
            "overflow_x": null,
            "grid_auto_flow": null,
            "grid_area": null,
            "grid_template_columns": null,
            "flex": null,
            "_model_name": "LayoutModel",
            "justify_items": null,
            "grid_row": null,
            "max_height": null,
            "align_content": null,
            "visibility": null,
            "align_self": null,
            "height": null,
            "min_height": null,
            "padding": null,
            "grid_auto_rows": null,
            "grid_gap": null,
            "max_width": null,
            "order": null,
            "_view_module_version": "1.2.0",
            "grid_template_areas": null,
            "object_position": null,
            "object_fit": null,
            "grid_auto_columns": null,
            "margin": null,
            "display": null,
            "left": null
          }
        }
      }
    }
  },
  "cells": [
    {
      "cell_type": "code",
      "metadata": {
        "id": "ZeJxwu6Q5vmY"
      },
      "source": [
        "import glob\n",
        "import matplotlib.pyplot as plt\n",
        "import numpy as np\n",
        "import cv2\n",
        "import torch\n",
        "from tqdm import tqdm\n",
        "import torch.optim as optim\n",
        "from torch.utils.data import TensorDataset, DataLoader, Dataset\n",
        "import torchvision.transforms as transforms\n",
        "from torchvision import *\n",
        "import torch.nn as nn\n",
        "from sklearn.preprocessing import LabelEncoder\n",
        "import pandas as pd\n",
        "import os\n",
        "from torch.utils.data.sampler import SubsetRandomSampler\n",
        "from torch.utils.data import Dataset, TensorDataset, DataLoader\n",
        "from PIL import Image\n",
        "from sklearn.metrics import f1_score "
      ],
      "execution_count": 19,
      "outputs": []
    },
    {
      "cell_type": "code",
      "metadata": {
        "id": "asIF1npB6GMG",
        "colab": {
          "base_uri": "https://localhost:8080/"
        },
        "outputId": "20cf2a61-25c9-47e1-898e-9b5d1cde2a37"
      },
      "source": [
        "from google.colab import drive\n",
        "drive.mount('/content/drive')"
      ],
      "execution_count": 2,
      "outputs": [
        {
          "output_type": "stream",
          "text": [
            "Mounted at /content/drive\n"
          ],
          "name": "stdout"
        }
      ]
    },
    {
      "cell_type": "code",
      "metadata": {
        "id": "y5oXdvek51y6"
      },
      "source": [
        "class Image_Train_Data(Dataset):\n",
        "    def __init__(self,data_list,data_dir = './',transform=None):\n",
        "        super().__init__()\n",
        "        self.data_list = data_list\n",
        "        self.data_dir = data_dir\n",
        "        self.transform = transform\n",
        "    \n",
        "    def __len__(self):\n",
        "        return self.data_list.shape[0]\n",
        "    \n",
        "    def __getitem__(self,item):\n",
        "        if self.train:\n",
        "            img_name,label = self.data_list.iloc[item]\n",
        "        else:\n",
        "            img_name = self.data_list.iloc[item]['ImageId']\n",
        "        img_path = os.path.join(self.data_dir,img_name)\n",
        "        img = cv2.imread(img_path,1)\n",
        "        img = cv2.resize(img,(256,256))\n",
        "        if self.transform is not None:\n",
        "            img = self.transform(img)\n",
        "        \n",
        "        return {\n",
        "              'gt' : img,\n",
        "              'label' : torch.tensor(label)\n",
        "              }"
      ],
      "execution_count": 3,
      "outputs": []
    },
    {
      "cell_type": "code",
      "metadata": {
        "id": "iWKHv74L6CJo"
      },
      "source": [
        "train_path = '/content/drive/My Drive/train_images/train_images'\n",
        "test_path = '/content/drive/My Drive/test_images/test_images'"
      ],
      "execution_count": 4,
      "outputs": []
    },
    {
      "cell_type": "code",
      "metadata": {
        "colab": {
          "base_uri": "https://localhost:8080/"
        },
        "id": "QYCRx77B69bx",
        "outputId": "67880c8f-1f2c-42c8-cad6-fefeec76b78f"
      },
      "source": [
        "batch = 128\n",
        "train_file = pd.read_csv('/content/drive/My Drive/train.csv')\n",
        "test_file = pd.read_csv('/content/drive/My Drive/test.csv')\n",
        "enc = LabelEncoder()\n",
        "targets = enc.fit_transform(train_file['ClassName'])\n",
        "print(targets)\n",
        "train_images = []\n",
        "test_images = []"
      ],
      "execution_count": 6,
      "outputs": [
        {
          "output_type": "stream",
          "text": [
            "[55 41 12 ... 14 12 21]\n"
          ],
          "name": "stdout"
        }
      ]
    },
    {
      "cell_type": "code",
      "metadata": {
        "id": "hEf1D5JQ7Tjw"
      },
      "source": [
        "def aug_transforms(option,test_file,test_path):\n",
        "    if (option==1):\n",
        "        transforms_test = transforms.Compose([\n",
        "            transforms.ToPILImage(),\n",
        "            transforms.ToTensor(),\n",
        "            transforms.Normalize((0.5,0.5,0.5) , (0.5,0.5,0.5))\n",
        "        ])\n",
        "    if (option==2):\n",
        "        transforms_test = transforms.Compose([\n",
        "            transforms.ToPILImage(),\n",
        "            transforms.ToTensor(),\n",
        "            transforms.Normalize((0.5,0.5,0.5) , (0.5,0.5,0.5)),\n",
        "            transforms.ColorJitter(),\n",
        "            transforms.RandomRotation(10,fill=(0,)),\n",
        "            transforms.RandomHorizontalFlip(p=0.5),\n",
        "            transforms.RandomVerticalFlip(p=0.5),\n",
        "            transforms.RandomAffine(10,translate=(0.2,0.4))\n",
        "        ])\n",
        "    test_data = Image_Train_Data(data_list= test_file,data_dir = test_path,transform = transforms_test)\n",
        "    \n",
        "    return test_data"
      ],
      "execution_count": 9,
      "outputs": []
    },
    {
      "cell_type": "code",
      "metadata": {
        "id": "kb3XBqdw7ls6"
      },
      "source": [
        "ntrain = train_file\n",
        "ntrain['ClassName'] = targets\n",
        "\n",
        "train_data = aug_transforms(2,ntrain,train_path)"
      ],
      "execution_count": 10,
      "outputs": []
    },
    {
      "cell_type": "code",
      "metadata": {
        "colab": {
          "base_uri": "https://localhost:8080/",
          "height": 796
        },
        "id": "BX17F7FW7rsw",
        "outputId": "5d69f01f-06d2-47f0-9c67-639ce03de795"
      },
      "source": [
        "num = train_file['ClassName'].value_counts()\n",
        "classes = train_file['ClassName'].unique()\n",
        "print(\"Percentage of each class\")\n",
        "print (str(len(classes))+\" classes from a total of \"+str(train_file.shape[0])+ \" images\")\n",
        "num.sort_values()\n",
        "new_num = num[:10][::-1]\n",
        "plt.figure(figsize=(10,10))\n",
        "plt.barh(enc.inverse_transform(new_num.index),new_num.values)\n",
        "plt.show()\n",
        "\n",
        "for cl in classes[:10]:\n",
        "    perc = num[cl]/ntrain.shape[0]*100\n",
        "    print(cl,'\\t',float(round(perc,2)),\"%\")"
      ],
      "execution_count": 11,
      "outputs": [
        {
          "output_type": "stream",
          "text": [
            "Percentage of each class\n",
            "61 classes from a total of 9323 images\n"
          ],
          "name": "stdout"
        },
        {
          "output_type": "display_data",
          "data": {
            "image/png": "[encoded data removed]",
            "text/plain": [
              "<Figure size 720x720 with 1 Axes>"
            ]
          },
          "metadata": {
            "tags": [],
            "needs_background": "light"
          }
        },
        {
          "output_type": "stream",
          "text": [
            "55 \t 9.26 %\n",
            "41 \t 1.18 %\n",
            "12 \t 0.9 %\n",
            "44 \t 5.74 %\n",
            "23 \t 2.24 %\n",
            "13 \t 3.71 %\n",
            "9 \t 6.38 %\n",
            "1 \t 2.05 %\n",
            "22 \t 0.94 %\n",
            "57 \t 1.31 %\n"
          ],
          "name": "stdout"
        }
      ]
    },
    {
      "cell_type": "code",
      "metadata": {
        "id": "gkOBOkPw7_-W"
      },
      "source": [
        "valid_size = 0.2\n",
        "indices = list(range(len(train_data)))\n",
        "np.random.shuffle(indices)\n",
        "split = int(valid_size*len(train_data))\n",
        "train_idx= indices[split:]\n",
        "valid_idx = indices[:split]\n",
        "\n",
        "train_sampler = SubsetRandomSampler(train_idx)\n",
        "valid_sampler = SubsetRandomSampler(valid_idx)\n",
        "\n",
        "train_loader = DataLoader(train_data, batch_size = batch, sampler = train_sampler)\n",
        "valid_loader = DataLoader(train_data, batch_size = batch, sampler = valid_sampler)"
      ],
      "execution_count": 12,
      "outputs": []
    },
    {
      "cell_type": "code",
      "metadata": {
        "colab": {
          "base_uri": "https://localhost:8080/"
        },
        "id": "ifBAwgmC8J6u",
        "outputId": "c8133e22-4d2b-4194-83a5-6c0439466ea3"
      },
      "source": [
        "device = torch.device(\"cuda:0\" if torch.cuda.is_available() else \"cpu\")\n",
        "print(device)"
      ],
      "execution_count": 13,
      "outputs": [
        {
          "output_type": "stream",
          "text": [
            "cuda:0\n"
          ],
          "name": "stdout"
        }
      ]
    },
    {
      "cell_type": "code",
      "metadata": {
        "colab": {
          "base_uri": "https://localhost:8080/",
          "height": 1000,
          "referenced_widgets": [
            "e81ef3759ef34d44be763a72ed1110b0",
            "6301d38e01c24a8494d0d53a73c0992b",
            "659230c01b5f418b9dfd8dff697e11a4",
            "4ab592f3ff6b4274a5ccd513676b8be5",
            "c521fa0d35804f05959bbe4124a7198a",
            "b1499231d63949a1a8f5df3d6ea71a1b",
            "7ba7c62b96b74371b3b3dba5becd0e66",
            "3675b18b213c4cca909a3ccde473d9c0"
          ]
        },
        "id": "4CLoPbEg8Mm6",
        "outputId": "f6886163-52c2-4f26-b09f-8c4166294c1d"
      },
      "source": [
        "model = models.resnet101(pretrained=True)\n",
        "\n",
        "for param in model.parameters():\n",
        "  param.requires_grad = False\n",
        "\n",
        "num_ftrs = model.fc.in_features\n",
        "model.fc = nn.Linear(num_ftrs, 61)\n",
        "model.fc = model.fc.cuda() if device else model.fc\n",
        "\n",
        "model = model.to(device)\n",
        "error = nn.CrossEntropyLoss().to(device)\n",
        "optimizer = optim.Adam(model.parameters())\n",
        "print(model)"
      ],
      "execution_count": 14,
      "outputs": [
        {
          "output_type": "stream",
          "text": [
            "Downloading: \"https://download.pytorch.org/models/resnet101-5d3b4d8f.pth\" to /root/.cache/torch/hub/checkpoints/resnet101-5d3b4d8f.pth\n"
          ],
          "name": "stderr"
        },
        {
          "output_type": "display_data",
          "data": {
            "application/vnd.jupyter.widget-view+json": {
              "model_id": "e81ef3759ef34d44be763a72ed1110b0",
              "version_minor": 0,
              "version_major": 2
            },
            "text/plain": [
              "HBox(children=(FloatProgress(value=0.0, max=178728960.0), HTML(value='')))"
            ]
          },
          "metadata": {
            "tags": []
          }
        },
        {
          "output_type": "stream",
          "text": [
            "\n",
            "ResNet(\n",
            "  (conv1): Conv2d(3, 64, kernel_size=(7, 7), stride=(2, 2), padding=(3, 3), bias=False)\n",
            "  (bn1): BatchNorm2d(64, eps=1e-05, momentum=0.1, affine=True, track_running_stats=True)\n",
            "  (relu): ReLU(inplace=True)\n",
            "  (maxpool): MaxPool2d(kernel_size=3, stride=2, padding=1, dilation=1, ceil_mode=False)\n",
            "  (layer1): Sequential(\n",
            "    (0): Bottleneck(\n",
            "      (conv1): Conv2d(64, 64, kernel_size=(1, 1), stride=(1, 1), bias=False)\n",
            "      (bn1): BatchNorm2d(64, eps=1e-05, momentum=0.1, affine=True, track_running_stats=True)\n",
            "      (conv2): Conv2d(64, 64, kernel_size=(3, 3), stride=(1, 1), padding=(1, 1), bias=False)\n",
            "      (bn2): BatchNorm2d(64, eps=1e-05, momentum=0.1, affine=True, track_running_stats=True)\n",
            "      (conv3): Conv2d(64, 256, kernel_size=(1, 1), stride=(1, 1), bias=False)\n",
            "      (bn3): BatchNorm2d(256, eps=1e-05, momentum=0.1, affine=True, track_running_stats=True)\n",
            "      (relu): ReLU(inplace=True)\n",
            "      (downsample): Sequential(\n",
            "        (0): Conv2d(64, 256, kernel_size=(1, 1), stride=(1, 1), bias=False)\n",
            "        (1): BatchNorm2d(256, eps=1e-05, momentum=0.1, affine=True, track_running_stats=True)\n",
            "      )\n",
            "    )\n",
            "    (1): Bottleneck(\n",
            "      (conv1): Conv2d(256, 64, kernel_size=(1, 1), stride=(1, 1), bias=False)\n",
            "      (bn1): BatchNorm2d(64, eps=1e-05, momentum=0.1, affine=True, track_running_stats=True)\n",
            "      (conv2): Conv2d(64, 64, kernel_size=(3, 3), stride=(1, 1), padding=(1, 1), bias=False)\n",
            "      (bn2): BatchNorm2d(64, eps=1e-05, momentum=0.1, affine=True, track_running_stats=True)\n",
            "      (conv3): Conv2d(64, 256, kernel_size=(1, 1), stride=(1, 1), bias=False)\n",
            "      (bn3): BatchNorm2d(256, eps=1e-05, momentum=0.1, affine=True, track_running_stats=True)\n",
            "      (relu): ReLU(inplace=True)\n",
            "    )\n",
            "    (2): Bottleneck(\n",
            "      (conv1): Conv2d(256, 64, kernel_size=(1, 1), stride=(1, 1), bias=False)\n",
            "      (bn1): BatchNorm2d(64, eps=1e-05, momentum=0.1, affine=True, track_running_stats=True)\n",
            "      (conv2): Conv2d(64, 64, kernel_size=(3, 3), stride=(1, 1), padding=(1, 1), bias=False)\n",
            "      (bn2): BatchNorm2d(64, eps=1e-05, momentum=0.1, affine=True, track_running_stats=True)\n",
            "      (conv3): Conv2d(64, 256, kernel_size=(1, 1), stride=(1, 1), bias=False)\n",
            "      (bn3): BatchNorm2d(256, eps=1e-05, momentum=0.1, affine=True, track_running_stats=True)\n",
            "      (relu): ReLU(inplace=True)\n",
            "    )\n",
            "  )\n",
            "  (layer2): Sequential(\n",
            "    (0): Bottleneck(\n",
            "      (conv1): Conv2d(256, 128, kernel_size=(1, 1), stride=(1, 1), bias=False)\n",
            "      (bn1): BatchNorm2d(128, eps=1e-05, momentum=0.1, affine=True, track_running_stats=True)\n",
            "      (conv2): Conv2d(128, 128, kernel_size=(3, 3), stride=(2, 2), padding=(1, 1), bias=False)\n",
            "      (bn2): BatchNorm2d(128, eps=1e-05, momentum=0.1, affine=True, track_running_stats=True)\n",
            "      (conv3): Conv2d(128, 512, kernel_size=(1, 1), stride=(1, 1), bias=False)\n",
            "      (bn3): BatchNorm2d(512, eps=1e-05, momentum=0.1, affine=True, track_running_stats=True)\n",
            "      (relu): ReLU(inplace=True)\n",
            "      (downsample): Sequential(\n",
            "        (0): Conv2d(256, 512, kernel_size=(1, 1), stride=(2, 2), bias=False)\n",
            "        (1): BatchNorm2d(512, eps=1e-05, momentum=0.1, affine=True, track_running_stats=True)\n",
            "      )\n",
            "    )\n",
            "    (1): Bottleneck(\n",
            "      (conv1): Conv2d(512, 128, kernel_size=(1, 1), stride=(1, 1), bias=False)\n",
            "      (bn1): BatchNorm2d(128, eps=1e-05, momentum=0.1, affine=True, track_running_stats=True)\n",
            "      (conv2): Conv2d(128, 128, kernel_size=(3, 3), stride=(1, 1), padding=(1, 1), bias=False)\n",
            "      (bn2): BatchNorm2d(128, eps=1e-05, momentum=0.1, affine=True, track_running_stats=True)\n",
            "      (conv3): Conv2d(128, 512, kernel_size=(1, 1), stride=(1, 1), bias=False)\n",
            "      (bn3): BatchNorm2d(512, eps=1e-05, momentum=0.1, affine=True, track_running_stats=True)\n",
            "      (relu): ReLU(inplace=True)\n",
            "    )\n",
            "    (2): Bottleneck(\n",
            "      (conv1): Conv2d(512, 128, kernel_size=(1, 1), stride=(1, 1), bias=False)\n",
            "      (bn1): BatchNorm2d(128, eps=1e-05, momentum=0.1, affine=True, track_running_stats=True)\n",
            "      (conv2): Conv2d(128, 128, kernel_size=(3, 3), stride=(1, 1), padding=(1, 1), bias=False)\n",
            "      (bn2): BatchNorm2d(128, eps=1e-05, momentum=0.1, affine=True, track_running_stats=True)\n",
            "      (conv3): Conv2d(128, 512, kernel_size=(1, 1), stride=(1, 1), bias=False)\n",
            "      (bn3): BatchNorm2d(512, eps=1e-05, momentum=0.1, affine=True, track_running_stats=True)\n",
            "      (relu): ReLU(inplace=True)\n",
            "    )\n",
            "    (3): Bottleneck(\n",
            "      (conv1): Conv2d(512, 128, kernel_size=(1, 1), stride=(1, 1), bias=False)\n",
            "      (bn1): BatchNorm2d(128, eps=1e-05, momentum=0.1, affine=True, track_running_stats=True)\n",
            "      (conv2): Conv2d(128, 128, kernel_size=(3, 3), stride=(1, 1), padding=(1, 1), bias=False)\n",
            "      (bn2): BatchNorm2d(128, eps=1e-05, momentum=0.1, affine=True, track_running_stats=True)\n",
            "      (conv3): Conv2d(128, 512, kernel_size=(1, 1), stride=(1, 1), bias=False)\n",
            "      (bn3): BatchNorm2d(512, eps=1e-05, momentum=0.1, affine=True, track_running_stats=True)\n",
            "      (relu): ReLU(inplace=True)\n",
            "    )\n",
            "  )\n",
            "  (layer3): Sequential(\n",
            "    (0): Bottleneck(\n",
            "      (conv1): Conv2d(512, 256, kernel_size=(1, 1), stride=(1, 1), bias=False)\n",
            "      (bn1): BatchNorm2d(256, eps=1e-05, momentum=0.1, affine=True, track_running_stats=True)\n",
            "      (conv2): Conv2d(256, 256, kernel_size=(3, 3), stride=(2, 2), padding=(1, 1), bias=False)\n",
            "      (bn2): BatchNorm2d(256, eps=1e-05, momentum=0.1, affine=True, track_running_stats=True)\n",
            "      (conv3): Conv2d(256, 1024, kernel_size=(1, 1), stride=(1, 1), bias=False)\n",
            "      (bn3): BatchNorm2d(1024, eps=1e-05, momentum=0.1, affine=True, track_running_stats=True)\n",
            "      (relu): ReLU(inplace=True)\n",
            "      (downsample): Sequential(\n",
            "        (0): Conv2d(512, 1024, kernel_size=(1, 1), stride=(2, 2), bias=False)\n",
            "        (1): BatchNorm2d(1024, eps=1e-05, momentum=0.1, affine=True, track_running_stats=True)\n",
            "      )\n",
            "    )\n",
            "    (1): Bottleneck(\n",
            "      (conv1): Conv2d(1024, 256, kernel_size=(1, 1), stride=(1, 1), bias=False)\n",
            "      (bn1): BatchNorm2d(256, eps=1e-05, momentum=0.1, affine=True, track_running_stats=True)\n",
            "      (conv2): Conv2d(256, 256, kernel_size=(3, 3), stride=(1, 1), padding=(1, 1), bias=False)\n",
            "      (bn2): BatchNorm2d(256, eps=1e-05, momentum=0.1, affine=True, track_running_stats=True)\n",
            "      (conv3): Conv2d(256, 1024, kernel_size=(1, 1), stride=(1, 1), bias=False)\n",
            "      (bn3): BatchNorm2d(1024, eps=1e-05, momentum=0.1, affine=True, track_running_stats=True)\n",
            "      (relu): ReLU(inplace=True)\n",
            "    )\n",
            "    (2): Bottleneck(\n",
            "      (conv1): Conv2d(1024, 256, kernel_size=(1, 1), stride=(1, 1), bias=False)\n",
            "      (bn1): BatchNorm2d(256, eps=1e-05, momentum=0.1, affine=True, track_running_stats=True)\n",
            "      (conv2): Conv2d(256, 256, kernel_size=(3, 3), stride=(1, 1), padding=(1, 1), bias=False)\n",
            "      (bn2): BatchNorm2d(256, eps=1e-05, momentum=0.1, affine=True, track_running_stats=True)\n",
            "      (conv3): Conv2d(256, 1024, kernel_size=(1, 1), stride=(1, 1), bias=False)\n",
            "      (bn3): BatchNorm2d(1024, eps=1e-05, momentum=0.1, affine=True, track_running_stats=True)\n",
            "      (relu): ReLU(inplace=True)\n",
            "    )\n",
            "    (3): Bottleneck(\n",
            "      (conv1): Conv2d(1024, 256, kernel_size=(1, 1), stride=(1, 1), bias=False)\n",
            "      (bn1): BatchNorm2d(256, eps=1e-05, momentum=0.1, affine=True, track_running_stats=True)\n",
            "      (conv2): Conv2d(256, 256, kernel_size=(3, 3), stride=(1, 1), padding=(1, 1), bias=False)\n",
            "      (bn2): BatchNorm2d(256, eps=1e-05, momentum=0.1, affine=True, track_running_stats=True)\n",
            "      (conv3): Conv2d(256, 1024, kernel_size=(1, 1), stride=(1, 1), bias=False)\n",
            "      (bn3): BatchNorm2d(1024, eps=1e-05, momentum=0.1, affine=True, track_running_stats=True)\n",
            "      (relu): ReLU(inplace=True)\n",
            "    )\n",
            "    (4): Bottleneck(\n",
            "      (conv1): Conv2d(1024, 256, kernel_size=(1, 1), stride=(1, 1), bias=False)\n",
            "      (bn1): BatchNorm2d(256, eps=1e-05, momentum=0.1, affine=True, track_running_stats=True)\n",
            "      (conv2): Conv2d(256, 256, kernel_size=(3, 3), stride=(1, 1), padding=(1, 1), bias=False)\n",
            "      (bn2): BatchNorm2d(256, eps=1e-05, momentum=0.1, affine=True, track_running_stats=True)\n",
            "      (conv3): Conv2d(256, 1024, kernel_size=(1, 1), stride=(1, 1), bias=False)\n",
            "      (bn3): BatchNorm2d(1024, eps=1e-05, momentum=0.1, affine=True, track_running_stats=True)\n",
            "      (relu): ReLU(inplace=True)\n",
            "    )\n",
            "    (5): Bottleneck(\n",
            "      (conv1): Conv2d(1024, 256, kernel_size=(1, 1), stride=(1, 1), bias=False)\n",
            "      (bn1): BatchNorm2d(256, eps=1e-05, momentum=0.1, affine=True, track_running_stats=True)\n",
            "      (conv2): Conv2d(256, 256, kernel_size=(3, 3), stride=(1, 1), padding=(1, 1), bias=False)\n",
            "      (bn2): BatchNorm2d(256, eps=1e-05, momentum=0.1, affine=True, track_running_stats=True)\n",
            "      (conv3): Conv2d(256, 1024, kernel_size=(1, 1), stride=(1, 1), bias=False)\n",
            "      (bn3): BatchNorm2d(1024, eps=1e-05, momentum=0.1, affine=True, track_running_stats=True)\n",
            "      (relu): ReLU(inplace=True)\n",
            "    )\n",
            "    (6): Bottleneck(\n",
            "      (conv1): Conv2d(1024, 256, kernel_size=(1, 1), stride=(1, 1), bias=False)\n",
            "      (bn1): BatchNorm2d(256, eps=1e-05, momentum=0.1, affine=True, track_running_stats=True)\n",
            "      (conv2): Conv2d(256, 256, kernel_size=(3, 3), stride=(1, 1), padding=(1, 1), bias=False)\n",
            "      (bn2): BatchNorm2d(256, eps=1e-05, momentum=0.1, affine=True, track_running_stats=True)\n",
            "      (conv3): Conv2d(256, 1024, kernel_size=(1, 1), stride=(1, 1), bias=False)\n",
            "      (bn3): BatchNorm2d(1024, eps=1e-05, momentum=0.1, affine=True, track_running_stats=True)\n",
            "      (relu): ReLU(inplace=True)\n",
            "    )\n",
            "    (7): Bottleneck(\n",
            "      (conv1): Conv2d(1024, 256, kernel_size=(1, 1), stride=(1, 1), bias=False)\n",
            "      (bn1): BatchNorm2d(256, eps=1e-05, momentum=0.1, affine=True, track_running_stats=True)\n",
            "      (conv2): Conv2d(256, 256, kernel_size=(3, 3), stride=(1, 1), padding=(1, 1), bias=False)\n",
            "      (bn2): BatchNorm2d(256, eps=1e-05, momentum=0.1, affine=True, track_running_stats=True)\n",
            "      (conv3): Conv2d(256, 1024, kernel_size=(1, 1), stride=(1, 1), bias=False)\n",
            "      (bn3): BatchNorm2d(1024, eps=1e-05, momentum=0.1, affine=True, track_running_stats=True)\n",
            "      (relu): ReLU(inplace=True)\n",
            "    )\n",
            "    (8): Bottleneck(\n",
            "      (conv1): Conv2d(1024, 256, kernel_size=(1, 1), stride=(1, 1), bias=False)\n",
            "      (bn1): BatchNorm2d(256, eps=1e-05, momentum=0.1, affine=True, track_running_stats=True)\n",
            "      (conv2): Conv2d(256, 256, kernel_size=(3, 3), stride=(1, 1), padding=(1, 1), bias=False)\n",
            "      (bn2): BatchNorm2d(256, eps=1e-05, momentum=0.1, affine=True, track_running_stats=True)\n",
            "      (conv3): Conv2d(256, 1024, kernel_size=(1, 1), stride=(1, 1), bias=False)\n",
            "      (bn3): BatchNorm2d(1024, eps=1e-05, momentum=0.1, affine=True, track_running_stats=True)\n",
            "      (relu): ReLU(inplace=True)\n",
            "    )\n",
            "    (9): Bottleneck(\n",
            "      (conv1): Conv2d(1024, 256, kernel_size=(1, 1), stride=(1, 1), bias=False)\n",
            "      (bn1): BatchNorm2d(256, eps=1e-05, momentum=0.1, affine=True, track_running_stats=True)\n",
            "      (conv2): Conv2d(256, 256, kernel_size=(3, 3), stride=(1, 1), padding=(1, 1), bias=False)\n",
            "      (bn2): BatchNorm2d(256, eps=1e-05, momentum=0.1, affine=True, track_running_stats=True)\n",
            "      (conv3): Conv2d(256, 1024, kernel_size=(1, 1), stride=(1, 1), bias=False)\n",
            "      (bn3): BatchNorm2d(1024, eps=1e-05, momentum=0.1, affine=True, track_running_stats=True)\n",
            "      (relu): ReLU(inplace=True)\n",
            "    )\n",
            "    (10): Bottleneck(\n",
            "      (conv1): Conv2d(1024, 256, kernel_size=(1, 1), stride=(1, 1), bias=False)\n",
            "      (bn1): BatchNorm2d(256, eps=1e-05, momentum=0.1, affine=True, track_running_stats=True)\n",
            "      (conv2): Conv2d(256, 256, kernel_size=(3, 3), stride=(1, 1), padding=(1, 1), bias=False)\n",
            "      (bn2): BatchNorm2d(256, eps=1e-05, momentum=0.1, affine=True, track_running_stats=True)\n",
            "      (conv3): Conv2d(256, 1024, kernel_size=(1, 1), stride=(1, 1), bias=False)\n",
            "      (bn3): BatchNorm2d(1024, eps=1e-05, momentum=0.1, affine=True, track_running_stats=True)\n",
            "      (relu): ReLU(inplace=True)\n",
            "    )\n",
            "    (11): Bottleneck(\n",
            "      (conv1): Conv2d(1024, 256, kernel_size=(1, 1), stride=(1, 1), bias=False)\n",
            "      (bn1): BatchNorm2d(256, eps=1e-05, momentum=0.1, affine=True, track_running_stats=True)\n",
            "      (conv2): Conv2d(256, 256, kernel_size=(3, 3), stride=(1, 1), padding=(1, 1), bias=False)\n",
            "      (bn2): BatchNorm2d(256, eps=1e-05, momentum=0.1, affine=True, track_running_stats=True)\n",
            "      (conv3): Conv2d(256, 1024, kernel_size=(1, 1), stride=(1, 1), bias=False)\n",
            "      (bn3): BatchNorm2d(1024, eps=1e-05, momentum=0.1, affine=True, track_running_stats=True)\n",
            "      (relu): ReLU(inplace=True)\n",
            "    )\n",
            "    (12): Bottleneck(\n",
            "      (conv1): Conv2d(1024, 256, kernel_size=(1, 1), stride=(1, 1), bias=False)\n",
            "      (bn1): BatchNorm2d(256, eps=1e-05, momentum=0.1, affine=True, track_running_stats=True)\n",
            "      (conv2): Conv2d(256, 256, kernel_size=(3, 3), stride=(1, 1), padding=(1, 1), bias=False)\n",
            "      (bn2): BatchNorm2d(256, eps=1e-05, momentum=0.1, affine=True, track_running_stats=True)\n",
            "      (conv3): Conv2d(256, 1024, kernel_size=(1, 1), stride=(1, 1), bias=False)\n",
            "      (bn3): BatchNorm2d(1024, eps=1e-05, momentum=0.1, affine=True, track_running_stats=True)\n",
            "      (relu): ReLU(inplace=True)\n",
            "    )\n",
            "    (13): Bottleneck(\n",
            "      (conv1): Conv2d(1024, 256, kernel_size=(1, 1), stride=(1, 1), bias=False)\n",
            "      (bn1): BatchNorm2d(256, eps=1e-05, momentum=0.1, affine=True, track_running_stats=True)\n",
            "      (conv2): Conv2d(256, 256, kernel_size=(3, 3), stride=(1, 1), padding=(1, 1), bias=False)\n",
            "      (bn2): BatchNorm2d(256, eps=1e-05, momentum=0.1, affine=True, track_running_stats=True)\n",
            "      (conv3): Conv2d(256, 1024, kernel_size=(1, 1), stride=(1, 1), bias=False)\n",
            "      (bn3): BatchNorm2d(1024, eps=1e-05, momentum=0.1, affine=True, track_running_stats=True)\n",
            "      (relu): ReLU(inplace=True)\n",
            "    )\n",
            "    (14): Bottleneck(\n",
            "      (conv1): Conv2d(1024, 256, kernel_size=(1, 1), stride=(1, 1), bias=False)\n",
            "      (bn1): BatchNorm2d(256, eps=1e-05, momentum=0.1, affine=True, track_running_stats=True)\n",
            "      (conv2): Conv2d(256, 256, kernel_size=(3, 3), stride=(1, 1), padding=(1, 1), bias=False)\n",
            "      (bn2): BatchNorm2d(256, eps=1e-05, momentum=0.1, affine=True, track_running_stats=True)\n",
            "      (conv3): Conv2d(256, 1024, kernel_size=(1, 1), stride=(1, 1), bias=False)\n",
            "      (bn3): BatchNorm2d(1024, eps=1e-05, momentum=0.1, affine=True, track_running_stats=True)\n",
            "      (relu): ReLU(inplace=True)\n",
            "    )\n",
            "    (15): Bottleneck(\n",
            "      (conv1): Conv2d(1024, 256, kernel_size=(1, 1), stride=(1, 1), bias=False)\n",
            "      (bn1): BatchNorm2d(256, eps=1e-05, momentum=0.1, affine=True, track_running_stats=True)\n",
            "      (conv2): Conv2d(256, 256, kernel_size=(3, 3), stride=(1, 1), padding=(1, 1), bias=False)\n",
            "      (bn2): BatchNorm2d(256, eps=1e-05, momentum=0.1, affine=True, track_running_stats=True)\n",
            "      (conv3): Conv2d(256, 1024, kernel_size=(1, 1), stride=(1, 1), bias=False)\n",
            "      (bn3): BatchNorm2d(1024, eps=1e-05, momentum=0.1, affine=True, track_running_stats=True)\n",
            "      (relu): ReLU(inplace=True)\n",
            "    )\n",
            "    (16): Bottleneck(\n",
            "      (conv1): Conv2d(1024, 256, kernel_size=(1, 1), stride=(1, 1), bias=False)\n",
            "      (bn1): BatchNorm2d(256, eps=1e-05, momentum=0.1, affine=True, track_running_stats=True)\n",
            "      (conv2): Conv2d(256, 256, kernel_size=(3, 3), stride=(1, 1), padding=(1, 1), bias=False)\n",
            "      (bn2): BatchNorm2d(256, eps=1e-05, momentum=0.1, affine=True, track_running_stats=True)\n",
            "      (conv3): Conv2d(256, 1024, kernel_size=(1, 1), stride=(1, 1), bias=False)\n",
            "      (bn3): BatchNorm2d(1024, eps=1e-05, momentum=0.1, affine=True, track_running_stats=True)\n",
            "      (relu): ReLU(inplace=True)\n",
            "    )\n",
            "    (17): Bottleneck(\n",
            "      (conv1): Conv2d(1024, 256, kernel_size=(1, 1), stride=(1, 1), bias=False)\n",
            "      (bn1): BatchNorm2d(256, eps=1e-05, momentum=0.1, affine=True, track_running_stats=True)\n",
            "      (conv2): Conv2d(256, 256, kernel_size=(3, 3), stride=(1, 1), padding=(1, 1), bias=False)\n",
            "      (bn2): BatchNorm2d(256, eps=1e-05, momentum=0.1, affine=True, track_running_stats=True)\n",
            "      (conv3): Conv2d(256, 1024, kernel_size=(1, 1), stride=(1, 1), bias=False)\n",
            "      (bn3): BatchNorm2d(1024, eps=1e-05, momentum=0.1, affine=True, track_running_stats=True)\n",
            "      (relu): ReLU(inplace=True)\n",
            "    )\n",
            "    (18): Bottleneck(\n",
            "      (conv1): Conv2d(1024, 256, kernel_size=(1, 1), stride=(1, 1), bias=False)\n",
            "      (bn1): BatchNorm2d(256, eps=1e-05, momentum=0.1, affine=True, track_running_stats=True)\n",
            "      (conv2): Conv2d(256, 256, kernel_size=(3, 3), stride=(1, 1), padding=(1, 1), bias=False)\n",
            "      (bn2): BatchNorm2d(256, eps=1e-05, momentum=0.1, affine=True, track_running_stats=True)\n",
            "      (conv3): Conv2d(256, 1024, kernel_size=(1, 1), stride=(1, 1), bias=False)\n",
            "      (bn3): BatchNorm2d(1024, eps=1e-05, momentum=0.1, affine=True, track_running_stats=True)\n",
            "      (relu): ReLU(inplace=True)\n",
            "    )\n",
            "    (19): Bottleneck(\n",
            "      (conv1): Conv2d(1024, 256, kernel_size=(1, 1), stride=(1, 1), bias=False)\n",
            "      (bn1): BatchNorm2d(256, eps=1e-05, momentum=0.1, affine=True, track_running_stats=True)\n",
            "      (conv2): Conv2d(256, 256, kernel_size=(3, 3), stride=(1, 1), padding=(1, 1), bias=False)\n",
            "      (bn2): BatchNorm2d(256, eps=1e-05, momentum=0.1, affine=True, track_running_stats=True)\n",
            "      (conv3): Conv2d(256, 1024, kernel_size=(1, 1), stride=(1, 1), bias=False)\n",
            "      (bn3): BatchNorm2d(1024, eps=1e-05, momentum=0.1, affine=True, track_running_stats=True)\n",
            "      (relu): ReLU(inplace=True)\n",
            "    )\n",
            "    (20): Bottleneck(\n",
            "      (conv1): Conv2d(1024, 256, kernel_size=(1, 1), stride=(1, 1), bias=False)\n",
            "      (bn1): BatchNorm2d(256, eps=1e-05, momentum=0.1, affine=True, track_running_stats=True)\n",
            "      (conv2): Conv2d(256, 256, kernel_size=(3, 3), stride=(1, 1), padding=(1, 1), bias=False)\n",
            "      (bn2): BatchNorm2d(256, eps=1e-05, momentum=0.1, affine=True, track_running_stats=True)\n",
            "      (conv3): Conv2d(256, 1024, kernel_size=(1, 1), stride=(1, 1), bias=False)\n",
            "      (bn3): BatchNorm2d(1024, eps=1e-05, momentum=0.1, affine=True, track_running_stats=True)\n",
            "      (relu): ReLU(inplace=True)\n",
            "    )\n",
            "    (21): Bottleneck(\n",
            "      (conv1): Conv2d(1024, 256, kernel_size=(1, 1), stride=(1, 1), bias=False)\n",
            "      (bn1): BatchNorm2d(256, eps=1e-05, momentum=0.1, affine=True, track_running_stats=True)\n",
            "      (conv2): Conv2d(256, 256, kernel_size=(3, 3), stride=(1, 1), padding=(1, 1), bias=False)\n",
            "      (bn2): BatchNorm2d(256, eps=1e-05, momentum=0.1, affine=True, track_running_stats=True)\n",
            "      (conv3): Conv2d(256, 1024, kernel_size=(1, 1), stride=(1, 1), bias=False)\n",
            "      (bn3): BatchNorm2d(1024, eps=1e-05, momentum=0.1, affine=True, track_running_stats=True)\n",
            "      (relu): ReLU(inplace=True)\n",
            "    )\n",
            "    (22): Bottleneck(\n",
            "      (conv1): Conv2d(1024, 256, kernel_size=(1, 1), stride=(1, 1), bias=False)\n",
            "      (bn1): BatchNorm2d(256, eps=1e-05, momentum=0.1, affine=True, track_running_stats=True)\n",
            "      (conv2): Conv2d(256, 256, kernel_size=(3, 3), stride=(1, 1), padding=(1, 1), bias=False)\n",
            "      (bn2): BatchNorm2d(256, eps=1e-05, momentum=0.1, affine=True, track_running_stats=True)\n",
            "      (conv3): Conv2d(256, 1024, kernel_size=(1, 1), stride=(1, 1), bias=False)\n",
            "      (bn3): BatchNorm2d(1024, eps=1e-05, momentum=0.1, affine=True, track_running_stats=True)\n",
            "      (relu): ReLU(inplace=True)\n",
            "    )\n",
            "  )\n",
            "  (layer4): Sequential(\n",
            "    (0): Bottleneck(\n",
            "      (conv1): Conv2d(1024, 512, kernel_size=(1, 1), stride=(1, 1), bias=False)\n",
            "      (bn1): BatchNorm2d(512, eps=1e-05, momentum=0.1, affine=True, track_running_stats=True)\n",
            "      (conv2): Conv2d(512, 512, kernel_size=(3, 3), stride=(2, 2), padding=(1, 1), bias=False)\n",
            "      (bn2): BatchNorm2d(512, eps=1e-05, momentum=0.1, affine=True, track_running_stats=True)\n",
            "      (conv3): Conv2d(512, 2048, kernel_size=(1, 1), stride=(1, 1), bias=False)\n",
            "      (bn3): BatchNorm2d(2048, eps=1e-05, momentum=0.1, affine=True, track_running_stats=True)\n",
            "      (relu): ReLU(inplace=True)\n",
            "      (downsample): Sequential(\n",
            "        (0): Conv2d(1024, 2048, kernel_size=(1, 1), stride=(2, 2), bias=False)\n",
            "        (1): BatchNorm2d(2048, eps=1e-05, momentum=0.1, affine=True, track_running_stats=True)\n",
            "      )\n",
            "    )\n",
            "    (1): Bottleneck(\n",
            "      (conv1): Conv2d(2048, 512, kernel_size=(1, 1), stride=(1, 1), bias=False)\n",
            "      (bn1): BatchNorm2d(512, eps=1e-05, momentum=0.1, affine=True, track_running_stats=True)\n",
            "      (conv2): Conv2d(512, 512, kernel_size=(3, 3), stride=(1, 1), padding=(1, 1), bias=False)\n",
            "      (bn2): BatchNorm2d(512, eps=1e-05, momentum=0.1, affine=True, track_running_stats=True)\n",
            "      (conv3): Conv2d(512, 2048, kernel_size=(1, 1), stride=(1, 1), bias=False)\n",
            "      (bn3): BatchNorm2d(2048, eps=1e-05, momentum=0.1, affine=True, track_running_stats=True)\n",
            "      (relu): ReLU(inplace=True)\n",
            "    )\n",
            "    (2): Bottleneck(\n",
            "      (conv1): Conv2d(2048, 512, kernel_size=(1, 1), stride=(1, 1), bias=False)\n",
            "      (bn1): BatchNorm2d(512, eps=1e-05, momentum=0.1, affine=True, track_running_stats=True)\n",
            "      (conv2): Conv2d(512, 512, kernel_size=(3, 3), stride=(1, 1), padding=(1, 1), bias=False)\n",
            "      (bn2): BatchNorm2d(512, eps=1e-05, momentum=0.1, affine=True, track_running_stats=True)\n",
            "      (conv3): Conv2d(512, 2048, kernel_size=(1, 1), stride=(1, 1), bias=False)\n",
            "      (bn3): BatchNorm2d(2048, eps=1e-05, momentum=0.1, affine=True, track_running_stats=True)\n",
            "      (relu): ReLU(inplace=True)\n",
            "    )\n",
            "  )\n",
            "  (avgpool): AdaptiveAvgPool2d(output_size=(1, 1))\n",
            "  (fc): Linear(in_features=2048, out_features=61, bias=True)\n",
            ")\n"
          ],
          "name": "stdout"
        }
      ]
    },
    {
      "cell_type": "code",
      "metadata": {
        "id": "pziWgc0B8Sv9"
      },
      "source": [
        "def process_img_target(images,device):\n",
        "    data = images['gt'].squeeze(0).to(device)\n",
        "    target = images['label'].to(device)\n",
        "    return data,target"
      ],
      "execution_count": 15,
      "outputs": []
    },
    {
      "cell_type": "code",
      "metadata": {
        "colab": {
          "base_uri": "https://localhost:8080/"
        },
        "id": "PujrBTr48ZxT",
        "outputId": "e83dcd89-512f-4ff9-a02d-9854ad0250bf"
      },
      "source": [
        "n_epochs = 15\n",
        "train_losses = []\n",
        "valid_losses = []\n",
        "\n",
        "def train(model,optimizer,device,valid_loss_min,train_losses,valid_losses):\n",
        "    for epoch in range(n_epochs):\n",
        "        train_loss = 0.0\n",
        "        valid_loss = 0.0\n",
        "\n",
        "        train_size = len(train_loader.sampler)\n",
        "        valid_size = len(valid_loader.sampler)\n",
        "\n",
        "        model.train()\n",
        "        print (\"Training here...\\n\")\n",
        "        for images in tqdm(train_loader):\n",
        "            data = images['gt'].squeeze(0).to(device)\n",
        "            target = images['label'].to(device)\n",
        "            optimizer.zero_grad()\n",
        "            output = model(data)\n",
        "            loss = error(output,target)\n",
        "            loss.backward()\n",
        "            optimizer.step()\n",
        "            loss_shape = data.size(0)\n",
        "            train_loss += loss.item()*loss_shape \n",
        "        \n",
        "        model.eval()\n",
        "        print (\"Validation here...\\n\")\n",
        "        for images in tqdm(valid_loader):\n",
        "            data,target = process_img_target(images,device)\n",
        "            output = model(data)\n",
        "            loss = error(output, target)\n",
        "            loss_shape = data.size(0)\n",
        "            valid_loss += loss.item()*loss_shape\n",
        "\n",
        "        train_loss = train_loss/train_size\n",
        "        valid_loss = valid_loss/valid_size\n",
        "\n",
        "        train_losses.append(train_loss)\n",
        "        valid_losses.append(valid_loss)\n",
        "\n",
        "        print('Epoch: ',epoch,'\\tTraining Loss: {:.6f} \\tValidation Loss: {:.6f}'.format(train_loss, valid_loss))\n",
        "\n",
        "        if valid_loss <= valid_loss_min:\n",
        "            valid_loss_min = valid_loss\n",
        "            torch.save(model.state_dict(), 'best_model_so_far.pth')\n",
        "\n",
        "train(model,optimizer,device,np.Inf,[],[])"
      ],
      "execution_count": 16,
      "outputs": [
        {
          "output_type": "stream",
          "text": [
            "\r  0%|          | 0/59 [00:00<?, ?it/s]"
          ],
          "name": "stderr"
        },
        {
          "output_type": "stream",
          "text": [
            "Training here...\n",
            "\n"
          ],
          "name": "stdout"
        },
        {
          "output_type": "stream",
          "text": [
            "100%|██████████| 59/59 [44:01<00:00, 44.76s/it]\n",
            "  0%|          | 0/15 [00:00<?, ?it/s]"
          ],
          "name": "stderr"
        },
        {
          "output_type": "stream",
          "text": [
            "Validation here...\n",
            "\n"
          ],
          "name": "stdout"
        },
        {
          "output_type": "stream",
          "text": [
            "100%|██████████| 15/15 [10:46<00:00, 43.10s/it]\n"
          ],
          "name": "stderr"
        },
        {
          "output_type": "stream",
          "text": [
            "Epoch:  0 \tTraining Loss: 3.190586 \tValidation Loss: 2.656996\n"
          ],
          "name": "stdout"
        },
        {
          "output_type": "stream",
          "text": [
            "\r  0%|          | 0/59 [00:00<?, ?it/s]"
          ],
          "name": "stderr"
        },
        {
          "output_type": "stream",
          "text": [
            "Training here...\n",
            "\n"
          ],
          "name": "stdout"
        },
        {
          "output_type": "stream",
          "text": [
            "100%|██████████| 59/59 [03:46<00:00,  3.85s/it]\n",
            "  0%|          | 0/15 [00:00<?, ?it/s]"
          ],
          "name": "stderr"
        },
        {
          "output_type": "stream",
          "text": [
            "Validation here...\n",
            "\n"
          ],
          "name": "stdout"
        },
        {
          "output_type": "stream",
          "text": [
            "100%|██████████| 15/15 [00:56<00:00,  3.74s/it]\n"
          ],
          "name": "stderr"
        },
        {
          "output_type": "stream",
          "text": [
            "Epoch:  1 \tTraining Loss: 2.406571 \tValidation Loss: 2.350254\n"
          ],
          "name": "stdout"
        },
        {
          "output_type": "stream",
          "text": [
            "\r  0%|          | 0/59 [00:00<?, ?it/s]"
          ],
          "name": "stderr"
        },
        {
          "output_type": "stream",
          "text": [
            "Training here...\n",
            "\n"
          ],
          "name": "stdout"
        },
        {
          "output_type": "stream",
          "text": [
            "100%|██████████| 59/59 [03:46<00:00,  3.84s/it]\n",
            "  0%|          | 0/15 [00:00<?, ?it/s]"
          ],
          "name": "stderr"
        },
        {
          "output_type": "stream",
          "text": [
            "Validation here...\n",
            "\n"
          ],
          "name": "stdout"
        },
        {
          "output_type": "stream",
          "text": [
            "100%|██████████| 15/15 [00:55<00:00,  3.73s/it]\n"
          ],
          "name": "stderr"
        },
        {
          "output_type": "stream",
          "text": [
            "Epoch:  2 \tTraining Loss: 2.132863 \tValidation Loss: 2.168170\n"
          ],
          "name": "stdout"
        },
        {
          "output_type": "stream",
          "text": [
            "\r  0%|          | 0/59 [00:00<?, ?it/s]"
          ],
          "name": "stderr"
        },
        {
          "output_type": "stream",
          "text": [
            "Training here...\n",
            "\n"
          ],
          "name": "stdout"
        },
        {
          "output_type": "stream",
          "text": [
            "100%|██████████| 59/59 [03:47<00:00,  3.86s/it]\n",
            "  0%|          | 0/15 [00:00<?, ?it/s]"
          ],
          "name": "stderr"
        },
        {
          "output_type": "stream",
          "text": [
            "Validation here...\n",
            "\n"
          ],
          "name": "stdout"
        },
        {
          "output_type": "stream",
          "text": [
            "100%|██████████| 15/15 [00:56<00:00,  3.79s/it]\n"
          ],
          "name": "stderr"
        },
        {
          "output_type": "stream",
          "text": [
            "Epoch:  3 \tTraining Loss: 1.978860 \tValidation Loss: 2.153222\n"
          ],
          "name": "stdout"
        },
        {
          "output_type": "stream",
          "text": [
            "\r  0%|          | 0/59 [00:00<?, ?it/s]"
          ],
          "name": "stderr"
        },
        {
          "output_type": "stream",
          "text": [
            "Training here...\n",
            "\n"
          ],
          "name": "stdout"
        },
        {
          "output_type": "stream",
          "text": [
            "100%|██████████| 59/59 [03:47<00:00,  3.86s/it]\n",
            "  0%|          | 0/15 [00:00<?, ?it/s]"
          ],
          "name": "stderr"
        },
        {
          "output_type": "stream",
          "text": [
            "Validation here...\n",
            "\n"
          ],
          "name": "stdout"
        },
        {
          "output_type": "stream",
          "text": [
            "100%|██████████| 15/15 [00:56<00:00,  3.75s/it]\n"
          ],
          "name": "stderr"
        },
        {
          "output_type": "stream",
          "text": [
            "Epoch:  4 \tTraining Loss: 1.917751 \tValidation Loss: 2.085803\n"
          ],
          "name": "stdout"
        },
        {
          "output_type": "stream",
          "text": [
            "\r  0%|          | 0/59 [00:00<?, ?it/s]"
          ],
          "name": "stderr"
        },
        {
          "output_type": "stream",
          "text": [
            "Training here...\n",
            "\n"
          ],
          "name": "stdout"
        },
        {
          "output_type": "stream",
          "text": [
            "100%|██████████| 59/59 [03:49<00:00,  3.89s/it]\n",
            "  0%|          | 0/15 [00:00<?, ?it/s]"
          ],
          "name": "stderr"
        },
        {
          "output_type": "stream",
          "text": [
            "Validation here...\n",
            "\n"
          ],
          "name": "stdout"
        },
        {
          "output_type": "stream",
          "text": [
            "100%|██████████| 15/15 [00:57<00:00,  3.84s/it]\n"
          ],
          "name": "stderr"
        },
        {
          "output_type": "stream",
          "text": [
            "Epoch:  5 \tTraining Loss: 1.830573 \tValidation Loss: 2.073562\n"
          ],
          "name": "stdout"
        },
        {
          "output_type": "stream",
          "text": [
            "\r  0%|          | 0/59 [00:00<?, ?it/s]"
          ],
          "name": "stderr"
        },
        {
          "output_type": "stream",
          "text": [
            "Training here...\n",
            "\n"
          ],
          "name": "stdout"
        },
        {
          "output_type": "stream",
          "text": [
            "100%|██████████| 59/59 [03:48<00:00,  3.87s/it]\n",
            "  0%|          | 0/15 [00:00<?, ?it/s]"
          ],
          "name": "stderr"
        },
        {
          "output_type": "stream",
          "text": [
            "Validation here...\n",
            "\n"
          ],
          "name": "stdout"
        },
        {
          "output_type": "stream",
          "text": [
            "100%|██████████| 15/15 [00:56<00:00,  3.75s/it]\n",
            "  0%|          | 0/59 [00:00<?, ?it/s]"
          ],
          "name": "stderr"
        },
        {
          "output_type": "stream",
          "text": [
            "Epoch:  6 \tTraining Loss: 1.787362 \tValidation Loss: 2.088855\n",
            "Training here...\n",
            "\n"
          ],
          "name": "stdout"
        },
        {
          "output_type": "stream",
          "text": [
            "100%|██████████| 59/59 [03:49<00:00,  3.89s/it]\n",
            "  0%|          | 0/15 [00:00<?, ?it/s]"
          ],
          "name": "stderr"
        },
        {
          "output_type": "stream",
          "text": [
            "Validation here...\n",
            "\n"
          ],
          "name": "stdout"
        },
        {
          "output_type": "stream",
          "text": [
            "100%|██████████| 15/15 [00:56<00:00,  3.78s/it]\n",
            "  0%|          | 0/59 [00:00<?, ?it/s]"
          ],
          "name": "stderr"
        },
        {
          "output_type": "stream",
          "text": [
            "Epoch:  7 \tTraining Loss: 1.755399 \tValidation Loss: 2.082725\n",
            "Training here...\n",
            "\n"
          ],
          "name": "stdout"
        },
        {
          "output_type": "stream",
          "text": [
            "100%|██████████| 59/59 [03:45<00:00,  3.82s/it]\n",
            "  0%|          | 0/15 [00:00<?, ?it/s]"
          ],
          "name": "stderr"
        },
        {
          "output_type": "stream",
          "text": [
            "Validation here...\n",
            "\n"
          ],
          "name": "stdout"
        },
        {
          "output_type": "stream",
          "text": [
            "100%|██████████| 15/15 [00:55<00:00,  3.67s/it]\n"
          ],
          "name": "stderr"
        },
        {
          "output_type": "stream",
          "text": [
            "Epoch:  8 \tTraining Loss: 1.721559 \tValidation Loss: 2.069877\n"
          ],
          "name": "stdout"
        },
        {
          "output_type": "stream",
          "text": [
            "\r  0%|          | 0/59 [00:00<?, ?it/s]"
          ],
          "name": "stderr"
        },
        {
          "output_type": "stream",
          "text": [
            "Training here...\n",
            "\n"
          ],
          "name": "stdout"
        },
        {
          "output_type": "stream",
          "text": [
            "100%|██████████| 59/59 [03:44<00:00,  3.81s/it]\n",
            "  0%|          | 0/15 [00:00<?, ?it/s]"
          ],
          "name": "stderr"
        },
        {
          "output_type": "stream",
          "text": [
            "Validation here...\n",
            "\n"
          ],
          "name": "stdout"
        },
        {
          "output_type": "stream",
          "text": [
            "100%|██████████| 15/15 [00:55<00:00,  3.73s/it]\n",
            "  0%|          | 0/59 [00:00<?, ?it/s]"
          ],
          "name": "stderr"
        },
        {
          "output_type": "stream",
          "text": [
            "Epoch:  9 \tTraining Loss: 1.708994 \tValidation Loss: 2.085610\n",
            "Training here...\n",
            "\n"
          ],
          "name": "stdout"
        },
        {
          "output_type": "stream",
          "text": [
            "100%|██████████| 59/59 [03:44<00:00,  3.81s/it]\n",
            "  0%|          | 0/15 [00:00<?, ?it/s]"
          ],
          "name": "stderr"
        },
        {
          "output_type": "stream",
          "text": [
            "Validation here...\n",
            "\n"
          ],
          "name": "stdout"
        },
        {
          "output_type": "stream",
          "text": [
            "100%|██████████| 15/15 [00:55<00:00,  3.70s/it]\n"
          ],
          "name": "stderr"
        },
        {
          "output_type": "stream",
          "text": [
            "Epoch:  10 \tTraining Loss: 1.689035 \tValidation Loss: 2.049647\n"
          ],
          "name": "stdout"
        },
        {
          "output_type": "stream",
          "text": [
            "\r  0%|          | 0/59 [00:00<?, ?it/s]"
          ],
          "name": "stderr"
        },
        {
          "output_type": "stream",
          "text": [
            "Training here...\n",
            "\n"
          ],
          "name": "stdout"
        },
        {
          "output_type": "stream",
          "text": [
            "100%|██████████| 59/59 [03:44<00:00,  3.81s/it]\n",
            "  0%|          | 0/15 [00:00<?, ?it/s]"
          ],
          "name": "stderr"
        },
        {
          "output_type": "stream",
          "text": [
            "Validation here...\n",
            "\n"
          ],
          "name": "stdout"
        },
        {
          "output_type": "stream",
          "text": [
            "100%|██████████| 15/15 [00:55<00:00,  3.72s/it]\n",
            "  0%|          | 0/59 [00:00<?, ?it/s]"
          ],
          "name": "stderr"
        },
        {
          "output_type": "stream",
          "text": [
            "Epoch:  11 \tTraining Loss: 1.659530 \tValidation Loss: 2.067191\n",
            "Training here...\n",
            "\n"
          ],
          "name": "stdout"
        },
        {
          "output_type": "stream",
          "text": [
            "100%|██████████| 59/59 [03:44<00:00,  3.81s/it]\n",
            "  0%|          | 0/15 [00:00<?, ?it/s]"
          ],
          "name": "stderr"
        },
        {
          "output_type": "stream",
          "text": [
            "Validation here...\n",
            "\n"
          ],
          "name": "stdout"
        },
        {
          "output_type": "stream",
          "text": [
            "100%|██████████| 15/15 [00:55<00:00,  3.71s/it]\n"
          ],
          "name": "stderr"
        },
        {
          "output_type": "stream",
          "text": [
            "Epoch:  12 \tTraining Loss: 1.653440 \tValidation Loss: 2.020243\n"
          ],
          "name": "stdout"
        },
        {
          "output_type": "stream",
          "text": [
            "\r  0%|          | 0/59 [00:00<?, ?it/s]"
          ],
          "name": "stderr"
        },
        {
          "output_type": "stream",
          "text": [
            "Training here...\n",
            "\n"
          ],
          "name": "stdout"
        },
        {
          "output_type": "stream",
          "text": [
            "100%|██████████| 59/59 [03:47<00:00,  3.85s/it]\n",
            "  0%|          | 0/15 [00:00<?, ?it/s]"
          ],
          "name": "stderr"
        },
        {
          "output_type": "stream",
          "text": [
            "Validation here...\n",
            "\n"
          ],
          "name": "stdout"
        },
        {
          "output_type": "stream",
          "text": [
            "100%|██████████| 15/15 [00:56<00:00,  3.78s/it]\n"
          ],
          "name": "stderr"
        },
        {
          "output_type": "stream",
          "text": [
            "Epoch:  13 \tTraining Loss: 1.609100 \tValidation Loss: 2.014067\n"
          ],
          "name": "stdout"
        },
        {
          "output_type": "stream",
          "text": [
            "\r  0%|          | 0/59 [00:00<?, ?it/s]"
          ],
          "name": "stderr"
        },
        {
          "output_type": "stream",
          "text": [
            "Training here...\n",
            "\n"
          ],
          "name": "stdout"
        },
        {
          "output_type": "stream",
          "text": [
            "100%|██████████| 59/59 [03:47<00:00,  3.85s/it]\n",
            "  0%|          | 0/15 [00:00<?, ?it/s]"
          ],
          "name": "stderr"
        },
        {
          "output_type": "stream",
          "text": [
            "Validation here...\n",
            "\n"
          ],
          "name": "stdout"
        },
        {
          "output_type": "stream",
          "text": [
            "100%|██████████| 15/15 [00:56<00:00,  3.77s/it]"
          ],
          "name": "stderr"
        },
        {
          "output_type": "stream",
          "text": [
            "Epoch:  14 \tTraining Loss: 1.597137 \tValidation Loss: 2.041017\n"
          ],
          "name": "stdout"
        },
        {
          "output_type": "stream",
          "text": [
            "\n"
          ],
          "name": "stderr"
        }
      ]
    },
    {
      "cell_type": "code",
      "metadata": {
        "id": "S6BZVQQR8e8c"
      },
      "source": [
        "def test(model):\n",
        "    model.load_state_dict(torch.load('best_model_so_far.pth'))\n",
        "    model.eval()\n",
        "    pred_list = []\n",
        "    correct_list = []\n",
        "    with torch.no_grad():\n",
        "        for images in valid_loader:\n",
        "            data = images['gt'].squeeze(0).to(device)\n",
        "            target = images['label'].to(device)\n",
        "            outputs = model(data)\n",
        "            _, predicted = torch.max(outputs.data, 1)\n",
        "            pr = predicted.detach().cpu().numpy()\n",
        "            for i in pr:\n",
        "                pred_list.append(i)\n",
        "            tg = target.detach().cpu().numpy()\n",
        "            for i in tg:\n",
        "                correct_list.append(i)\n",
        "    \n",
        "    ans = f1_score(correct_list,pred_list,average='micro')\n",
        "    return correct_list,pred_list, ans"
      ],
      "execution_count": 20,
      "outputs": []
    },
    {
      "cell_type": "code",
      "metadata": {
        "colab": {
          "base_uri": "https://localhost:8080/"
        },
        "id": "x4tRWJVtFNJc",
        "outputId": "dfa83435-f869-4dfd-8b9d-0b92bbc609b0"
      },
      "source": [
        "correct_list, pred_list, ans = test(model)\n",
        "print(\"F1 score :\",ans)"
      ],
      "execution_count": 21,
      "outputs": [
        {
          "output_type": "stream",
          "text": [
            "F1 score : 0.45761802575107297\n"
          ],
          "name": "stdout"
        }
      ]
    },
    {
      "cell_type": "code",
      "metadata": {
        "colab": {
          "base_uri": "https://localhost:8080/",
          "height": 884
        },
        "id": "PFQtFfC7X7P3",
        "outputId": "907a378e-16fd-4726-830a-c04a5df59433"
      },
      "source": [
        "!pip install aicrowd-cli"
      ],
      "execution_count": 22,
      "outputs": [
        {
          "output_type": "stream",
          "text": [
            "Collecting aicrowd-cli\n",
            "\u001b[?25l  Downloading https://files.pythonhosted.org/packages/29/18/2dcc043573e489f6134e4a76644f640874d3fa4d8f3e0593bf54a7c8b53a/aicrowd_cli-0.1.2-py3-none-any.whl (42kB)\n",
            "\r\u001b[K     |███████▊                        | 10kB 19.7MB/s eta 0:00:01\r\u001b[K     |███████████████▌                | 20kB 19.1MB/s eta 0:00:01\r\u001b[K     |███████████████████████▏        | 30kB 10.9MB/s eta 0:00:01\r\u001b[K     |███████████████████████████████ | 40kB 9.2MB/s eta 0:00:01\r\u001b[K     |████████████████████████████████| 51kB 4.6MB/s \n",
            "\u001b[?25hCollecting gitpython<4,>=3.1.12\n",
            "\u001b[?25l  Downloading https://files.pythonhosted.org/packages/a6/99/98019716955ba243657daedd1de8f3a88ca1f5b75057c38e959db22fb87b/GitPython-3.1.14-py3-none-any.whl (159kB)\n",
            "\u001b[K     |████████████████████████████████| 163kB 7.2MB/s \n",
            "\u001b[?25hCollecting requests-toolbelt<1,>=0.9.1\n",
            "\u001b[?25l  Downloading https://files.pythonhosted.org/packages/60/ef/7681134338fc097acef8d9b2f8abe0458e4d87559c689a8c306d0957ece5/requests_toolbelt-0.9.1-py2.py3-none-any.whl (54kB)\n",
            "\u001b[K     |████████████████████████████████| 61kB 6.6MB/s \n",
            "\u001b[?25hRequirement already satisfied: click<8,>=7.1.2 in /usr/local/lib/python3.7/dist-packages (from aicrowd-cli) (7.1.2)\n",
            "Collecting tqdm<5,>=4.56.0\n",
            "\u001b[?25l  Downloading https://files.pythonhosted.org/packages/72/8a/34efae5cf9924328a8f34eeb2fdaae14c011462d9f0e3fcded48e1266d1c/tqdm-4.60.0-py2.py3-none-any.whl (75kB)\n",
            "\u001b[K     |████████████████████████████████| 81kB 7.4MB/s \n",
            "\u001b[?25hRequirement already satisfied: toml<1,>=0.10.2 in /usr/local/lib/python3.7/dist-packages (from aicrowd-cli) (0.10.2)\n",
            "Collecting requests<3,>=2.25.1\n",
            "\u001b[?25l  Downloading https://files.pythonhosted.org/packages/29/c1/24814557f1d22c56d50280771a17307e6bf87b70727d975fd6b2ce6b014a/requests-2.25.1-py2.py3-none-any.whl (61kB)\n",
            "\u001b[K     |████████████████████████████████| 61kB 6.8MB/s \n",
            "\u001b[?25hCollecting rich<11,>=10.0.0\n",
            "\u001b[?25l  Downloading https://files.pythonhosted.org/packages/1a/da/2a1f064dc620ab47f3f826ae085384084b71ea05c8c21d67f1dfc29189ab/rich-10.1.0-py3-none-any.whl (201kB)\n",
            "\u001b[K     |████████████████████████████████| 204kB 12.2MB/s \n",
            "\u001b[?25hCollecting gitdb<5,>=4.0.1\n",
            "\u001b[?25l  Downloading https://files.pythonhosted.org/packages/ea/e8/f414d1a4f0bbc668ed441f74f44c116d9816833a48bf81d22b697090dba8/gitdb-4.0.7-py3-none-any.whl (63kB)\n",
            "\u001b[K     |████████████████████████████████| 71kB 8.9MB/s \n",
            "\u001b[?25hRequirement already satisfied: idna<3,>=2.5 in /usr/local/lib/python3.7/dist-packages (from requests<3,>=2.25.1->aicrowd-cli) (2.10)\n",
            "Requirement already satisfied: chardet<5,>=3.0.2 in /usr/local/lib/python3.7/dist-packages (from requests<3,>=2.25.1->aicrowd-cli) (3.0.4)\n",
            "Requirement already satisfied: urllib3<1.27,>=1.21.1 in /usr/local/lib/python3.7/dist-packages (from requests<3,>=2.25.1->aicrowd-cli) (1.24.3)\n",
            "Requirement already satisfied: certifi>=2017.4.17 in /usr/local/lib/python3.7/dist-packages (from requests<3,>=2.25.1->aicrowd-cli) (2020.12.5)\n",
            "Requirement already satisfied: pygments<3.0.0,>=2.6.0 in /usr/local/lib/python3.7/dist-packages (from rich<11,>=10.0.0->aicrowd-cli) (2.6.1)\n",
            "Collecting commonmark<0.10.0,>=0.9.0\n",
            "\u001b[?25l  Downloading https://files.pythonhosted.org/packages/b1/92/dfd892312d822f36c55366118b95d914e5f16de11044a27cf10a7d71bbbf/commonmark-0.9.1-py2.py3-none-any.whl (51kB)\n",
            "\u001b[K     |████████████████████████████████| 51kB 6.9MB/s \n",
            "\u001b[?25hRequirement already satisfied: typing-extensions<4.0.0,>=3.7.4 in /usr/local/lib/python3.7/dist-packages (from rich<11,>=10.0.0->aicrowd-cli) (3.7.4.3)\n",
            "Collecting colorama<0.5.0,>=0.4.0\n",
            "  Downloading https://files.pythonhosted.org/packages/44/98/5b86278fbbf250d239ae0ecb724f8572af1c91f4a11edf4d36a206189440/colorama-0.4.4-py2.py3-none-any.whl\n",
            "Collecting smmap<5,>=3.0.1\n",
            "  Downloading https://files.pythonhosted.org/packages/68/ee/d540eb5e5996eb81c26ceffac6ee49041d473bc5125f2aa995cf51ec1cf1/smmap-4.0.0-py2.py3-none-any.whl\n",
            "\u001b[31mERROR: google-colab 1.0.0 has requirement requests~=2.23.0, but you'll have requests 2.25.1 which is incompatible.\u001b[0m\n",
            "\u001b[31mERROR: datascience 0.10.6 has requirement folium==0.2.1, but you'll have folium 0.8.3 which is incompatible.\u001b[0m\n",
            "Installing collected packages: smmap, gitdb, gitpython, requests, requests-toolbelt, tqdm, commonmark, colorama, rich, aicrowd-cli\n",
            "  Found existing installation: requests 2.23.0\n",
            "    Uninstalling requests-2.23.0:\n",
            "      Successfully uninstalled requests-2.23.0\n",
            "  Found existing installation: tqdm 4.41.1\n",
            "    Uninstalling tqdm-4.41.1:\n",
            "      Successfully uninstalled tqdm-4.41.1\n",
            "Successfully installed aicrowd-cli-0.1.2 colorama-0.4.4 commonmark-0.9.1 gitdb-4.0.7 gitpython-3.1.14 requests-2.25.1 requests-toolbelt-0.9.1 rich-10.1.0 smmap-4.0.0 tqdm-4.60.0\n"
          ],
          "name": "stdout"
        },
        {
          "output_type": "display_data",
          "data": {
            "application/vnd.colab-display-data+json": {
              "pip_warning": {
                "packages": [
                  "tqdm"
                ]
              }
            }
          },
          "metadata": {
            "tags": []
          }
        }
      ]
    },
    {
      "cell_type": "code",
      "metadata": {
        "id": "r1CR02jUoTKL"
      },
      "source": [
        "class test_Data():\n",
        "  def __init__(self, root_dir, target_address_file, transform):\n",
        "    self.root_dir = root_dir\n",
        "    self.transform = transform\n",
        "    self.y_label = pd.read_csv(target_address_file)\n",
        "\n",
        "  def __len__(self):\n",
        "    return len(self.y_label)\n",
        "\n",
        "  def __getitem__(self, index):\n",
        "    img_id = self.y_label.iloc[index,0]\n",
        "    img = cv2.cvtColor(cv2.imread(os.path.join(self.root_dir, img_id)), cv2.COLOR_BGR2RGB)\n",
        "    img = cv2.resize(img,(256,256))\n",
        "    if self.transform is not None:\n",
        "      img = self.transform(img)\n",
        "    \n",
        "    return {\n",
        "        \"image\":torch.tensor(img),\n",
        "        \"image_id\": img_id\n",
        "    }"
      ],
      "execution_count": 24,
      "outputs": []
    },
    {
      "cell_type": "code",
      "metadata": {
        "id": "mrSiluErvNFR"
      },
      "source": [
        "transforms_test = transforms.Compose([\n",
        "            transforms.ToPILImage(),\n",
        "            transforms.ToTensor(),\n",
        "            transforms.Normalize((0.5,0.5,0.5) , (0.5,0.5,0.5))\n",
        "        ])\n",
        "test_data = test_Data(root_dir = '/content/drive/My Drive/test_images/test_images', target_address_file='/content/drive/My Drive/test.csv', transform = transforms_test)\n",
        "\n",
        "test_loader2 = DataLoader(dataset = test_data, shuffle=False, batch_size = batch)"
      ],
      "execution_count": 25,
      "outputs": []
    },
    {
      "cell_type": "code",
      "metadata": {
        "colab": {
          "base_uri": "https://localhost:8080/"
        },
        "id": "z3H98ZCwwGu5",
        "outputId": "6035d47f-83ff-4333-aa3a-d98fcf9b7c5b"
      },
      "source": [
        "model.load_state_dict(torch.load('best_model_so_far.pth'))\n",
        "model.eval()\n",
        "imageid = []\n",
        "pred_list = []\n",
        "\n",
        "with torch.no_grad():\n",
        "  for images in test_loader2:\n",
        "    imageid.extend(images['image_id'])\n",
        "    pred = model(torch.tensor(images['image']).squeeze(0).to(device))\n",
        "    _, predicted = torch.max(pred.data, 1)\n",
        "    pr = predicted.detach().cpu().numpy()\n",
        "    pr = pr.reshape((pr.shape[0],1))\n",
        "    for i in range(len(pr)):\n",
        "      pred_list.append(pr[i][0])"
      ],
      "execution_count": 26,
      "outputs": [
        {
          "output_type": "stream",
          "text": [
            "/usr/local/lib/python3.7/dist-packages/ipykernel_launcher.py:18: UserWarning: To copy construct from a tensor, it is recommended to use sourceTensor.clone().detach() or sourceTensor.clone().detach().requires_grad_(True), rather than torch.tensor(sourceTensor).\n",
            "/usr/local/lib/python3.7/dist-packages/ipykernel_launcher.py:9: UserWarning: To copy construct from a tensor, it is recommended to use sourceTensor.clone().detach() or sourceTensor.clone().detach().requires_grad_(True), rather than torch.tensor(sourceTensor).\n",
            "  if __name__ == '__main__':\n"
          ],
          "name": "stderr"
        }
      ]
    },
    {
      "cell_type": "code",
      "metadata": {
        "colab": {
          "base_uri": "https://localhost:8080/"
        },
        "id": "sbc3oga9xwho",
        "outputId": "e9ce78bf-2573-481d-a7b7-6fc8c049b277"
      },
      "source": [
        "print(pred_list)\n",
        "print(imageid)"
      ],
      "execution_count": 27,
      "outputs": [
        {
          "output_type": "stream",
          "text": [
            "[55, 55, 18, 28, 11, 18, 0, 11, 55, 18, 18, 55, 3, 56, 55, 1, 49, 39, 39, 44, 11, 3, 3, 13, 55, 55, 58, 1, 53, 18, 44, 16, 44, 4, 55, 55, 18, 55, 35, 35, 35, 18, 18, 41, 18, 11, 56, 17, 44, 20, 20, 40, 18, 59, 44, 44, 43, 51, 44, 24, 35, 43, 55, 55, 44, 18, 53, 44, 43, 55, 54, 55, 44, 44, 36, 23, 55, 18, 55, 55, 35, 17, 53, 44, 44, 44, 44, 44, 44, 59, 1, 18, 53, 44, 49, 43, 55, 58, 17, 51, 58, 3, 18, 13, 30, 18, 23, 28, 44, 20, 13, 57, 55, 1, 55, 35, 35, 49, 20, 49, 49, 3, 21, 55, 18, 22, 9, 49, 49, 45, 59, 55, 43, 25, 53, 20, 44, 55, 44, 3, 35, 35, 39, 39, 55, 18, 58, 11, 0, 3, 44, 44, 44, 39, 42, 11, 23, 56, 35, 55, 35, 55, 4, 43, 55, 21, 16, 53, 13, 13, 13, 25, 55, 55, 55, 25, 55, 17, 44, 44, 43, 12, 55, 17, 25, 20, 25, 55, 55, 35, 18, 44, 35, 51, 55, 5, 39, 39, 44, 58, 11, 18, 55, 11, 44, 55, 49, 30, 13, 13, 55, 55, 53, 55, 3, 55, 55, 13, 13, 39, 11, 44, 35, 56, 42, 21, 13, 13, 51, 55, 5, 44, 43, 18, 5, 18, 56, 55, 49, 36, 36, 49, 28, 42, 1, 55, 18, 3, 55, 24, 18, 18, 55, 44, 44, 44, 59, 55, 56, 39, 39, 18, 34, 3, 56, 49, 49, 44, 49, 25, 49, 49, 22, 58, 18, 44, 35, 3, 31, 25, 16, 22, 51, 55, 44, 44, 18, 18, 55, 53, 22, 55, 59, 3, 58, 55, 55, 44, 1, 34, 1, 44, 25, 35, 44, 53, 18, 18, 18, 13, 44, 44, 18, 20, 44, 44, 18, 41, 55, 44, 44, 35, 13, 13, 11, 18, 30, 30, 11, 11, 11, 55, 25, 1, 43, 55, 44, 44, 44, 36, 55, 44, 42, 55, 56, 49, 57, 53, 1, 4, 16, 55, 11, 48, 55, 3, 18, 49, 11, 44, 44, 55, 44, 55, 3, 28, 49, 16, 11, 56, 44, 44, 18, 49, 49, 58, 11, 18, 55, 11, 58, 18, 55, 16, 16, 17, 55, 11, 8, 56, 55, 35, 41, 51, 55, 49, 49, 44, 21, 16, 44, 35, 16, 30, 18, 11, 44, 18, 18, 44, 51, 55, 34, 16, 13, 55, 44, 44, 55, 53, 44, 44, 44, 25, 44, 25, 36, 49, 55, 59, 40, 5, 56, 18, 51, 35, 11, 11, 49, 49, 55, 25, 55, 55, 55, 43, 43, 49, 55, 20, 18, 44, 49, 35, 3, 25, 20, 55, 12, 12, 18, 35, 35, 49, 18, 44, 11, 13, 44, 20, 18, 55, 20, 44, 44, 44, 18, 59, 53, 12, 39, 55, 11, 35]\n",
            "['90e63a2fde.jpg', 'a554d1ca8d.jpg', '48317e8ee8.jpg', '79528df667.jpg', '6d2f2f63f5.jpg', '258c5ae526.jpg', '61f629b44f.jpg', '3a0fcc1d6a.jpg', '7bd6e99cdc.jpg', 'f00fca6337.jpg', '283ee18c12.jpg', '78eb0a7bb1.jpg', '90265e9f71.jpg', 'ff8c0a5300.jpg', '2f6f347487.jpg', 'b9bec06826.jpg', '234a5c97f6.jpg', '231e87900b.jpg', '932322b42d.jpg', '85b8888345.jpg', '8058bba52b.jpg', '14a08a0386.jpg', 'a75502b717.jpg', '60ab0d3b9c.jpg', 'a0d8cc402a.jpg', 'd32b2a3028.jpg', 'c5c0206a36.jpg', 'd6b774417c.jpg', '2173e86991.jpg', 'f12fdd3870.jpg', '6af0a82123.jpg', '4f775aa79c.jpg', '74a18d3e00.jpg', '3636cb3fc3.jpg', '00befedd19.jpg', 'a93aac7a8b.jpg', 'a589e7641c.jpg', '41d2b662f7.jpg', '6afd72e062.jpg', '4fe65083b2.jpg', 'c9c8425411.jpg', 'e87f9c01c0.jpg', '2a16800b35.jpg', 'a31fc638ba.jpg', 'a33059d8dd.jpg', '5ae0c9d5ec.jpg', '1ddc86e37e.jpg', 'a4570106d7.jpg', 'ef06b77738.jpg', '381408a2d3.jpg', '4704f285b8.jpg', '533835f707.jpg', '98fdc48746.jpg', 'f2dc51c174.jpg', '3d43293376.jpg', 'fc9c65dbef.jpg', '5b8fe75852.jpg', '57c91d3d97.jpg', 'f3bd98661a.jpg', '5cd8c04729.jpg', 'd780027150.jpg', '6d6b6997eb.jpg', '342bd3f184.jpg', 'd0e1076e99.jpg', '506897a9f0.jpg', 'f4429b5866.jpg', 'f326f71d6d.jpg', '9c746729a3.jpg', 'a8b9081be4.jpg', '3fbfac0bbb.jpg', 'd9026e17e6.jpg', 'c859e91d0d.jpg', '60b3db4f3a.jpg', '34874c5f94.jpg', '18a4613220.jpg', '043d33679c.jpg', 'ffc2cbbe5e.jpg', 'c72de4fb5e.jpg', '46e8a34d5a.jpg', '11d4b98568.jpg', 'bc6d6d0b39.jpg', '9afe136e54.jpg', 'b0f373bb15.jpg', '3f73c055c3.jpg', 'c733e19b34.jpg', 'd312dafa4d.jpg', '8f4ba63904.jpg', 'fea0bf90fd.jpg', 'b592266647.jpg', '39a9a3717f.jpg', '91f96f9aea.jpg', 'c80174af14.jpg', '6e641a5a42.jpg', 'f6dc6f1222.jpg', 'bd20f1844e.jpg', 'af1e7a6c10.jpg', 'fbd369ea2c.jpg', '7b7bcd2d27.jpg', 'e7b50966b9.jpg', 'c6da62a502.jpg', '390d4ebe1e.jpg', 'ee04353e8b.jpg', '89ba1e76ee.jpg', '7b0dba82e5.jpg', '35dd5be519.jpg', '0a8b8ad76f.jpg', 'c5a68c2dbf.jpg', 'b241ca3982.jpg', '0a19f83a26.jpg', '9c99a4f748.jpg', '777e943594.jpg', '7f5041231f.jpg', '4e6c7cfb85.jpg', '3b949ec77b.jpg', '9349c61145.jpg', 'cfae4b1fc6.jpg', '2d2adbb081.jpg', '3348e99c00.jpg', 'be6e6c60b4.jpg', '1646f25383.jpg', '850732db62.jpg', 'ff7ce27028.jpg', '1064b4277e.jpg', 'b9d0e34a4f.jpg', 'ad83ac0b8e.jpg', '33c9d9d245.jpg', '84c8610fa6.jpg', '315702b43e.jpg', 'c3afbf071e.jpg', 'b638f04d30.jpg', '90f1a492b5.jpg', 'f11300ddf4.jpg', '4d9b392eaf.jpg', '0923a486ff.jpg', '1fcc9d325f.jpg', 'b84fd00535.jpg', '730ce5e8a3.jpg', '073bb56ea3.jpg', '5322a793c9.jpg', 'c32fd96292.jpg', 'da57ca2ef7.jpg', 'e8c3809c55.jpg', 'f90d98e9e0.jpg', '3c90c600f6.jpg', '7c5692960f.jpg', 'ab5ab33dc2.jpg', '53e73e4ad4.jpg', '57354d4551.jpg', '9d1b62ecfd.jpg', '76c7407e2f.jpg', '9da953d6bc.jpg', '7319a162fa.jpg', 'b6bcd1799a.jpg', 'cbe98cd720.jpg', 'fc9462ca65.jpg', 'c357d7dbfb.jpg', 'd6ecb5f5fe.jpg', 'da4611c65a.jpg', '3eb3f99459.jpg', 'a80fcd1a49.jpg', '2c7d1a3bec.jpg', 'a11170486b.jpg', '8fde5ee536.jpg', 'ce493f8f8b.jpg', 'b9b3aeabad.jpg', 'b9818e88d5.jpg', '07f797c8f9.jpg', '4ce545b668.jpg', 'd808c27bfe.jpg', '3ee6561df0.jpg', '034292a8ff.jpg', '371e85cd61.jpg', 'ada5e192fa.jpg', 'ed88b96286.jpg', '4f4e43e846.jpg', '9c668f7a8e.jpg', '0d5921eac2.jpg', '63192877b9.jpg', '5cc1aa580a.jpg', '61579aa4cb.jpg', '7e1644fb84.jpg', '532c2b2b7d.jpg', '328330bfa8.jpg', 'b918453fab.jpg', '42f42e1049.jpg', '76f2d2cc9b.jpg', '62c269eb6a.jpg', '753c49871d.jpg', 'f878206183.jpg', '10ff3341e9.jpg', '5565ffed1e.jpg', 'f72a64d338.jpg', '7d521b4ce7.jpg', 'e541dbae10.jpg', '60121ae828.jpg', 'fbffa9fcc1.jpg', '05f5a5379d.jpg', '06892a0b2c.jpg', 'c6158f81ba.jpg', 'fb97e58510.jpg', '3daa90cd46.jpg', '28955cdc38.jpg', 'f6f687e0cd.jpg', 'b14b66d5ac.jpg', '793921d5ea.jpg', '80f01ae2e8.jpg', 'ea38a97b8f.jpg', '6c3af2ee6c.jpg', 'b59c423b44.jpg', 'b05e0afbbc.jpg', '9c86add47c.jpg', 'ceb887cee3.jpg', '4b3dc9d5ec.jpg', '7ad5a392cd.jpg', '0920aa3bf3.jpg', 'ace8f14165.jpg', '1ae217abf1.jpg', '7be3782b98.jpg', '6b56fcd5ff.jpg', 'a3e9033a45.jpg', 'd5e685f830.jpg', '347218a820.jpg', '1f9cd3f7f7.jpg', '0907979c42.jpg', 'd9d6f89a1e.jpg', 'b6ddf55180.jpg', '7a99f1e058.jpg', 'f76f0635f1.jpg', '8100ae6df1.jpg', 'a684da2e66.jpg', '08510c1eeb.jpg', 'e2cc8e757a.jpg', '5b41c126b4.jpg', '71bd09dedb.jpg', '332160f136.jpg', 'd2caf17d89.jpg', '6502f1083e.jpg', '8aa1337489.jpg', 'ff5a63f32a.jpg', '8f0de2b28b.jpg', '63a050265c.jpg', 'e5811b8130.jpg', '32dd79e40c.jpg', '32b3392f9d.jpg', '022a8608b9.jpg', '327b6c79e3.jpg', '17e6a04851.jpg', 'e8cdb97b0d.jpg', '8abe0a8428.jpg', '1da36a3419.jpg', 'af58fe4d0c.jpg', '107209f792.jpg', 'f36837e00e.jpg', 'c9bff667d3.jpg', '8ac612f3f2.jpg', '6079af6a7b.jpg', '7df76c57af.jpg', 'f76e65b482.jpg', '58d4e4c8a1.jpg', '97d58dd0e5.jpg', '3c092b6869.jpg', 'f5132452ff.jpg', '8dbf2ab0dd.jpg', '240a35aeaf.jpg', '0465f6d586.jpg', '827c616dcc.jpg', 'f1c099b06b.jpg', '6a9d5120f2.jpg', '59b2ddfc21.jpg', '6708db40bf.jpg', 'e027e5f2b7.jpg', '643cdf16ef.jpg', '24615c60ef.jpg', 'd52b298e73.jpg', '804e06cd06.jpg', 'cb9a59ed9d.jpg', 'fb36eae184.jpg', '63ea578295.jpg', '9d6569cd7c.jpg', '4e76432258.jpg', 'a5d8d6406b.jpg', 'fdc5888f21.jpg', 'f5f4707c86.jpg', '4464880225.jpg', 'c3f0a560c2.jpg', 'ebda3a08c3.jpg', '52ac63449c.jpg', 'bbfa1fa033.jpg', 'f8961bffbe.jpg', '53eb8ff247.jpg', '7dc938e2bc.jpg', 'c20704fb5c.jpg', 'a2c69e02f4.jpg', 'b6620393f2.jpg', '658d4da1a0.jpg', '7415e44100.jpg', 'e54c17ee4d.jpg', '528495029b.jpg', '1570309e87.jpg', '4b89924f4e.jpg', '25c545d34d.jpg', '7cd5832fef.jpg', '552884be28.jpg', '10ad94c7d7.jpg', 'a9d2c5e746.jpg', '55aea615c1.jpg', '1a96a984d2.jpg', 'c8eb8812b4.jpg', '0428e62301.jpg', 'ee8cf67b07.jpg', 'ae7395dd50.jpg', 'df8f9e738f.jpg', '8cea89f591.jpg', 'ca7b087454.jpg', 'ddcfcff22f.jpg', '0a3c32bc94.jpg', '21e9312f97.jpg', '107c3b6eb0.jpg', '7a17405614.jpg', '25e87d561c.jpg', '8603e55be2.jpg', '50ae696d67.jpg', 'bd3daa03ba.jpg', '7350789c95.jpg', '097c66c0b2.jpg', '26b261b6b0.jpg', '41122c3c17.jpg', 'afde2aeaa2.jpg', '785a3dcbab.jpg', 'a86360897d.jpg', 'c9579834fd.jpg', 'aaf4b2e726.jpg', '7480d78dad.jpg', '75789955cc.jpg', '90b1132c8f.jpg', 'cd32f84991.jpg', '0206101929.jpg', '424d5929b9.jpg', '73eb403d6c.jpg', '6236e33f44.jpg', 'a04beec2fa.jpg', '896568f4ac.jpg', '97e82a7e40.jpg', 'e2d573e52a.jpg', '20be885ed9.jpg', 'c3e90edc70.jpg', '6ff87ff056.jpg', '79ec2da1c6.jpg', 'd50fbc47ea.jpg', '679fee58b4.jpg', '90aac0d31f.jpg', 'df98030606.jpg', 'e7e9813b04.jpg', 'fea1eae00b.jpg', '789843a658.jpg', '90d94242c0.jpg', '68e4399d82.jpg', '4fd483911f.jpg', '75f1fea87f.jpg', '15b1671bd9.jpg', 'bbbc478e58.jpg', '8986e1389e.jpg', '9ec824d4be.jpg', 'f197d84ac1.jpg', 'a87c002eb4.jpg', 'd90761a694.jpg', '62d2ea7747.jpg', 'c60dc9ca98.jpg', 'b03f182696.jpg', '71e61d2081.jpg', 'b989ca5397.jpg', '2c9cdcdd18.jpg', 'a64d292c5b.jpg', '7a03178a5d.jpg', '81a2469f37.jpg', '04cddbbf04.jpg', 'eee6cd0c64.jpg', '486caeaecb.jpg', '30d0d5b343.jpg', '84e9fe2592.jpg', '46459468c5.jpg', '8aa4ce3b8d.jpg', '27fe417e88.jpg', 'fd6ab69a63.jpg', '5d40a70b7d.jpg', '125772df09.jpg', 'dd7edf9405.jpg', 'd52466324a.jpg', '20118ce05c.jpg', '63237e9ba2.jpg', '5e1c440e74.jpg', '1b9282c28a.jpg', '4f5991c6b7.jpg', 'f88c263c1d.jpg', '44760f7b6d.jpg', 'f41bf07c31.jpg', '06173b9a49.jpg', '19f4f35490.jpg', '6b08c32b4c.jpg', 'b32ae57e79.jpg', '442ec163f7.jpg', 'dbe64f56de.jpg', 'd4c283a3df.jpg', '77d6fcc880.jpg', '4cc91e716b.jpg', '589b21a1da.jpg', 'd6401e44b9.jpg', 'f16a2899c6.jpg', 'c9f5ec7969.jpg', 'bd8d59a8ea.jpg', 'b5efc29f94.jpg', 'c8cd5c0582.jpg', '6fc6acd8c1.jpg', '9c6b28d6b2.jpg', '2d0d197a10.jpg', 'c89da83076.jpg', '6186746afe.jpg', '61818db41f.jpg', '93f06c9b4c.jpg', 'f743947a30.jpg', 'eb9d506eb9.jpg', '6cba36f5bb.jpg', '701c32d502.jpg', '08dabf6d3d.jpg', 'ec6ab64433.jpg', 'ae3ea50c93.jpg', '0ea7924815.jpg', 'e68641475c.jpg', '4ab32e42bc.jpg', '16753fdd69.jpg', 'afd4cdd8fe.jpg', 'a6b9bdc6b3.jpg', 'd83480b30b.jpg', 'be2eb5f164.jpg', '9f0c1a7693.jpg', '9e83f396c1.jpg', '82c042d01d.jpg', '189632289f.jpg', 'e894ca7f24.jpg', '3a58164725.jpg', '763ae2c192.jpg', '998cc50daa.jpg', '38fefd8716.jpg', 'dad5f4c8ae.jpg', 'fa0468a4ad.jpg', '1d30a3cdf7.jpg', '673766ec3f.jpg', '90e538b002.jpg', '30f3eb9af7.jpg', 'a4fee8009d.jpg', '952cdc26cd.jpg', '69a5cb00e5.jpg', 'c8159e2dcd.jpg', '2b78d749e7.jpg', '97f7609ae3.jpg', '7fea41cb9c.jpg', 'bfa90c6ac0.jpg', '912bccaa5e.jpg', 'a999a3f7df.jpg', '4cd5ac3700.jpg', 'f2d03571aa.jpg', 'c5e4785e7f.jpg', '2d201f1150.jpg', '3beee423f3.jpg', '9296068d14.jpg', '9ecbb9a0f8.jpg', '1f1d2ad878.jpg', '75e18d22de.jpg', '75da82246c.jpg', '0c3bf8b3bb.jpg', '5d198e6074.jpg', '252fd98e49.jpg', '24c3da35cc.jpg', 'f68907bc8a.jpg', '6c2eaa8a44.jpg', '97ad6acb86.jpg', '5c5721800c.jpg', '1af2f3f062.jpg', '7615a01a26.jpg', '843b8695df.jpg', '584490f483.jpg', 'd5df1ab5ec.jpg', '79e3e01b88.jpg', 'a05a4fe910.jpg']\n"
          ],
          "name": "stdout"
        }
      ]
    },
    {
      "cell_type": "code",
      "metadata": {
        "colab": {
          "base_uri": "https://localhost:8080/"
        },
        "id": "sb_tZS3Fz_dE",
        "outputId": "541f4c10-736d-4e82-b485-537ce38676d0"
      },
      "source": [
        "pred_list = enc.inverse_transform(pred_list)\n",
        "print(pred_list)"
      ],
      "execution_count": 28,
      "outputs": [
        {
          "output_type": "stream",
          "text": [
            "['water' 'water' 'coffee-with-caffeine' 'hard-cheese' 'bread-wholemeal'\n",
            " 'coffee-with-caffeine' 'almonds' 'bread-wholemeal' 'water'\n",
            " 'coffee-with-caffeine' 'coffee-with-caffeine' 'water' 'banana'\n",
            " 'water-mineral' 'water' 'apple' 'strawberries' 'pasta-spaghetti'\n",
            " 'pasta-spaghetti' 'salad-leaf-salad-green' 'bread-wholemeal' 'banana'\n",
            " 'banana' 'butter' 'water' 'water' 'wine-red' 'apple' 'tomato'\n",
            " 'coffee-with-caffeine' 'salad-leaf-salad-green' 'chicken'\n",
            " 'salad-leaf-salad-green' 'beer' 'water' 'water' 'coffee-with-caffeine'\n",
            " 'water' 'mixed-salad-chopped-without-sauce'\n",
            " 'mixed-salad-chopped-without-sauce' 'mixed-salad-chopped-without-sauce'\n",
            " 'coffee-with-caffeine' 'coffee-with-caffeine' 'pizza-margherita-baked'\n",
            " 'coffee-with-caffeine' 'bread-wholemeal' 'water-mineral'\n",
            " 'chips-french-fries' 'salad-leaf-salad-green' 'croissant' 'croissant'\n",
            " 'pickle' 'coffee-with-caffeine' 'wine-white' 'salad-leaf-salad-green'\n",
            " 'salad-leaf-salad-green' 'rice' 'tea' 'salad-leaf-salad-green'\n",
            " 'espresso-with-caffeine' 'mixed-salad-chopped-without-sauce' 'rice'\n",
            " 'water' 'water' 'salad-leaf-salad-green' 'coffee-with-caffeine' 'tomato'\n",
            " 'salad-leaf-salad-green' 'rice' 'water' 'tomato-sauce' 'water'\n",
            " 'salad-leaf-salad-green' 'salad-leaf-salad-green' 'mixed-vegetables'\n",
            " 'egg' 'water' 'coffee-with-caffeine' 'water' 'water'\n",
            " 'mixed-salad-chopped-without-sauce' 'chips-french-fries' 'tomato'\n",
            " 'salad-leaf-salad-green' 'salad-leaf-salad-green'\n",
            " 'salad-leaf-salad-green' 'salad-leaf-salad-green'\n",
            " 'salad-leaf-salad-green' 'salad-leaf-salad-green' 'wine-white' 'apple'\n",
            " 'coffee-with-caffeine' 'tomato' 'salad-leaf-salad-green' 'strawberries'\n",
            " 'rice' 'water' 'wine-red' 'chips-french-fries' 'tea' 'wine-red' 'banana'\n",
            " 'coffee-with-caffeine' 'butter' 'jam' 'coffee-with-caffeine' 'egg'\n",
            " 'hard-cheese' 'salad-leaf-salad-green' 'croissant' 'butter'\n",
            " 'white-coffee-with-caffeine' 'water' 'apple' 'water'\n",
            " 'mixed-salad-chopped-without-sauce' 'mixed-salad-chopped-without-sauce'\n",
            " 'strawberries' 'croissant' 'strawberries' 'strawberries' 'banana'\n",
            " 'cucumber' 'water' 'coffee-with-caffeine' 'dark-chocolate' 'bread-white'\n",
            " 'strawberries' 'strawberries' 'salami' 'wine-white' 'water' 'rice'\n",
            " 'french-beans' 'tomato' 'croissant' 'salad-leaf-salad-green' 'water'\n",
            " 'salad-leaf-salad-green' 'banana' 'mixed-salad-chopped-without-sauce'\n",
            " 'mixed-salad-chopped-without-sauce' 'pasta-spaghetti' 'pasta-spaghetti'\n",
            " 'water' 'coffee-with-caffeine' 'wine-red' 'bread-wholemeal' 'almonds'\n",
            " 'banana' 'salad-leaf-salad-green' 'salad-leaf-salad-green'\n",
            " 'salad-leaf-salad-green' 'pasta-spaghetti' 'potatoes-steamed'\n",
            " 'bread-wholemeal' 'egg' 'water-mineral'\n",
            " 'mixed-salad-chopped-without-sauce' 'water'\n",
            " 'mixed-salad-chopped-without-sauce' 'water' 'beer' 'rice' 'water'\n",
            " 'cucumber' 'chicken' 'tomato' 'butter' 'butter' 'butter' 'french-beans'\n",
            " 'water' 'water' 'water' 'french-beans' 'water' 'chips-french-fries'\n",
            " 'salad-leaf-salad-green' 'salad-leaf-salad-green' 'rice' 'broccoli'\n",
            " 'water' 'chips-french-fries' 'french-beans' 'croissant' 'french-beans'\n",
            " 'water' 'water' 'mixed-salad-chopped-without-sauce'\n",
            " 'coffee-with-caffeine' 'salad-leaf-salad-green'\n",
            " 'mixed-salad-chopped-without-sauce' 'tea' 'water' 'biscuits'\n",
            " 'pasta-spaghetti' 'pasta-spaghetti' 'salad-leaf-salad-green' 'wine-red'\n",
            " 'bread-wholemeal' 'coffee-with-caffeine' 'water' 'bread-wholemeal'\n",
            " 'salad-leaf-salad-green' 'water' 'strawberries' 'jam' 'butter' 'butter'\n",
            " 'water' 'water' 'tomato' 'water' 'banana' 'water' 'water' 'butter'\n",
            " 'butter' 'pasta-spaghetti' 'bread-wholemeal' 'salad-leaf-salad-green'\n",
            " 'mixed-salad-chopped-without-sauce' 'water-mineral' 'potatoes-steamed'\n",
            " 'cucumber' 'butter' 'butter' 'tea' 'water' 'biscuits'\n",
            " 'salad-leaf-salad-green' 'rice' 'coffee-with-caffeine' 'biscuits'\n",
            " 'coffee-with-caffeine' 'water-mineral' 'water' 'strawberries'\n",
            " 'mixed-vegetables' 'mixed-vegetables' 'strawberries' 'hard-cheese'\n",
            " 'potatoes-steamed' 'apple' 'water' 'coffee-with-caffeine' 'banana'\n",
            " 'water' 'espresso-with-caffeine' 'coffee-with-caffeine'\n",
            " 'coffee-with-caffeine' 'water' 'salad-leaf-salad-green'\n",
            " 'salad-leaf-salad-green' 'salad-leaf-salad-green' 'wine-white' 'water'\n",
            " 'water-mineral' 'pasta-spaghetti' 'pasta-spaghetti'\n",
            " 'coffee-with-caffeine' 'mixed-nuts' 'banana' 'water-mineral'\n",
            " 'strawberries' 'strawberries' 'salad-leaf-salad-green' 'strawberries'\n",
            " 'french-beans' 'strawberries' 'strawberries' 'dark-chocolate' 'wine-red'\n",
            " 'coffee-with-caffeine' 'salad-leaf-salad-green'\n",
            " 'mixed-salad-chopped-without-sauce' 'banana' 'leaf-spinach'\n",
            " 'french-beans' 'chicken' 'dark-chocolate' 'tea' 'water'\n",
            " 'salad-leaf-salad-green' 'salad-leaf-salad-green' 'coffee-with-caffeine'\n",
            " 'coffee-with-caffeine' 'water' 'tomato' 'dark-chocolate' 'water'\n",
            " 'wine-white' 'banana' 'wine-red' 'water' 'water' 'salad-leaf-salad-green'\n",
            " 'apple' 'mixed-nuts' 'apple' 'salad-leaf-salad-green' 'french-beans'\n",
            " 'mixed-salad-chopped-without-sauce' 'salad-leaf-salad-green' 'tomato'\n",
            " 'coffee-with-caffeine' 'coffee-with-caffeine' 'coffee-with-caffeine'\n",
            " 'butter' 'salad-leaf-salad-green' 'salad-leaf-salad-green'\n",
            " 'coffee-with-caffeine' 'croissant' 'salad-leaf-salad-green'\n",
            " 'salad-leaf-salad-green' 'coffee-with-caffeine' 'pizza-margherita-baked'\n",
            " 'water' 'salad-leaf-salad-green' 'salad-leaf-salad-green'\n",
            " 'mixed-salad-chopped-without-sauce' 'butter' 'butter' 'bread-wholemeal'\n",
            " 'coffee-with-caffeine' 'jam' 'jam' 'bread-wholemeal' 'bread-wholemeal'\n",
            " 'bread-wholemeal' 'water' 'french-beans' 'apple' 'rice' 'water'\n",
            " 'salad-leaf-salad-green' 'salad-leaf-salad-green'\n",
            " 'salad-leaf-salad-green' 'mixed-vegetables' 'water'\n",
            " 'salad-leaf-salad-green' 'potatoes-steamed' 'water' 'water-mineral'\n",
            " 'strawberries' 'white-coffee-with-caffeine' 'tomato' 'apple' 'beer'\n",
            " 'chicken' 'water' 'bread-wholemeal' 'soft-cheese' 'water' 'banana'\n",
            " 'coffee-with-caffeine' 'strawberries' 'bread-wholemeal'\n",
            " 'salad-leaf-salad-green' 'salad-leaf-salad-green' 'water'\n",
            " 'salad-leaf-salad-green' 'water' 'banana' 'hard-cheese' 'strawberries'\n",
            " 'chicken' 'bread-wholemeal' 'water-mineral' 'salad-leaf-salad-green'\n",
            " 'salad-leaf-salad-green' 'coffee-with-caffeine' 'strawberries'\n",
            " 'strawberries' 'wine-red' 'bread-wholemeal' 'coffee-with-caffeine'\n",
            " 'water' 'bread-wholemeal' 'wine-red' 'coffee-with-caffeine' 'water'\n",
            " 'chicken' 'chicken' 'chips-french-fries' 'water' 'bread-wholemeal'\n",
            " 'bread-sourdough' 'water-mineral' 'water'\n",
            " 'mixed-salad-chopped-without-sauce' 'pizza-margherita-baked' 'tea'\n",
            " 'water' 'strawberries' 'strawberries' 'salad-leaf-salad-green' 'cucumber'\n",
            " 'chicken' 'salad-leaf-salad-green' 'mixed-salad-chopped-without-sauce'\n",
            " 'chicken' 'jam' 'coffee-with-caffeine' 'bread-wholemeal'\n",
            " 'salad-leaf-salad-green' 'coffee-with-caffeine' 'coffee-with-caffeine'\n",
            " 'salad-leaf-salad-green' 'tea' 'water' 'mixed-nuts' 'chicken' 'butter'\n",
            " 'water' 'salad-leaf-salad-green' 'salad-leaf-salad-green' 'water'\n",
            " 'tomato' 'salad-leaf-salad-green' 'salad-leaf-salad-green'\n",
            " 'salad-leaf-salad-green' 'french-beans' 'salad-leaf-salad-green'\n",
            " 'french-beans' 'mixed-vegetables' 'strawberries' 'water' 'wine-white'\n",
            " 'pickle' 'biscuits' 'water-mineral' 'coffee-with-caffeine' 'tea'\n",
            " 'mixed-salad-chopped-without-sauce' 'bread-wholemeal' 'bread-wholemeal'\n",
            " 'strawberries' 'strawberries' 'water' 'french-beans' 'water' 'water'\n",
            " 'water' 'rice' 'rice' 'strawberries' 'water' 'croissant'\n",
            " 'coffee-with-caffeine' 'salad-leaf-salad-green' 'strawberries'\n",
            " 'mixed-salad-chopped-without-sauce' 'banana' 'french-beans' 'croissant'\n",
            " 'water' 'broccoli' 'broccoli' 'coffee-with-caffeine'\n",
            " 'mixed-salad-chopped-without-sauce' 'mixed-salad-chopped-without-sauce'\n",
            " 'strawberries' 'coffee-with-caffeine' 'salad-leaf-salad-green'\n",
            " 'bread-wholemeal' 'butter' 'salad-leaf-salad-green' 'croissant'\n",
            " 'coffee-with-caffeine' 'water' 'croissant' 'salad-leaf-salad-green'\n",
            " 'salad-leaf-salad-green' 'salad-leaf-salad-green' 'coffee-with-caffeine'\n",
            " 'wine-white' 'tomato' 'broccoli' 'pasta-spaghetti' 'water'\n",
            " 'bread-wholemeal' 'mixed-salad-chopped-without-sauce']\n"
          ],
          "name": "stdout"
        }
      ]
    },
    {
      "cell_type": "code",
      "metadata": {
        "id": "rEYD0cqZ0l1U"
      },
      "source": [
        "data = pd.DataFrame({\"ImageId\":imageid,\"ClassName\":pred_list})\n",
        "\n",
        "data.to_csv(\"/content/drive/My Drive/submission2.csv\", index = False)"
      ],
      "execution_count": 30,
      "outputs": []
    },
    {
      "cell_type": "code",
      "metadata": {
        "colab": {
          "base_uri": "https://localhost:8080/"
        },
        "id": "KrY1AaHu0hLA",
        "outputId": "1c1dcf97-94ee-41cf-ecaf-06e9f12aacd3"
      },
      "source": [
        "submission = pd.read_csv('/content/drive/My Drive/submission2.csv')\n",
        "\n",
        "print(submission.head())"
      ],
      "execution_count": 31,
      "outputs": [
        {
          "output_type": "stream",
          "text": [
            "          ImageId             ClassName\n",
            "0  90e63a2fde.jpg                 water\n",
            "1  a554d1ca8d.jpg                 water\n",
            "2  48317e8ee8.jpg  coffee-with-caffeine\n",
            "3  79528df667.jpg           hard-cheese\n",
            "4  6d2f2f63f5.jpg       bread-wholemeal\n"
          ],
          "name": "stdout"
        }
      ]
    },
    {
      "cell_type": "code",
      "metadata": {
        "colab": {
          "base_uri": "https://localhost:8080/"
        },
        "id": "JyNyOSvK1Zto",
        "outputId": "ee3e5128-329a-4d19-f854-1b3bfc965bab"
      },
      "source": [
        "!pip install aicrowd-cli"
      ],
      "execution_count": 1,
      "outputs": [
        {
          "output_type": "stream",
          "text": [
            "Requirement already satisfied: aicrowd-cli in /usr/local/lib/python3.7/dist-packages (0.1.2)\n",
            "Requirement already satisfied: gitpython<4,>=3.1.12 in /usr/local/lib/python3.7/dist-packages (from aicrowd-cli) (3.1.14)\n",
            "Requirement already satisfied: toml<1,>=0.10.2 in /usr/local/lib/python3.7/dist-packages (from aicrowd-cli) (0.10.2)\n",
            "Requirement already satisfied: click<8,>=7.1.2 in /usr/local/lib/python3.7/dist-packages (from aicrowd-cli) (7.1.2)\n",
            "Requirement already satisfied: requests<3,>=2.25.1 in /usr/local/lib/python3.7/dist-packages (from aicrowd-cli) (2.25.1)\n",
            "Requirement already satisfied: tqdm<5,>=4.56.0 in /usr/local/lib/python3.7/dist-packages (from aicrowd-cli) (4.60.0)\n",
            "Requirement already satisfied: requests-toolbelt<1,>=0.9.1 in /usr/local/lib/python3.7/dist-packages (from aicrowd-cli) (0.9.1)\n",
            "Requirement already satisfied: rich<11,>=10.0.0 in /usr/local/lib/python3.7/dist-packages (from aicrowd-cli) (10.1.0)\n",
            "Requirement already satisfied: gitdb<5,>=4.0.1 in /usr/local/lib/python3.7/dist-packages (from gitpython<4,>=3.1.12->aicrowd-cli) (4.0.7)\n",
            "Requirement already satisfied: chardet<5,>=3.0.2 in /usr/local/lib/python3.7/dist-packages (from requests<3,>=2.25.1->aicrowd-cli) (3.0.4)\n",
            "Requirement already satisfied: certifi>=2017.4.17 in /usr/local/lib/python3.7/dist-packages (from requests<3,>=2.25.1->aicrowd-cli) (2020.12.5)\n",
            "Requirement already satisfied: urllib3<1.27,>=1.21.1 in /usr/local/lib/python3.7/dist-packages (from requests<3,>=2.25.1->aicrowd-cli) (1.24.3)\n",
            "Requirement already satisfied: idna<3,>=2.5 in /usr/local/lib/python3.7/dist-packages (from requests<3,>=2.25.1->aicrowd-cli) (2.10)\n",
            "Requirement already satisfied: commonmark<0.10.0,>=0.9.0 in /usr/local/lib/python3.7/dist-packages (from rich<11,>=10.0.0->aicrowd-cli) (0.9.1)\n",
            "Requirement already satisfied: pygments<3.0.0,>=2.6.0 in /usr/local/lib/python3.7/dist-packages (from rich<11,>=10.0.0->aicrowd-cli) (2.6.1)\n",
            "Requirement already satisfied: typing-extensions<4.0.0,>=3.7.4 in /usr/local/lib/python3.7/dist-packages (from rich<11,>=10.0.0->aicrowd-cli) (3.7.4.3)\n",
            "Requirement already satisfied: colorama<0.5.0,>=0.4.0 in /usr/local/lib/python3.7/dist-packages (from rich<11,>=10.0.0->aicrowd-cli) (0.4.4)\n",
            "Requirement already satisfied: smmap<5,>=3.0.1 in /usr/local/lib/python3.7/dist-packages (from gitdb<5,>=4.0.1->gitpython<4,>=3.1.12->aicrowd-cli) (4.0.0)\n"
          ],
          "name": "stdout"
        }
      ]
    },
    {
      "cell_type": "code",
      "metadata": {
        "colab": {
          "base_uri": "https://localhost:8080/"
        },
        "id": "VCntFBCp1mFw",
        "outputId": "48e8ab56-f3c2-4e3d-90f5-3ae1cd56303c"
      },
      "source": [
        "API_KEY = \"c3a15f9920d6600174c1d22216f4079f\" #Please enter your API Key from [https://www.aicrowd.com/participants/me]\n",
        "!aicrowd login --api-key $API_KEY"
      ],
      "execution_count": 2,
      "outputs": [
        {
          "output_type": "stream",
          "text": [
            "\u001b[32mAPI Key valid\u001b[0m\n",
            "\u001b[32mSaved API Key successfully!\u001b[0m\n"
          ],
          "name": "stdout"
        }
      ]
    },
    {
      "cell_type": "code",
      "metadata": {
        "colab": {
          "base_uri": "https://localhost:8080/"
        },
        "id": "Z7P8uFzj1zzc",
        "outputId": "0688e771-f2d4-47b9-8b1e-f95ab13e8fc5"
      },
      "source": [
        "!aicrowd submission create -c chunin-exams-food-track-cv-2021 -f '/content/drive/My Drive/submission2.csv'"
      ],
      "execution_count": 3,
      "outputs": [
        {
          "output_type": "stream",
          "text": [
            "\u001b[2K\u001b[1;34msubmission2.csv\u001b[0m \u001b[90m━━━━━━━━━━━━━━━━━━━━━\u001b[0m \u001b[35m100.0%\u001b[0m • \u001b[32m15.7/14.1 KB\u001b[0m • \u001b[31m2.8 MB/s\u001b[0m • \u001b[36m0:00:00\u001b[0m\n",
            "\u001b[?25h                                               ╭─────────────────────────╮                                               \n",
            "                                               │ \u001b[1mSuccessfully submitted!\u001b[0m │                                               \n",
            "                                               ╰─────────────────────────╯                                               \n",
            "\u001b[3m                                                     Important links                                                     \u001b[0m\n",
            "┌──────────────────┬────────────────────────────────────────────────────────────────────────────────────────────────────┐\n",
            "│  This submission │ https://www.aicrowd.com/challenges/chunin-exams-food-track-cv-2021/submissions/131028              │\n",
            "│                  │                                                                                                    │\n",
            "│  All submissions │ https://www.aicrowd.com/challenges/chunin-exams-food-track-cv-2021/submissions?my_submissions=true │\n",
            "│                  │                                                                                                    │\n",
            "│      Leaderboard │ https://www.aicrowd.com/challenges/chunin-exams-food-track-cv-2021/leaderboards                    │\n",
            "│                  │                                                                                                    │\n",
            "│ Discussion forum │ https://discourse.aicrowd.com/c/chunin-exams-food-track-cv-2021                                    │\n",
            "│                  │                                                                                                    │\n",
            "│   Challenge page │ https://www.aicrowd.com/challenges/chunin-exams-food-track-cv-2021                                 │\n",
            "└──────────────────┴────────────────────────────────────────────────────────────────────────────────────────────────────┘\n",
            "{'submission_id': 131028, 'created_at': '2021-04-18T08:57:35.771Z'}\n"
          ],
          "name": "stdout"
        }
      ]
    },
    {
      "cell_type": "code",
      "metadata": {
        "id": "ncnrDMmS24a3"
      },
      "source": [
        ""
      ],
      "execution_count": null,
      "outputs": []
    }
  ]
}